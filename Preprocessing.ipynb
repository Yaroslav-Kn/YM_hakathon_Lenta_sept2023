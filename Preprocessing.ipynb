{
 "cells": [
  {
   "cell_type": "markdown",
   "id": "10ab2ea7",
   "metadata": {},
   "source": [
    "# Preprocessing"
   ]
  },
  {
   "cell_type": "code",
   "execution_count": 1,
   "id": "92830460",
   "metadata": {},
   "outputs": [],
   "source": [
    "import pandas as pd\n",
    "import matplotlib.pyplot as plt\n",
    "from tqdm import tqdm\n",
    "import os\n",
    "\n",
    "import warnings\n",
    "\n",
    "warnings.filterwarnings('ignore')"
   ]
  },
  {
   "cell_type": "markdown",
   "id": "99553965",
   "metadata": {},
   "source": [
    "Пропишем требуемые пути и откроем данные"
   ]
  },
  {
   "cell_type": "code",
   "execution_count": 2,
   "id": "a3fdb854",
   "metadata": {},
   "outputs": [],
   "source": [
    "cwd = os.getcwd()\n",
    "\n",
    "PATH_SALES_DF_TRAIN = cwd + '/data/raw/sales_df_train.csv'\n",
    "PATH_PR_DF = cwd + '/data/raw/pr_df.csv'\n",
    "PATH_ST_DF = cwd + '/data/raw/st_df.csv'\n",
    "\n",
    "PATH_TO_SAVE_SALES_TRAIN_DF = cwd + '/data/preprocessing/preproc_sales_df_train.csv'\n",
    "PATH_TO_SAVE_ST_DF = cwd + '/data/preprocessing/preproc_st_df.csv'\n",
    "PATH_TO_SAVE_PR_DF = cwd + '/data/preprocessing/preproc_pr_df.csv'\n",
    "PATH_TO_SAVE_TRAIN_DF = cwd + '/data/preprocessing/preproc_df_train.csv'\n",
    "\n",
    "PATH_TO_SAVE_SALES_TRAIN_DF_NO_OTLIERS = cwd + '/data/preprocessing/preproc_sales_df_train_no.csv'\n",
    "PATH_TO_SAVE_TRAIN_DF_NO_OTLIERS = cwd + '/data/preprocessing/preproc_df_train_no.csv'\n",
    "\n",
    "PATH_TO_SAVE_TEST_DF = cwd + '/data/preprocessing/preproc_df_test.csv'\n",
    "PATH_TO_SAVE_TEST_DF_NO_OTLIERS = cwd + '/data/preprocessing/preproc_df_test_no.csv'"
   ]
  },
  {
   "cell_type": "code",
   "execution_count": 3,
   "id": "1411c969",
   "metadata": {},
   "outputs": [],
   "source": [
    "sales_df_train = pd.read_csv(PATH_SALES_DF_TRAIN)\n",
    "pr_df = pd.read_csv(PATH_PR_DF)\n",
    "st_df = pd.read_csv(PATH_ST_DF)"
   ]
  },
  {
   "cell_type": "code",
   "execution_count": 4,
   "id": "fac60bdc",
   "metadata": {},
   "outputs": [
    {
     "data": {
      "text/html": [
       "<div>\n",
       "<style scoped>\n",
       "    .dataframe tbody tr th:only-of-type {\n",
       "        vertical-align: middle;\n",
       "    }\n",
       "\n",
       "    .dataframe tbody tr th {\n",
       "        vertical-align: top;\n",
       "    }\n",
       "\n",
       "    .dataframe thead th {\n",
       "        text-align: right;\n",
       "    }\n",
       "</style>\n",
       "<table border=\"1\" class=\"dataframe\">\n",
       "  <thead>\n",
       "    <tr style=\"text-align: right;\">\n",
       "      <th></th>\n",
       "      <th>st_id</th>\n",
       "      <th>pr_sku_id</th>\n",
       "      <th>date</th>\n",
       "      <th>pr_sales_type_id</th>\n",
       "      <th>pr_sales_in_units</th>\n",
       "      <th>pr_promo_sales_in_units</th>\n",
       "      <th>pr_sales_in_rub</th>\n",
       "      <th>pr_promo_sales_in_rub</th>\n",
       "    </tr>\n",
       "  </thead>\n",
       "  <tbody>\n",
       "    <tr>\n",
       "      <th>0</th>\n",
       "      <td>c81e728d9d4c2f636f067f89cc14862c</td>\n",
       "      <td>c7b711619071c92bef604c7ad68380dd</td>\n",
       "      <td>2022-10-20</td>\n",
       "      <td>1</td>\n",
       "      <td>5.0</td>\n",
       "      <td>5.0</td>\n",
       "      <td>825.0</td>\n",
       "      <td>825.0</td>\n",
       "    </tr>\n",
       "    <tr>\n",
       "      <th>1</th>\n",
       "      <td>42a0e188f5033bc65bf8d78622277c4e</td>\n",
       "      <td>68f441429e73dbd33b81f95da31576e9</td>\n",
       "      <td>2023-01-29</td>\n",
       "      <td>0</td>\n",
       "      <td>4.0</td>\n",
       "      <td>0.0</td>\n",
       "      <td>196.0</td>\n",
       "      <td>0.0</td>\n",
       "    </tr>\n",
       "    <tr>\n",
       "      <th>2</th>\n",
       "      <td>1ecfb463472ec9115b10c292ef8bc986</td>\n",
       "      <td>22988026fe85fde60d8bf777ab6bc3b4</td>\n",
       "      <td>2023-03-02</td>\n",
       "      <td>0</td>\n",
       "      <td>1.0</td>\n",
       "      <td>0.0</td>\n",
       "      <td>78.0</td>\n",
       "      <td>0.0</td>\n",
       "    </tr>\n",
       "    <tr>\n",
       "      <th>3</th>\n",
       "      <td>42a0e188f5033bc65bf8d78622277c4e</td>\n",
       "      <td>8e887cf8e64ab8e7173701a979476567</td>\n",
       "      <td>2023-04-05</td>\n",
       "      <td>1</td>\n",
       "      <td>0.0</td>\n",
       "      <td>0.0</td>\n",
       "      <td>69.0</td>\n",
       "      <td>69.0</td>\n",
       "    </tr>\n",
       "    <tr>\n",
       "      <th>4</th>\n",
       "      <td>16a5cdae362b8d27a1d8f8c7b78b4330</td>\n",
       "      <td>e6fc24ca846339d204b0b50e9f772484</td>\n",
       "      <td>2023-02-17</td>\n",
       "      <td>0</td>\n",
       "      <td>1.0</td>\n",
       "      <td>0.0</td>\n",
       "      <td>161.0</td>\n",
       "      <td>0.0</td>\n",
       "    </tr>\n",
       "    <tr>\n",
       "      <th>...</th>\n",
       "      <td>...</td>\n",
       "      <td>...</td>\n",
       "      <td>...</td>\n",
       "      <td>...</td>\n",
       "      <td>...</td>\n",
       "      <td>...</td>\n",
       "      <td>...</td>\n",
       "      <td>...</td>\n",
       "    </tr>\n",
       "    <tr>\n",
       "      <th>883010</th>\n",
       "      <td>c81e728d9d4c2f636f067f89cc14862c</td>\n",
       "      <td>a0150fefa71d6606d5e642fa0e7b8ad8</td>\n",
       "      <td>2022-12-13</td>\n",
       "      <td>1</td>\n",
       "      <td>1.0</td>\n",
       "      <td>1.0</td>\n",
       "      <td>33.0</td>\n",
       "      <td>33.0</td>\n",
       "    </tr>\n",
       "    <tr>\n",
       "      <th>883011</th>\n",
       "      <td>42a0e188f5033bc65bf8d78622277c4e</td>\n",
       "      <td>5b146d93f822459260216df28e572eca</td>\n",
       "      <td>2023-04-18</td>\n",
       "      <td>0</td>\n",
       "      <td>1.0</td>\n",
       "      <td>0.0</td>\n",
       "      <td>192.0</td>\n",
       "      <td>0.0</td>\n",
       "    </tr>\n",
       "    <tr>\n",
       "      <th>883012</th>\n",
       "      <td>42a0e188f5033bc65bf8d78622277c4e</td>\n",
       "      <td>c8bd18ea08d2f47cb0a7992f11ada9de</td>\n",
       "      <td>2022-08-16</td>\n",
       "      <td>0</td>\n",
       "      <td>5.0</td>\n",
       "      <td>0.0</td>\n",
       "      <td>970.0</td>\n",
       "      <td>0.0</td>\n",
       "    </tr>\n",
       "    <tr>\n",
       "      <th>883013</th>\n",
       "      <td>f7e6c85504ce6e82442c770f7c8606f0</td>\n",
       "      <td>b960c6ee5b5efa12e73f810204b561a8</td>\n",
       "      <td>2023-04-23</td>\n",
       "      <td>0</td>\n",
       "      <td>4.0</td>\n",
       "      <td>0.0</td>\n",
       "      <td>262.0</td>\n",
       "      <td>0.0</td>\n",
       "    </tr>\n",
       "    <tr>\n",
       "      <th>883014</th>\n",
       "      <td>16a5cdae362b8d27a1d8f8c7b78b4330</td>\n",
       "      <td>cff633e270708ced01bc585eb1421667</td>\n",
       "      <td>2023-01-19</td>\n",
       "      <td>0</td>\n",
       "      <td>4.0</td>\n",
       "      <td>0.0</td>\n",
       "      <td>225.0</td>\n",
       "      <td>0.0</td>\n",
       "    </tr>\n",
       "  </tbody>\n",
       "</table>\n",
       "<p>883015 rows × 8 columns</p>\n",
       "</div>"
      ],
      "text/plain": [
       "                                   st_id                         pr_sku_id  \\\n",
       "0       c81e728d9d4c2f636f067f89cc14862c  c7b711619071c92bef604c7ad68380dd   \n",
       "1       42a0e188f5033bc65bf8d78622277c4e  68f441429e73dbd33b81f95da31576e9   \n",
       "2       1ecfb463472ec9115b10c292ef8bc986  22988026fe85fde60d8bf777ab6bc3b4   \n",
       "3       42a0e188f5033bc65bf8d78622277c4e  8e887cf8e64ab8e7173701a979476567   \n",
       "4       16a5cdae362b8d27a1d8f8c7b78b4330  e6fc24ca846339d204b0b50e9f772484   \n",
       "...                                  ...                               ...   \n",
       "883010  c81e728d9d4c2f636f067f89cc14862c  a0150fefa71d6606d5e642fa0e7b8ad8   \n",
       "883011  42a0e188f5033bc65bf8d78622277c4e  5b146d93f822459260216df28e572eca   \n",
       "883012  42a0e188f5033bc65bf8d78622277c4e  c8bd18ea08d2f47cb0a7992f11ada9de   \n",
       "883013  f7e6c85504ce6e82442c770f7c8606f0  b960c6ee5b5efa12e73f810204b561a8   \n",
       "883014  16a5cdae362b8d27a1d8f8c7b78b4330  cff633e270708ced01bc585eb1421667   \n",
       "\n",
       "              date  pr_sales_type_id  pr_sales_in_units  \\\n",
       "0       2022-10-20                 1                5.0   \n",
       "1       2023-01-29                 0                4.0   \n",
       "2       2023-03-02                 0                1.0   \n",
       "3       2023-04-05                 1                0.0   \n",
       "4       2023-02-17                 0                1.0   \n",
       "...            ...               ...                ...   \n",
       "883010  2022-12-13                 1                1.0   \n",
       "883011  2023-04-18                 0                1.0   \n",
       "883012  2022-08-16                 0                5.0   \n",
       "883013  2023-04-23                 0                4.0   \n",
       "883014  2023-01-19                 0                4.0   \n",
       "\n",
       "        pr_promo_sales_in_units  pr_sales_in_rub  pr_promo_sales_in_rub  \n",
       "0                           5.0            825.0                  825.0  \n",
       "1                           0.0            196.0                    0.0  \n",
       "2                           0.0             78.0                    0.0  \n",
       "3                           0.0             69.0                   69.0  \n",
       "4                           0.0            161.0                    0.0  \n",
       "...                         ...              ...                    ...  \n",
       "883010                      1.0             33.0                   33.0  \n",
       "883011                      0.0            192.0                    0.0  \n",
       "883012                      0.0            970.0                    0.0  \n",
       "883013                      0.0            262.0                    0.0  \n",
       "883014                      0.0            225.0                    0.0  \n",
       "\n",
       "[883015 rows x 8 columns]"
      ]
     },
     "execution_count": 4,
     "metadata": {},
     "output_type": "execute_result"
    }
   ],
   "source": [
    "sales_df_train"
   ]
  },
  {
   "cell_type": "markdown",
   "id": "32e3f6b0",
   "metadata": {},
   "source": [
    "Поскольку предсказывать будем только общее количество продаж товара(pr_sales_in_units), то в датасете sales_df_train оставим только столбцы st_id, pr_sku_id (для джойна с другими датасетами), столбец с датой date и целевой признок pr_sales_in_units"
   ]
  },
  {
   "cell_type": "code",
   "execution_count": 5,
   "id": "2d1e4c6e",
   "metadata": {},
   "outputs": [],
   "source": [
    "sales_df_train = sales_df_train[['st_id', 'pr_sales_type_id', 'pr_sku_id', 'date', 'pr_sales_in_units']]"
   ]
  },
  {
   "cell_type": "markdown",
   "id": "45507f40",
   "metadata": {},
   "source": [
    "## Предообработка данных по товарам"
   ]
  },
  {
   "cell_type": "markdown",
   "id": "45e77245",
   "metadata": {},
   "source": [
    "Согласно EDA нам необходимо сделать метку для отнесения товара к той или иной категории, согласно динамике цен на них добавим такой столбец в датасет pr_df. Создадим соответствующую функцию."
   ]
  },
  {
   "cell_type": "code",
   "execution_count": 6,
   "id": "eefe07a9",
   "metadata": {},
   "outputs": [],
   "source": [
    "def get_cat(df):\n",
    "    df.loc[df['pr_cat_id']=='c559da2ba967eb820766939a658022c8', 'group_cat'] = 'cat_1'\n",
    "    df.loc[df['pr_subcat_id']=='60787c41b04097dfea76addfccd12243', 'group_cat'] = 'cat_2'\n",
    "    df.loc[df['pr_subcat_id']=='ca34f669ae367c87f0e75dcae0f61ee5', 'group_cat'] = 'cat_3'\n",
    "    df.loc[df['pr_cat_id'].isin(['e58cc5ca94270acaceed13bc82dfedf7', \n",
    "                                          'fb2fcd534b0ff3bbed73cc51df620323']), 'group_cat'] = 'cat_4'\n",
    "    df.loc[df['pr_cat_id'].isin(['3de2334a314a7a72721f1f74a6cb4cee', \n",
    "                                          'f3173935ed8ac4bf073c1bcd63171f8a',\n",
    "                                          'b59c67bf196a4758191e42f76670ceba']), 'group_cat'] = 'cat_5'\n",
    "    df.loc[df['pr_cat_id'].isin(['28fc2782ea7ef51c1104ccf7b9bea13d', \n",
    "                                          '9701a1c165dd9420816bfec5edd6c2b1', \n",
    "                                          '5caf41d62364d5b41a893adc1a9dd5d4', \n",
    "                                          '186a157b2992e7daed3677ce8e9fe40f', \n",
    "                                          '2df45244f09369e16ea3f9117ca45157', \n",
    "                                          '6d9c547cf146054a5a720606a7694467', \n",
    "                                          '535ab76633d94208236a2e829ea6d888', \n",
    "                                          'a6ea8471c120fe8cc35a2954c9b9c595']), 'group_cat'] = 'cat_6'\n",
    "    df.loc[df['pr_cat_id']=='f9ab16852d455ce9203da64f4fc7f92d', 'group_cat'] = 'cat_7'\n",
    "    df.loc[df['pr_cat_id'].isin(['b7087c1f4f89e63af8d46f3b20271153', \n",
    "                                          'f93882cbd8fc7fb794c1011d63be6fb6']), 'group_cat'] = 'cat_8'\n",
    "    df.loc[df['pr_cat_id']=='faafda66202d234463057972460c04f5', 'group_cat'] = 'cat_9'\n",
    "    df.loc[df['pr_cat_id']=='fd5c905bcd8c3348ad1b35d7231ee2b1', 'group_cat'] = 'cat_10'\n",
    "    df.loc[df['pr_cat_id']=='c9f95a0a5af052bffce5c89917335f67', 'group_cat'] = 'cat_11'\n",
    "    df['group_cat'] = df['group_cat'].fillna('cat_12')\n",
    "    df = df.drop(['pr_cat_id', 'pr_subcat_id', 'pr_uom_id'], axis=1)\n",
    "    return df"
   ]
  },
  {
   "cell_type": "code",
   "execution_count": 7,
   "id": "16cf0773",
   "metadata": {},
   "outputs": [],
   "source": [
    "pr_df = get_cat(pr_df)"
   ]
  },
  {
   "cell_type": "markdown",
   "id": "38fe90bf",
   "metadata": {},
   "source": [
    "Переименуем столбец"
   ]
  },
  {
   "cell_type": "code",
   "execution_count": 8,
   "id": "e013a9db",
   "metadata": {},
   "outputs": [
    {
     "data": {
      "text/html": [
       "<div>\n",
       "<style scoped>\n",
       "    .dataframe tbody tr th:only-of-type {\n",
       "        vertical-align: middle;\n",
       "    }\n",
       "\n",
       "    .dataframe tbody tr th {\n",
       "        vertical-align: top;\n",
       "    }\n",
       "\n",
       "    .dataframe thead th {\n",
       "        text-align: right;\n",
       "    }\n",
       "</style>\n",
       "<table border=\"1\" class=\"dataframe\">\n",
       "  <thead>\n",
       "    <tr style=\"text-align: right;\">\n",
       "      <th></th>\n",
       "      <th>pr_sku_id</th>\n",
       "      <th>pr_group_id</th>\n",
       "      <th>group_cat</th>\n",
       "    </tr>\n",
       "  </thead>\n",
       "  <tbody>\n",
       "    <tr>\n",
       "      <th>0</th>\n",
       "      <td>fd064933250b0bfe4f926b867b0a5ec8</td>\n",
       "      <td>c74d97b01eae257e44aa9d5bade97baf</td>\n",
       "      <td>cat_3</td>\n",
       "    </tr>\n",
       "    <tr>\n",
       "      <th>1</th>\n",
       "      <td>71c9661741caf40a92a32d1cc8206c04</td>\n",
       "      <td>c74d97b01eae257e44aa9d5bade97baf</td>\n",
       "      <td>cat_1</td>\n",
       "    </tr>\n",
       "    <tr>\n",
       "      <th>2</th>\n",
       "      <td>00b72c2f01a1512cbb1d3f33319bac93</td>\n",
       "      <td>c74d97b01eae257e44aa9d5bade97baf</td>\n",
       "      <td>cat_12</td>\n",
       "    </tr>\n",
       "    <tr>\n",
       "      <th>3</th>\n",
       "      <td>9bc40cd2fe4f188f402bb41548c5e15c</td>\n",
       "      <td>c74d97b01eae257e44aa9d5bade97baf</td>\n",
       "      <td>cat_3</td>\n",
       "    </tr>\n",
       "    <tr>\n",
       "      <th>4</th>\n",
       "      <td>3a74a370c8eb032acb11ad9119242b8f</td>\n",
       "      <td>c74d97b01eae257e44aa9d5bade97baf</td>\n",
       "      <td>cat_1</td>\n",
       "    </tr>\n",
       "  </tbody>\n",
       "</table>\n",
       "</div>"
      ],
      "text/plain": [
       "                          pr_sku_id                       pr_group_id  \\\n",
       "0  fd064933250b0bfe4f926b867b0a5ec8  c74d97b01eae257e44aa9d5bade97baf   \n",
       "1  71c9661741caf40a92a32d1cc8206c04  c74d97b01eae257e44aa9d5bade97baf   \n",
       "2  00b72c2f01a1512cbb1d3f33319bac93  c74d97b01eae257e44aa9d5bade97baf   \n",
       "3  9bc40cd2fe4f188f402bb41548c5e15c  c74d97b01eae257e44aa9d5bade97baf   \n",
       "4  3a74a370c8eb032acb11ad9119242b8f  c74d97b01eae257e44aa9d5bade97baf   \n",
       "\n",
       "  group_cat  \n",
       "0     cat_3  \n",
       "1     cat_1  \n",
       "2    cat_12  \n",
       "3     cat_3  \n",
       "4     cat_1  "
      ]
     },
     "execution_count": 8,
     "metadata": {},
     "output_type": "execute_result"
    }
   ],
   "source": [
    "pr_df.head()"
   ]
  },
  {
   "cell_type": "markdown",
   "id": "769e0487",
   "metadata": {},
   "source": [
    "Сохраним получившийся датасет"
   ]
  },
  {
   "cell_type": "code",
   "execution_count": 9,
   "id": "665609c9",
   "metadata": {},
   "outputs": [],
   "source": [
    "pr_df.to_csv(PATH_TO_SAVE_PR_DF)"
   ]
  },
  {
   "cell_type": "markdown",
   "id": "ed986dee",
   "metadata": {},
   "source": [
    "Присоединим получившийся датасет к исходным данным"
   ]
  },
  {
   "cell_type": "code",
   "execution_count": 10,
   "id": "8f337da0",
   "metadata": {},
   "outputs": [],
   "source": [
    "sales_df_train = sales_df_train.merge(pr_df, on ='pr_sku_id')"
   ]
  },
  {
   "cell_type": "markdown",
   "id": "10e6e2e2",
   "metadata": {},
   "source": [
    "## Предообработка данных по продажам"
   ]
  },
  {
   "cell_type": "markdown",
   "id": "5ce4bd16",
   "metadata": {},
   "source": [
    "Создадим функцию, которая будет группировать данные по уникальным сочитаниям даты, id магазина и категории товара, для тренировочного датасета и по соетаниям даты, id магазина и id товара для тестовых"
   ]
  },
  {
   "cell_type": "code",
   "execution_count": 11,
   "id": "0a3fc946",
   "metadata": {},
   "outputs": [],
   "source": [
    "def get_group_and_agg(df, is_train=True):\n",
    "    #укажем столбцы для группировки и проведём аггрегацию данных\n",
    "    if is_train:\n",
    "        group_column = ['st_id', 'group_cat', 'pr_sales_type_id']\n",
    "    else:\n",
    "        group_column = ['st_id', 'pr_sku_id', 'pr_sales_type_id']\n",
    "        \n",
    "    df = (df.groupby(['date', *group_column])['pr_sales_in_units']\n",
    "                       .agg('mean')\n",
    "                       .reset_index(drop=False)\n",
    "                       .sort_values(['date', *group_column]))       \n",
    "    if is_train:\n",
    "        df['group_column'] = df['st_id'] + '_' + df['group_cat']\n",
    "    else:\n",
    "        df['group_column'] = df['st_id'] + '_' + df['pr_sku_id']\n",
    "    return df "
   ]
  },
  {
   "cell_type": "markdown",
   "id": "ca4ba8cf",
   "metadata": {},
   "source": [
    "Напишем функцию, которая привёдт дату к нормальному формату и выделит ряд некоторые признаки"
   ]
  },
  {
   "cell_type": "code",
   "execution_count": 12,
   "id": "d99a1337",
   "metadata": {},
   "outputs": [],
   "source": [
    "def get_date_and_weekday(df):\n",
    "    #приведём дату в нужный формат, укажем новый индекс и день недели\n",
    "    df['date'] = pd.to_datetime(df['date'])\n",
    "    df.index = df['date']\n",
    "    df['weekday'] = df['date'].dt.weekday \n",
    "    df = df.drop('date', axis=1)\n",
    "    df['weekend'] = (df['weekday'] == 5) | (df['weekday'] == 6)\n",
    "    for i in range(7):\n",
    "        df[f'weekday_{i}'] = df['weekday']==i\n",
    "    return df"
   ]
  },
  {
   "cell_type": "markdown",
   "id": "cc0bef82",
   "metadata": {},
   "source": [
    "Поскольку данных много и для данных для предсказаний функции извлечения признаков на полном датасете будут работать долго, то создадим функцию для создания словаря датасетов, что значительно увеличит скорость работы."
   ]
  },
  {
   "cell_type": "code",
   "execution_count": 13,
   "id": "a16de74c",
   "metadata": {},
   "outputs": [],
   "source": [
    "def get_dict(df, group_column):\n",
    "    dict_df = {} \n",
    "    \n",
    "    df_date = pd.DataFrame(data=df['date'].copy(deep=True).unique(), columns=['date'])\n",
    "    for x in df[group_column].unique():\n",
    "        new_df = df.loc[df[group_column]==x].copy(deep=True).reset_index(drop=True)\n",
    "        \n",
    "        list_col = list(new_df.columns)\n",
    "        list_col.remove('pr_sales_in_units')\n",
    "        dict_for_fillna = {k: new_df.loc[0, k] for k in list_col}\n",
    "        \n",
    "        new_df = new_df.merge(df_date, how='right')\n",
    "        \n",
    "        for k, v in dict_for_fillna.items():\n",
    "            new_df[k] = new_df[k].fillna(v)\n",
    "        \n",
    "        new_df['pr_sales_in_units'] = new_df['pr_sales_in_units'].fillna(0.01)\n",
    "        dict_df[x] = new_df\n",
    "    return dict_df"
   ]
  },
  {
   "cell_type": "markdown",
   "id": "224b1da7",
   "metadata": {},
   "source": [
    "Нам необходимо почистить данные от выбросов в качеств определяющего значения будем брать отношение текущего значени продаж к скользящему среднему за 30 дней. Чтобы определить порог выброса построим график"
   ]
  },
  {
   "cell_type": "code",
   "execution_count": 14,
   "id": "c4ac9c5e",
   "metadata": {},
   "outputs": [],
   "source": [
    "df_ts = get_group_and_agg(sales_df_train)\n",
    "dict_df = get_dict(df_ts, 'group_column')\n",
    "for name_df in dict_df:\n",
    "    df = dict_df[name_df].copy(deep=True)\n",
    "    df = get_date_and_weekday(df)\n",
    "    dict_df[name_df] = df"
   ]
  },
  {
   "cell_type": "code",
   "execution_count": 15,
   "id": "562f776c",
   "metadata": {},
   "outputs": [],
   "source": [
    "new_dict={}\n",
    "for df_name in dict_df:\n",
    "    df_date = dict_df[df_name].copy(deep=True)\n",
    "    new_name_mean = 'rolling_mean_30'\n",
    "    df_date[new_name_mean] = (df_date['pr_sales_in_units']\n",
    "                                           .shift()\n",
    "                                           .rolling(30)\n",
    "                                           .mean())\n",
    "    df_date = df_date[['pr_sales_in_units', 'rolling_mean_30']]\n",
    "    df_date['ratio'] =  df_date['pr_sales_in_units'] / df_date['rolling_mean_30']\n",
    "    new_dict[df_name] = df_date"
   ]
  },
  {
   "cell_type": "code",
   "execution_count": 16,
   "id": "306d0d6f",
   "metadata": {},
   "outputs": [],
   "source": [
    "df_date = pd.concat(new_dict.values(),axis=0).sort_index()\n",
    "df_date = df_date.groupby('date')['ratio'].agg('mean').resample(\"1D\").sum()"
   ]
  },
  {
   "cell_type": "code",
   "execution_count": 17,
   "id": "b1d389f4",
   "metadata": {},
   "outputs": [
    {
     "data": {
      "image/png": "[encoded data removed]",
      "text/plain": [
       "<Figure size 1200x600 with 1 Axes>"
      ]
     },
     "metadata": {},
     "output_type": "display_data"
    }
   ],
   "source": [
    "plt.figure(figsize=(12,6))\n",
    "plt.plot(df_date)\n",
    "plt.grid()\n",
    "plt.xticks(rotation=45)\n",
    "plt.show()"
   ]
  },
  {
   "cell_type": "markdown",
   "id": "aeae8680",
   "metadata": {},
   "source": [
    "В качестве порога возьмём значение 1,7 это позволит уменьшить влияние выбросов, но приэтом оставит пики в праздничные дни"
   ]
  },
  {
   "cell_type": "code",
   "execution_count": 18,
   "id": "1f158c8b",
   "metadata": {},
   "outputs": [],
   "source": [
    "del df_date, new_dict, df_ts"
   ]
  },
  {
   "cell_type": "markdown",
   "id": "7bfbcb63",
   "metadata": {},
   "source": [
    "Создадим функцию для обработки выбросов"
   ]
  },
  {
   "cell_type": "code",
   "execution_count": 19,
   "id": "c4d0338b",
   "metadata": {},
   "outputs": [],
   "source": [
    "def processing_outliers(df, column, threshold):\n",
    "    df['rolling_mean_30'] = (df[column]\n",
    "                           .shift()\n",
    "                           .rolling(30)\n",
    "                           .mean())\n",
    "    df.loc[df['rolling_mean_30']==0, 'rolling_mean_30'] = 0.001 #защита от деления на 0\n",
    "    df['ratio'] = df[column].shift() / df['rolling_mean_30']\n",
    "    df.loc[df['ratio'] > threshold, column] = df.loc[df['ratio'] > threshold, 'rolling_mean_30'] * threshold\n",
    "    df = df.drop(['ratio', 'rolling_mean_30'], axis=1)\n",
    "    return df"
   ]
  },
  {
   "cell_type": "markdown",
   "id": "9a6a96f1",
   "metadata": {},
   "source": [
    "Создадим функцию которая будет возвращать средню цену в определённый день за какое-то количество предшествующих недель, в дальнейшем будем получать данные за 4 недели."
   ]
  },
  {
   "cell_type": "code",
   "execution_count": 20,
   "id": "83ed2324",
   "metadata": {},
   "outputs": [],
   "source": [
    "def get_mean_in_day(df, weekday_column, column, n_week):\n",
    "    list_weekday_column = df[weekday_column].unique()\n",
    "    for day in list_weekday_column: \n",
    "        new_name_mean = f'mean_in_weekday_{n_week}_week'  \n",
    "        df.loc[(df[weekday_column]==day), new_name_mean] = (df[df[weekday_column]==day][column]\n",
    "                                                           .shift()\n",
    "                                                           .rolling(n_week)\n",
    "                                                           .mean())\n",
    "    df = df.drop(weekday_column, axis=1)     \n",
    "    return df"
   ]
  },
  {
   "cell_type": "markdown",
   "id": "b3270f42",
   "metadata": {},
   "source": [
    "Создадим функцию для получения скользящих статистик по каждой из группировок"
   ]
  },
  {
   "cell_type": "code",
   "execution_count": 21,
   "id": "b306aa9d",
   "metadata": {},
   "outputs": [],
   "source": [
    "def get_rolling(df, column, n_day_list):    \n",
    "    for n_day in n_day_list:\n",
    "        new_name_mean = f'rolling_mean_{n_day}'\n",
    "        new_name_max = f'rolling_max_{n_day}'\n",
    "        new_name_min = f'rolling_min_{n_day}'        \n",
    "        new_name_max_min = f'rolling_max_min_{n_day}'\n",
    "        new_name_ratio = f'rolling_ratio_{n_day}'     \n",
    "        df[new_name_mean] = (df[column]\n",
    "                               .shift()\n",
    "                               .rolling(n_day)\n",
    "                               .mean())\n",
    "        df[new_name_max] = (df[column]\n",
    "                               .shift()\n",
    "                               .rolling(n_day)\n",
    "                               .max())\n",
    "        df[new_name_min] = (df[column]\n",
    "                               .shift()\n",
    "                               .rolling(n_day)\n",
    "                               .min())\n",
    "        df[new_name_max_min] = (df[new_name_max] + df[new_name_min]) / 2\n",
    "        \n",
    "        df.loc[df[new_name_mean]==0, new_name_mean] = 0.001 #защита от деления на 0\n",
    "        df[new_name_ratio] = df[new_name_max_min] / df[new_name_mean]\n",
    "        df\n",
    "    return df"
   ]
  },
  {
   "cell_type": "markdown",
   "id": "22599696",
   "metadata": {},
   "source": [
    "Создадим функцию для получения лагов в каждой из группировок. Будем добавлять в датасет лаги в от 1 до 14 дней, затем также посчитаем среднее по лагам в 5, 6, 7 дней"
   ]
  },
  {
   "cell_type": "code",
   "execution_count": 22,
   "id": "1df66527",
   "metadata": {},
   "outputs": [],
   "source": [
    "def get_lag(df, column, n_day_list):\n",
    "    for n_day in n_day_list:\n",
    "        new_name = f'lag_{n_day}'\n",
    "        df[new_name] = (df[column].shift(n_day))        \n",
    "    df['mean_week_lag'] = df[['lag_5', 'lag_6', 'lag_7']].mean(axis=1)\n",
    "    return df"
   ]
  },
  {
   "cell_type": "markdown",
   "id": "74987030",
   "metadata": {},
   "source": [
    "Создадим функцию для обработки нового года, пасхи и праздников. "
   ]
  },
  {
   "cell_type": "code",
   "execution_count": 23,
   "id": "d6c08979",
   "metadata": {},
   "outputs": [],
   "source": [
    "def get_features_ny_e_h(df, list_holidays):\n",
    "    #Добавим флаг нового года и пасхи\n",
    "    df['new_year'] = df.index=='2023-01-01'\n",
    "    df['easter'] = df.index=='2023-04-16'\n",
    "    #\n",
    "    df['week_after_new_year'] = (df.index > '2023-01-01') & (df.index <= '2023-01-08')\n",
    "    df['week_after_easter'] = (df.index > '2023-04-16') & (df.index <= '2023-01-23')\n",
    "    # Добавим флаг после нового года и пасхи\n",
    "    df['week_befor_new_year'] = (df.index > '2022-12-24') & (df.index < '2023-01-01')\n",
    "    df['week_befor_easter'] = (df.index > '2023-04-09') & (df.index <= '2023-04-16')\n",
    "\n",
    "    #Обработаем список праздников\n",
    "    df['holiday'] = df.index.isin(list_holidays)\n",
    "    return df"
   ]
  },
  {
   "cell_type": "markdown",
   "id": "bec9b367",
   "metadata": {},
   "source": [
    "Создадим список с праздничными днями с учётом переносов"
   ]
  },
  {
   "cell_type": "code",
   "execution_count": 24,
   "id": "5f656dd4",
   "metadata": {},
   "outputs": [],
   "source": [
    "list_holidays = [\n",
    "    '2022-01-01',\n",
    "    '2022-01-02',\n",
    "    '2022-01-03',\n",
    "    '2022-01-04',\n",
    "    '2022-01-05',\n",
    "    '2022-01-06',\n",
    "    '2022-01-07',\n",
    "    '2022-01-08',\n",
    "    '2022-02-23',\n",
    "    '2022-03-08',\n",
    "    '2022-05-01',\n",
    "    '2022-05-09',\n",
    "    '2022-06-12',\n",
    "    '2022-11-04',\n",
    "    '2022-05-03',\n",
    "    '2022-05-10',\n",
    "    '2022-03-07', \n",
    "    '2023-01-01',\n",
    "    '2023-01-02',\n",
    "    '2023-01-03',\n",
    "    '2023-01-04',\n",
    "    '2023-01-05',\n",
    "    '2023-01-06',\n",
    "    '2023-01-07',\n",
    "    '2023-01-08',\n",
    "    '2023-02-23',\n",
    "    '2023-03-08',\n",
    "    '2023-05-01',\n",
    "    '2023-05-09',\n",
    "    '2023-06-12',\n",
    "    '2023-11-04',\n",
    "    '2023-02-24',\n",
    "    '2023-05-08',\n",
    "]"
   ]
  },
  {
   "cell_type": "markdown",
   "id": "a910a31d",
   "metadata": {},
   "source": [
    "Переименуем в таргет и добавим смещение в 14 дней "
   ]
  },
  {
   "cell_type": "code",
   "execution_count": 25,
   "id": "048d98df",
   "metadata": {},
   "outputs": [],
   "source": [
    "def get_target_diapazon(df, column, n_day, is_train=True):\n",
    "    df = df.copy(deep = True)\n",
    "    df = df.rename(columns = {'pr_sales_in_units': 'target_0'})\n",
    "    if is_train:\n",
    "        for n_day in range(1, n_day):           \n",
    "            new_name = f'target_{n_day}'\n",
    "            df[new_name] = df['target_0'].shift(-n_day)\n",
    "    return df"
   ]
  },
  {
   "cell_type": "markdown",
   "id": "66778c79",
   "metadata": {},
   "source": [
    "Напишем функцию, которая на вход будет принимать датасет, преобразовывать егов слоыварь, вызывать все функции, производить обратное преобразование из словаря и возвращать готовый датасет."
   ]
  },
  {
   "cell_type": "code",
   "execution_count": 26,
   "id": "0c644a94",
   "metadata": {},
   "outputs": [],
   "source": [
    "def get_features_for_ts(df, \n",
    "                        is_train = True, \n",
    "                        n_day_target = 14,\n",
    "                        column = 'pr_sales_in_units',\n",
    "                        weekday_column = 'weekday',\n",
    "                        n_week_for_lag = 4,\n",
    "                        n_day_rolling_list = [7, 14, 30],\n",
    "                        n_day_lag_list = list(range(1,15)),\n",
    "                        list_holidays = [],\n",
    "                        drop_outliers = False, \n",
    "                        threshold = 1.7):\n",
    "    print('Начата генерация признаков')\n",
    "    df = df.copy(deep = True)\n",
    "    df = get_group_and_agg(df, is_train) \n",
    "    new_dict = {}\n",
    "    dict_df = get_dict(df, 'group_column')\n",
    "    for x in tqdm(dict_df):\n",
    "        df = dict_df[x].copy(deep = True)         \n",
    "        if drop_outliers:\n",
    "            df = processing_outliers(df, column, threshold)\n",
    "        df = get_date_and_weekday(df)  \n",
    "        df = get_mean_in_day(df, weekday_column, column, n_week_for_lag)\n",
    "        df = get_rolling(df, column, n_day_rolling_list)\n",
    "        df = get_lag(df, column, n_day_lag_list)\n",
    "        df = get_features_ny_e_h(df, list_holidays)\n",
    "        df = get_target_diapazon(df, column, n_day_target, is_train=is_train)        \n",
    "        new_dict[x] = df\n",
    "        \n",
    "    return pd.concat(new_dict.values(),axis=0).sort_values(['date','group_column'])"
   ]
  },
  {
   "cell_type": "code",
   "execution_count": 27,
   "id": "d58b7b9d",
   "metadata": {},
   "outputs": [
    {
     "name": "stdout",
     "output_type": "stream",
     "text": [
      "Начата генерация признаков\n"
     ]
    },
    {
     "name": "stderr",
     "output_type": "stream",
     "text": [
      "100%|████████████████████████████████████████████████████████████████████████████████| 104/104 [00:02<00:00, 35.20it/s]\n"
     ]
    }
   ],
   "source": [
    "df_ts = get_features_for_ts(sales_df_train, list_holidays=list_holidays)"
   ]
  },
  {
   "cell_type": "code",
   "execution_count": 28,
   "id": "2c59a3ca",
   "metadata": {
    "scrolled": true
   },
   "outputs": [
    {
     "name": "stdout",
     "output_type": "stream",
     "text": [
      "Начата генерация признаков\n"
     ]
    },
    {
     "name": "stderr",
     "output_type": "stream",
     "text": [
      "100%|████████████████████████████████████████████████████████████████████████████████| 104/104 [00:03<00:00, 33.19it/s]\n"
     ]
    }
   ],
   "source": [
    "df_ts_no = get_features_for_ts(sales_df_train, list_holidays=list_holidays, drop_outliers = True)"
   ]
  },
  {
   "cell_type": "markdown",
   "id": "88d083c9",
   "metadata": {},
   "source": [
    "Выведем предобработанные датасеты"
   ]
  },
  {
   "cell_type": "code",
   "execution_count": 29,
   "id": "9c0a34d7",
   "metadata": {},
   "outputs": [
    {
     "data": {
      "text/html": [
       "<div>\n",
       "<style scoped>\n",
       "    .dataframe tbody tr th:only-of-type {\n",
       "        vertical-align: middle;\n",
       "    }\n",
       "\n",
       "    .dataframe tbody tr th {\n",
       "        vertical-align: top;\n",
       "    }\n",
       "\n",
       "    .dataframe thead th {\n",
       "        text-align: right;\n",
       "    }\n",
       "</style>\n",
       "<table border=\"1\" class=\"dataframe\">\n",
       "  <thead>\n",
       "    <tr style=\"text-align: right;\">\n",
       "      <th></th>\n",
       "      <th>st_id</th>\n",
       "      <th>group_cat</th>\n",
       "      <th>pr_sales_type_id</th>\n",
       "      <th>target_0</th>\n",
       "      <th>group_column</th>\n",
       "      <th>weekend</th>\n",
       "      <th>weekday_0</th>\n",
       "      <th>weekday_1</th>\n",
       "      <th>weekday_2</th>\n",
       "      <th>weekday_3</th>\n",
       "      <th>...</th>\n",
       "      <th>target_4</th>\n",
       "      <th>target_5</th>\n",
       "      <th>target_6</th>\n",
       "      <th>target_7</th>\n",
       "      <th>target_8</th>\n",
       "      <th>target_9</th>\n",
       "      <th>target_10</th>\n",
       "      <th>target_11</th>\n",
       "      <th>target_12</th>\n",
       "      <th>target_13</th>\n",
       "    </tr>\n",
       "    <tr>\n",
       "      <th>date</th>\n",
       "      <th></th>\n",
       "      <th></th>\n",
       "      <th></th>\n",
       "      <th></th>\n",
       "      <th></th>\n",
       "      <th></th>\n",
       "      <th></th>\n",
       "      <th></th>\n",
       "      <th></th>\n",
       "      <th></th>\n",
       "      <th></th>\n",
       "      <th></th>\n",
       "      <th></th>\n",
       "      <th></th>\n",
       "      <th></th>\n",
       "      <th></th>\n",
       "      <th></th>\n",
       "      <th></th>\n",
       "      <th></th>\n",
       "      <th></th>\n",
       "      <th></th>\n",
       "    </tr>\n",
       "  </thead>\n",
       "  <tbody>\n",
       "    <tr>\n",
       "      <th>2022-08-01</th>\n",
       "      <td>084a8a9aa8cced9175bd07bc44998e75</td>\n",
       "      <td>cat_12</td>\n",
       "      <td>1.0</td>\n",
       "      <td>0.010000</td>\n",
       "      <td>084a8a9aa8cced9175bd07bc44998e75_cat_12</td>\n",
       "      <td>False</td>\n",
       "      <td>True</td>\n",
       "      <td>False</td>\n",
       "      <td>False</td>\n",
       "      <td>False</td>\n",
       "      <td>...</td>\n",
       "      <td>0.010000</td>\n",
       "      <td>0.010000</td>\n",
       "      <td>0.010000</td>\n",
       "      <td>0.010000</td>\n",
       "      <td>0.010000</td>\n",
       "      <td>0.010000</td>\n",
       "      <td>0.010000</td>\n",
       "      <td>0.010000</td>\n",
       "      <td>0.010000</td>\n",
       "      <td>0.010000</td>\n",
       "    </tr>\n",
       "    <tr>\n",
       "      <th>2022-08-01</th>\n",
       "      <td>084a8a9aa8cced9175bd07bc44998e75</td>\n",
       "      <td>cat_4</td>\n",
       "      <td>0.0</td>\n",
       "      <td>0.010000</td>\n",
       "      <td>084a8a9aa8cced9175bd07bc44998e75_cat_4</td>\n",
       "      <td>False</td>\n",
       "      <td>True</td>\n",
       "      <td>False</td>\n",
       "      <td>False</td>\n",
       "      <td>False</td>\n",
       "      <td>...</td>\n",
       "      <td>0.010000</td>\n",
       "      <td>0.010000</td>\n",
       "      <td>0.010000</td>\n",
       "      <td>0.010000</td>\n",
       "      <td>0.010000</td>\n",
       "      <td>0.010000</td>\n",
       "      <td>0.010000</td>\n",
       "      <td>0.010000</td>\n",
       "      <td>0.010000</td>\n",
       "      <td>0.010000</td>\n",
       "    </tr>\n",
       "    <tr>\n",
       "      <th>2022-08-01</th>\n",
       "      <td>16a5cdae362b8d27a1d8f8c7b78b4330</td>\n",
       "      <td>cat_1</td>\n",
       "      <td>0.0</td>\n",
       "      <td>9.229508</td>\n",
       "      <td>16a5cdae362b8d27a1d8f8c7b78b4330_cat_1</td>\n",
       "      <td>False</td>\n",
       "      <td>True</td>\n",
       "      <td>False</td>\n",
       "      <td>False</td>\n",
       "      <td>False</td>\n",
       "      <td>...</td>\n",
       "      <td>10.474576</td>\n",
       "      <td>5.161290</td>\n",
       "      <td>11.770492</td>\n",
       "      <td>3.424242</td>\n",
       "      <td>14.852459</td>\n",
       "      <td>4.023810</td>\n",
       "      <td>15.083333</td>\n",
       "      <td>3.586957</td>\n",
       "      <td>13.912281</td>\n",
       "      <td>4.023810</td>\n",
       "    </tr>\n",
       "    <tr>\n",
       "      <th>2022-08-01</th>\n",
       "      <td>16a5cdae362b8d27a1d8f8c7b78b4330</td>\n",
       "      <td>cat_1</td>\n",
       "      <td>1.0</td>\n",
       "      <td>3.793103</td>\n",
       "      <td>16a5cdae362b8d27a1d8f8c7b78b4330_cat_1</td>\n",
       "      <td>False</td>\n",
       "      <td>True</td>\n",
       "      <td>False</td>\n",
       "      <td>False</td>\n",
       "      <td>False</td>\n",
       "      <td>...</td>\n",
       "      <td>5.161290</td>\n",
       "      <td>11.770492</td>\n",
       "      <td>3.424242</td>\n",
       "      <td>14.852459</td>\n",
       "      <td>4.023810</td>\n",
       "      <td>15.083333</td>\n",
       "      <td>3.586957</td>\n",
       "      <td>13.912281</td>\n",
       "      <td>4.023810</td>\n",
       "      <td>9.982456</td>\n",
       "    </tr>\n",
       "    <tr>\n",
       "      <th>2022-08-01</th>\n",
       "      <td>16a5cdae362b8d27a1d8f8c7b78b4330</td>\n",
       "      <td>cat_10</td>\n",
       "      <td>0.0</td>\n",
       "      <td>3.666667</td>\n",
       "      <td>16a5cdae362b8d27a1d8f8c7b78b4330_cat_10</td>\n",
       "      <td>False</td>\n",
       "      <td>True</td>\n",
       "      <td>False</td>\n",
       "      <td>False</td>\n",
       "      <td>False</td>\n",
       "      <td>...</td>\n",
       "      <td>3.250000</td>\n",
       "      <td>6.000000</td>\n",
       "      <td>3.875000</td>\n",
       "      <td>3.000000</td>\n",
       "      <td>6.875000</td>\n",
       "      <td>9.222222</td>\n",
       "      <td>1.000000</td>\n",
       "      <td>5.250000</td>\n",
       "      <td>2.500000</td>\n",
       "      <td>2.833333</td>\n",
       "    </tr>\n",
       "  </tbody>\n",
       "</table>\n",
       "<p>5 rows × 64 columns</p>\n",
       "</div>"
      ],
      "text/plain": [
       "                                       st_id group_cat  pr_sales_type_id  \\\n",
       "date                                                                       \n",
       "2022-08-01  084a8a9aa8cced9175bd07bc44998e75    cat_12               1.0   \n",
       "2022-08-01  084a8a9aa8cced9175bd07bc44998e75     cat_4               0.0   \n",
       "2022-08-01  16a5cdae362b8d27a1d8f8c7b78b4330     cat_1               0.0   \n",
       "2022-08-01  16a5cdae362b8d27a1d8f8c7b78b4330     cat_1               1.0   \n",
       "2022-08-01  16a5cdae362b8d27a1d8f8c7b78b4330    cat_10               0.0   \n",
       "\n",
       "            target_0                             group_column  weekend  \\\n",
       "date                                                                     \n",
       "2022-08-01  0.010000  084a8a9aa8cced9175bd07bc44998e75_cat_12    False   \n",
       "2022-08-01  0.010000   084a8a9aa8cced9175bd07bc44998e75_cat_4    False   \n",
       "2022-08-01  9.229508   16a5cdae362b8d27a1d8f8c7b78b4330_cat_1    False   \n",
       "2022-08-01  3.793103   16a5cdae362b8d27a1d8f8c7b78b4330_cat_1    False   \n",
       "2022-08-01  3.666667  16a5cdae362b8d27a1d8f8c7b78b4330_cat_10    False   \n",
       "\n",
       "            weekday_0  weekday_1  weekday_2  weekday_3  ...   target_4  \\\n",
       "date                                                    ...              \n",
       "2022-08-01       True      False      False      False  ...   0.010000   \n",
       "2022-08-01       True      False      False      False  ...   0.010000   \n",
       "2022-08-01       True      False      False      False  ...  10.474576   \n",
       "2022-08-01       True      False      False      False  ...   5.161290   \n",
       "2022-08-01       True      False      False      False  ...   3.250000   \n",
       "\n",
       "             target_5   target_6   target_7   target_8   target_9  target_10  \\\n",
       "date                                                                           \n",
       "2022-08-01   0.010000   0.010000   0.010000   0.010000   0.010000   0.010000   \n",
       "2022-08-01   0.010000   0.010000   0.010000   0.010000   0.010000   0.010000   \n",
       "2022-08-01   5.161290  11.770492   3.424242  14.852459   4.023810  15.083333   \n",
       "2022-08-01  11.770492   3.424242  14.852459   4.023810  15.083333   3.586957   \n",
       "2022-08-01   6.000000   3.875000   3.000000   6.875000   9.222222   1.000000   \n",
       "\n",
       "            target_11  target_12  target_13  \n",
       "date                                         \n",
       "2022-08-01   0.010000   0.010000   0.010000  \n",
       "2022-08-01   0.010000   0.010000   0.010000  \n",
       "2022-08-01   3.586957  13.912281   4.023810  \n",
       "2022-08-01  13.912281   4.023810   9.982456  \n",
       "2022-08-01   5.250000   2.500000   2.833333  \n",
       "\n",
       "[5 rows x 64 columns]"
      ]
     },
     "execution_count": 29,
     "metadata": {},
     "output_type": "execute_result"
    }
   ],
   "source": [
    "df_ts.head()"
   ]
  },
  {
   "cell_type": "markdown",
   "id": "a401275e",
   "metadata": {},
   "source": [
    "Сохраним полученный датасет"
   ]
  },
  {
   "cell_type": "code",
   "execution_count": 30,
   "id": "4cb6a0d5",
   "metadata": {},
   "outputs": [],
   "source": [
    "df_ts.to_csv(PATH_TO_SAVE_SALES_TRAIN_DF, index=False)"
   ]
  },
  {
   "cell_type": "code",
   "execution_count": 31,
   "id": "9513a059",
   "metadata": {},
   "outputs": [],
   "source": [
    "df_ts_no.to_csv(PATH_TO_SAVE_SALES_TRAIN_DF_NO_OTLIERS, index=False)"
   ]
  },
  {
   "cell_type": "markdown",
   "id": "0f06b43e",
   "metadata": {},
   "source": [
    "Добавим к обработанному датасету датасет по столбцам, поскольку данная информацию была утерена при группировке"
   ]
  },
  {
   "cell_type": "markdown",
   "id": "84ec4a4a",
   "metadata": {},
   "source": [
    "## Предообработка данных по магазинам"
   ]
  },
  {
   "cell_type": "markdown",
   "id": "9b061eac",
   "metadata": {},
   "source": [
    "Поскольку преобразования с данным датасетом нужно будет произвести только один, то для кодировки OHE можно использовать get_dummies, однако немного обернём его в функцию, чтобы названия столбцов были информативнее."
   ]
  },
  {
   "cell_type": "code",
   "execution_count": 32,
   "id": "4bdb9c23",
   "metadata": {},
   "outputs": [],
   "source": [
    "def get_ohe(df, column):    \n",
    "    df_ohe = pd.get_dummies(df[column])\n",
    "    new_columns = [f'{column}_{c}' for c in df_ohe.columns]\n",
    "    df_ohe.columns = new_columns\n",
    "    df = df.drop(column, axis=1)    \n",
    "    df = pd.concat([df, df_ohe], axis=1)\n",
    "    return df"
   ]
  },
  {
   "cell_type": "markdown",
   "id": "4fb52281",
   "metadata": {},
   "source": [
    "Произведём кодировку признаков в датасете st_df"
   ]
  },
  {
   "cell_type": "code",
   "execution_count": 33,
   "id": "24078995",
   "metadata": {},
   "outputs": [],
   "source": [
    "list_columns_for_ohe = ['st_city_id', 'st_division_code', 'st_type_format_id', 'st_type_loc_id', 'st_type_size_id']\n",
    "for column in list_columns_for_ohe:\n",
    "    st_df = get_ohe(st_df, column)"
   ]
  },
  {
   "cell_type": "markdown",
   "id": "19fe9462",
   "metadata": {},
   "source": [
    "Оставим только активные  магазины и удалим столбец st_is_active"
   ]
  },
  {
   "cell_type": "code",
   "execution_count": 34,
   "id": "c8932ebe",
   "metadata": {},
   "outputs": [],
   "source": [
    "st_df = st_df[st_df['st_is_active']!=0]\n",
    "st_df = st_df.drop('st_is_active', axis=1)"
   ]
  },
  {
   "cell_type": "markdown",
   "id": "b6451ca9",
   "metadata": {},
   "source": [
    "Добавим признак среднего количества проданных товаров в магазине"
   ]
  },
  {
   "cell_type": "code",
   "execution_count": 35,
   "id": "9401e25b",
   "metadata": {},
   "outputs": [],
   "source": [
    "df_st_mean = (sales_df_train.groupby('st_id')['pr_sales_in_units'].agg('mean')\n",
    "                  .reset_index(drop=False)\n",
    "                  .sort_values(by='pr_sales_in_units'))"
   ]
  },
  {
   "cell_type": "code",
   "execution_count": 36,
   "id": "4c388158",
   "metadata": {},
   "outputs": [],
   "source": [
    "st_df = st_df.merge(df_st_mean, on ='st_id')"
   ]
  },
  {
   "cell_type": "markdown",
   "id": "07f6b43a",
   "metadata": {},
   "source": [
    "Преобразуем полученный столбец в признаки OHE, согласно выбранным диапазонам на EDA"
   ]
  },
  {
   "cell_type": "code",
   "execution_count": 37,
   "id": "cd51e748",
   "metadata": {},
   "outputs": [],
   "source": [
    "st_df['mean_seale_1'] = st_df['pr_sales_in_units'] < 2.5\n",
    "st_df['mean_seale_2'] = (st_df['pr_sales_in_units'] >= 2.5) & (st_df['pr_sales_in_units'] < 4)\n",
    "st_df['mean_seale_3'] = (st_df['pr_sales_in_units'] >= 4) & (st_df['pr_sales_in_units'] < 5)\n",
    "st_df['mean_seale_4'] = (st_df['pr_sales_in_units'] >= 5)\n",
    "st_df = st_df.drop('pr_sales_in_units', axis=1)"
   ]
  },
  {
   "cell_type": "markdown",
   "id": "3d465f94",
   "metadata": {},
   "source": [
    "Воспользуемся функциями написанной в EDA для получения скользящего среднего по всем ТЦ в датасете и рассчёта отношения летних продаж к зимним, чтобы можно было их разбить по группам"
   ]
  },
  {
   "cell_type": "code",
   "execution_count": 38,
   "id": "d75eb5f3",
   "metadata": {},
   "outputs": [],
   "source": [
    "def get_df_ts_store(df, store_columns):\n",
    "    df_st_id = df.groupby(['date',store_columns])['pr_sales_in_units'].agg('sum').reset_index(drop=False)\n",
    "    df_st_id.index = df_st_id['date']\n",
    "    df_st_id = df_st_id.drop('date', axis=1)\n",
    "    return df_st_id"
   ]
  },
  {
   "cell_type": "code",
   "execution_count": 39,
   "id": "e6de28c0",
   "metadata": {},
   "outputs": [],
   "source": [
    "def get_rolling_mean(df, group_column, column):\n",
    "    list_group_column = df[group_column].unique()\n",
    "    for gr_col in list_group_column:\n",
    "        new_name = f'rolling_mean_{column}'\n",
    "        df.loc[df[group_column]==gr_col, new_name] = (df[df[group_column]==gr_col][column]\n",
    "                                                                    .shift()\n",
    "                                                                    .rolling(30)\n",
    "                                                                    .mean())\n",
    "    df = df.drop(column, axis=1)\n",
    "    return df"
   ]
  },
  {
   "cell_type": "code",
   "execution_count": 40,
   "id": "7b8df986",
   "metadata": {},
   "outputs": [],
   "source": [
    "def get_ratio_summer_winter(df):\n",
    "    df_july = df.loc['2023-07-01'][['st_id', 'rolling_mean_pr_sales_in_units']]\n",
    "    df_jan = df.loc['2023-01-01'][['st_id', 'rolling_mean_pr_sales_in_units']]\n",
    "    new_df = df_july.merge(df_jan, on='st_id', how='left')\n",
    "    new_df.loc[new_df['rolling_mean_pr_sales_in_units_y']==0, 'rolling_mean_pr_sales_in_units_y'] =0.01 #защита от деления на 0\n",
    "    new_df['ratio_summer_winter'] = (new_df['rolling_mean_pr_sales_in_units_x']\n",
    "                                     / new_df['rolling_mean_pr_sales_in_units_y'])\n",
    "    return new_df[['st_id', 'ratio_summer_winter']]"
   ]
  },
  {
   "cell_type": "code",
   "execution_count": 41,
   "id": "d76a3e3b",
   "metadata": {},
   "outputs": [],
   "source": [
    "df_st_id = get_df_ts_store(sales_df_train, 'st_id')\n",
    "df_st_id = get_rolling_mean(df_st_id, 'st_id', 'pr_sales_in_units')"
   ]
  },
  {
   "cell_type": "code",
   "execution_count": 42,
   "id": "e214916d",
   "metadata": {},
   "outputs": [],
   "source": [
    "df_st_id_1 = df_st_id.groupby('st_id')['rolling_mean_pr_sales_in_units'].agg('max').reset_index(drop=False)\n",
    "df_st_id_2 = get_ratio_summer_winter(df_st_id)\n",
    "df_st_id = df_st_id_1.merge(df_st_id_2, on='st_id', how='left')"
   ]
  },
  {
   "cell_type": "markdown",
   "id": "a626eaed",
   "metadata": {},
   "source": [
    "Добавим столбец отнесения магазина к той или иной группе"
   ]
  },
  {
   "cell_type": "code",
   "execution_count": 43,
   "id": "526912e0",
   "metadata": {},
   "outputs": [],
   "source": [
    "df_st_id.loc[df_st_id['rolling_mean_pr_sales_in_units']<500,'group_shop'] = 'group_1'\n",
    "df_st_id.loc[df_st_id['ratio_summer_winter']>1,'group_shop'] = 'group_2'\n",
    "df_st_id['group_shop'] = df_st_id['group_shop'].fillna('group_3')\n",
    "df_st_id = df_st_id.drop(['rolling_mean_pr_sales_in_units', 'ratio_summer_winter'], axis=1)"
   ]
  },
  {
   "cell_type": "markdown",
   "id": "2f0a2350",
   "metadata": {},
   "source": [
    "Присоединим данный дф к датасету по магазинам"
   ]
  },
  {
   "cell_type": "code",
   "execution_count": 44,
   "id": "909ab481",
   "metadata": {},
   "outputs": [],
   "source": [
    "st_df = st_df.merge(df_st_id, on ='st_id')"
   ]
  },
  {
   "cell_type": "markdown",
   "id": "fc9c6f14",
   "metadata": {},
   "source": [
    "Выведем получившийся датасет"
   ]
  },
  {
   "cell_type": "code",
   "execution_count": 45,
   "id": "72df180d",
   "metadata": {},
   "outputs": [
    {
     "data": {
      "text/html": [
       "<div>\n",
       "<style scoped>\n",
       "    .dataframe tbody tr th:only-of-type {\n",
       "        vertical-align: middle;\n",
       "    }\n",
       "\n",
       "    .dataframe tbody tr th {\n",
       "        vertical-align: top;\n",
       "    }\n",
       "\n",
       "    .dataframe thead th {\n",
       "        text-align: right;\n",
       "    }\n",
       "</style>\n",
       "<table border=\"1\" class=\"dataframe\">\n",
       "  <thead>\n",
       "    <tr style=\"text-align: right;\">\n",
       "      <th></th>\n",
       "      <th>st_id</th>\n",
       "      <th>st_city_id_1587965fb4d4b5afe8428a4a024feb0d</th>\n",
       "      <th>st_city_id_3202111cf90e7c816a472aaceb72b0df</th>\n",
       "      <th>st_city_id_885fe656777008c335ac96072a45be15</th>\n",
       "      <th>st_city_id_908c9a564a86426585b29f5335b619bc</th>\n",
       "      <th>st_city_id_955d864a62659945cc9434898e275deb</th>\n",
       "      <th>st_city_id_b8b4b727d6f5d1b61fff7be687f7970f</th>\n",
       "      <th>st_city_id_c1f75cc0f7fe269dd0fd9bd5e24f9586</th>\n",
       "      <th>st_division_code_296bd0cc6e735f9d7488ebc8fbc19130</th>\n",
       "      <th>st_division_code_32586311f16876abf92901085bd87b99</th>\n",
       "      <th>...</th>\n",
       "      <th>st_type_size_id_12</th>\n",
       "      <th>st_type_size_id_19</th>\n",
       "      <th>st_type_size_id_20</th>\n",
       "      <th>st_type_size_id_28</th>\n",
       "      <th>st_type_size_id_32</th>\n",
       "      <th>mean_seale_1</th>\n",
       "      <th>mean_seale_2</th>\n",
       "      <th>mean_seale_3</th>\n",
       "      <th>mean_seale_4</th>\n",
       "      <th>group_shop</th>\n",
       "    </tr>\n",
       "  </thead>\n",
       "  <tbody>\n",
       "    <tr>\n",
       "      <th>0</th>\n",
       "      <td>bd470ca955d9497bbcb808e59952fffc</td>\n",
       "      <td>False</td>\n",
       "      <td>False</td>\n",
       "      <td>False</td>\n",
       "      <td>False</td>\n",
       "      <td>True</td>\n",
       "      <td>False</td>\n",
       "      <td>False</td>\n",
       "      <td>False</td>\n",
       "      <td>False</td>\n",
       "      <td>...</td>\n",
       "      <td>False</td>\n",
       "      <td>True</td>\n",
       "      <td>False</td>\n",
       "      <td>False</td>\n",
       "      <td>False</td>\n",
       "      <td>True</td>\n",
       "      <td>False</td>\n",
       "      <td>False</td>\n",
       "      <td>False</td>\n",
       "      <td>group_1</td>\n",
       "    </tr>\n",
       "    <tr>\n",
       "      <th>1</th>\n",
       "      <td>6364d3f0f495b6ab9dcf8d3b5c6e0b01</td>\n",
       "      <td>False</td>\n",
       "      <td>False</td>\n",
       "      <td>False</td>\n",
       "      <td>False</td>\n",
       "      <td>False</td>\n",
       "      <td>True</td>\n",
       "      <td>False</td>\n",
       "      <td>False</td>\n",
       "      <td>False</td>\n",
       "      <td>...</td>\n",
       "      <td>True</td>\n",
       "      <td>False</td>\n",
       "      <td>False</td>\n",
       "      <td>False</td>\n",
       "      <td>False</td>\n",
       "      <td>False</td>\n",
       "      <td>False</td>\n",
       "      <td>True</td>\n",
       "      <td>False</td>\n",
       "      <td>group_3</td>\n",
       "    </tr>\n",
       "    <tr>\n",
       "      <th>2</th>\n",
       "      <td>1ecfb463472ec9115b10c292ef8bc986</td>\n",
       "      <td>False</td>\n",
       "      <td>False</td>\n",
       "      <td>False</td>\n",
       "      <td>True</td>\n",
       "      <td>False</td>\n",
       "      <td>False</td>\n",
       "      <td>False</td>\n",
       "      <td>False</td>\n",
       "      <td>False</td>\n",
       "      <td>...</td>\n",
       "      <td>False</td>\n",
       "      <td>False</td>\n",
       "      <td>False</td>\n",
       "      <td>True</td>\n",
       "      <td>False</td>\n",
       "      <td>False</td>\n",
       "      <td>True</td>\n",
       "      <td>False</td>\n",
       "      <td>False</td>\n",
       "      <td>group_1</td>\n",
       "    </tr>\n",
       "    <tr>\n",
       "      <th>3</th>\n",
       "      <td>16a5cdae362b8d27a1d8f8c7b78b4330</td>\n",
       "      <td>False</td>\n",
       "      <td>False</td>\n",
       "      <td>False</td>\n",
       "      <td>False</td>\n",
       "      <td>False</td>\n",
       "      <td>False</td>\n",
       "      <td>True</td>\n",
       "      <td>True</td>\n",
       "      <td>False</td>\n",
       "      <td>...</td>\n",
       "      <td>False</td>\n",
       "      <td>False</td>\n",
       "      <td>False</td>\n",
       "      <td>False</td>\n",
       "      <td>False</td>\n",
       "      <td>False</td>\n",
       "      <td>False</td>\n",
       "      <td>False</td>\n",
       "      <td>True</td>\n",
       "      <td>group_3</td>\n",
       "    </tr>\n",
       "    <tr>\n",
       "      <th>4</th>\n",
       "      <td>53e19f3dbb211f20b20b45668303c1b6</td>\n",
       "      <td>False</td>\n",
       "      <td>False</td>\n",
       "      <td>False</td>\n",
       "      <td>False</td>\n",
       "      <td>True</td>\n",
       "      <td>False</td>\n",
       "      <td>False</td>\n",
       "      <td>False</td>\n",
       "      <td>False</td>\n",
       "      <td>...</td>\n",
       "      <td>False</td>\n",
       "      <td>False</td>\n",
       "      <td>True</td>\n",
       "      <td>False</td>\n",
       "      <td>False</td>\n",
       "      <td>True</td>\n",
       "      <td>False</td>\n",
       "      <td>False</td>\n",
       "      <td>False</td>\n",
       "      <td>group_1</td>\n",
       "    </tr>\n",
       "    <tr>\n",
       "      <th>5</th>\n",
       "      <td>42a0e188f5033bc65bf8d78622277c4e</td>\n",
       "      <td>False</td>\n",
       "      <td>False</td>\n",
       "      <td>False</td>\n",
       "      <td>False</td>\n",
       "      <td>False</td>\n",
       "      <td>True</td>\n",
       "      <td>False</td>\n",
       "      <td>False</td>\n",
       "      <td>False</td>\n",
       "      <td>...</td>\n",
       "      <td>True</td>\n",
       "      <td>False</td>\n",
       "      <td>False</td>\n",
       "      <td>False</td>\n",
       "      <td>False</td>\n",
       "      <td>False</td>\n",
       "      <td>False</td>\n",
       "      <td>False</td>\n",
       "      <td>True</td>\n",
       "      <td>group_3</td>\n",
       "    </tr>\n",
       "    <tr>\n",
       "      <th>6</th>\n",
       "      <td>c81e728d9d4c2f636f067f89cc14862c</td>\n",
       "      <td>False</td>\n",
       "      <td>False</td>\n",
       "      <td>False</td>\n",
       "      <td>True</td>\n",
       "      <td>False</td>\n",
       "      <td>False</td>\n",
       "      <td>False</td>\n",
       "      <td>False</td>\n",
       "      <td>False</td>\n",
       "      <td>...</td>\n",
       "      <td>False</td>\n",
       "      <td>False</td>\n",
       "      <td>False</td>\n",
       "      <td>False</td>\n",
       "      <td>False</td>\n",
       "      <td>False</td>\n",
       "      <td>False</td>\n",
       "      <td>False</td>\n",
       "      <td>True</td>\n",
       "      <td>group_3</td>\n",
       "    </tr>\n",
       "    <tr>\n",
       "      <th>7</th>\n",
       "      <td>fa7cdfad1a5aaf8370ebeda47a1ff1c3</td>\n",
       "      <td>False</td>\n",
       "      <td>False</td>\n",
       "      <td>True</td>\n",
       "      <td>False</td>\n",
       "      <td>False</td>\n",
       "      <td>False</td>\n",
       "      <td>False</td>\n",
       "      <td>True</td>\n",
       "      <td>False</td>\n",
       "      <td>...</td>\n",
       "      <td>True</td>\n",
       "      <td>False</td>\n",
       "      <td>False</td>\n",
       "      <td>False</td>\n",
       "      <td>False</td>\n",
       "      <td>False</td>\n",
       "      <td>False</td>\n",
       "      <td>True</td>\n",
       "      <td>False</td>\n",
       "      <td>group_3</td>\n",
       "    </tr>\n",
       "    <tr>\n",
       "      <th>8</th>\n",
       "      <td>f7e6c85504ce6e82442c770f7c8606f0</td>\n",
       "      <td>False</td>\n",
       "      <td>True</td>\n",
       "      <td>False</td>\n",
       "      <td>False</td>\n",
       "      <td>False</td>\n",
       "      <td>False</td>\n",
       "      <td>False</td>\n",
       "      <td>False</td>\n",
       "      <td>True</td>\n",
       "      <td>...</td>\n",
       "      <td>True</td>\n",
       "      <td>False</td>\n",
       "      <td>False</td>\n",
       "      <td>False</td>\n",
       "      <td>False</td>\n",
       "      <td>False</td>\n",
       "      <td>False</td>\n",
       "      <td>False</td>\n",
       "      <td>True</td>\n",
       "      <td>group_2</td>\n",
       "    </tr>\n",
       "    <tr>\n",
       "      <th>9</th>\n",
       "      <td>084a8a9aa8cced9175bd07bc44998e75</td>\n",
       "      <td>False</td>\n",
       "      <td>True</td>\n",
       "      <td>False</td>\n",
       "      <td>False</td>\n",
       "      <td>False</td>\n",
       "      <td>False</td>\n",
       "      <td>False</td>\n",
       "      <td>False</td>\n",
       "      <td>True</td>\n",
       "      <td>...</td>\n",
       "      <td>False</td>\n",
       "      <td>True</td>\n",
       "      <td>False</td>\n",
       "      <td>False</td>\n",
       "      <td>False</td>\n",
       "      <td>True</td>\n",
       "      <td>False</td>\n",
       "      <td>False</td>\n",
       "      <td>False</td>\n",
       "      <td>group_1</td>\n",
       "    </tr>\n",
       "  </tbody>\n",
       "</table>\n",
       "<p>10 rows × 31 columns</p>\n",
       "</div>"
      ],
      "text/plain": [
       "                              st_id  \\\n",
       "0  bd470ca955d9497bbcb808e59952fffc   \n",
       "1  6364d3f0f495b6ab9dcf8d3b5c6e0b01   \n",
       "2  1ecfb463472ec9115b10c292ef8bc986   \n",
       "3  16a5cdae362b8d27a1d8f8c7b78b4330   \n",
       "4  53e19f3dbb211f20b20b45668303c1b6   \n",
       "5  42a0e188f5033bc65bf8d78622277c4e   \n",
       "6  c81e728d9d4c2f636f067f89cc14862c   \n",
       "7  fa7cdfad1a5aaf8370ebeda47a1ff1c3   \n",
       "8  f7e6c85504ce6e82442c770f7c8606f0   \n",
       "9  084a8a9aa8cced9175bd07bc44998e75   \n",
       "\n",
       "   st_city_id_1587965fb4d4b5afe8428a4a024feb0d  \\\n",
       "0                                        False   \n",
       "1                                        False   \n",
       "2                                        False   \n",
       "3                                        False   \n",
       "4                                        False   \n",
       "5                                        False   \n",
       "6                                        False   \n",
       "7                                        False   \n",
       "8                                        False   \n",
       "9                                        False   \n",
       "\n",
       "   st_city_id_3202111cf90e7c816a472aaceb72b0df  \\\n",
       "0                                        False   \n",
       "1                                        False   \n",
       "2                                        False   \n",
       "3                                        False   \n",
       "4                                        False   \n",
       "5                                        False   \n",
       "6                                        False   \n",
       "7                                        False   \n",
       "8                                         True   \n",
       "9                                         True   \n",
       "\n",
       "   st_city_id_885fe656777008c335ac96072a45be15  \\\n",
       "0                                        False   \n",
       "1                                        False   \n",
       "2                                        False   \n",
       "3                                        False   \n",
       "4                                        False   \n",
       "5                                        False   \n",
       "6                                        False   \n",
       "7                                         True   \n",
       "8                                        False   \n",
       "9                                        False   \n",
       "\n",
       "   st_city_id_908c9a564a86426585b29f5335b619bc  \\\n",
       "0                                        False   \n",
       "1                                        False   \n",
       "2                                         True   \n",
       "3                                        False   \n",
       "4                                        False   \n",
       "5                                        False   \n",
       "6                                         True   \n",
       "7                                        False   \n",
       "8                                        False   \n",
       "9                                        False   \n",
       "\n",
       "   st_city_id_955d864a62659945cc9434898e275deb  \\\n",
       "0                                         True   \n",
       "1                                        False   \n",
       "2                                        False   \n",
       "3                                        False   \n",
       "4                                         True   \n",
       "5                                        False   \n",
       "6                                        False   \n",
       "7                                        False   \n",
       "8                                        False   \n",
       "9                                        False   \n",
       "\n",
       "   st_city_id_b8b4b727d6f5d1b61fff7be687f7970f  \\\n",
       "0                                        False   \n",
       "1                                         True   \n",
       "2                                        False   \n",
       "3                                        False   \n",
       "4                                        False   \n",
       "5                                         True   \n",
       "6                                        False   \n",
       "7                                        False   \n",
       "8                                        False   \n",
       "9                                        False   \n",
       "\n",
       "   st_city_id_c1f75cc0f7fe269dd0fd9bd5e24f9586  \\\n",
       "0                                        False   \n",
       "1                                        False   \n",
       "2                                        False   \n",
       "3                                         True   \n",
       "4                                        False   \n",
       "5                                        False   \n",
       "6                                        False   \n",
       "7                                        False   \n",
       "8                                        False   \n",
       "9                                        False   \n",
       "\n",
       "   st_division_code_296bd0cc6e735f9d7488ebc8fbc19130  \\\n",
       "0                                              False   \n",
       "1                                              False   \n",
       "2                                              False   \n",
       "3                                               True   \n",
       "4                                              False   \n",
       "5                                              False   \n",
       "6                                              False   \n",
       "7                                               True   \n",
       "8                                              False   \n",
       "9                                              False   \n",
       "\n",
       "   st_division_code_32586311f16876abf92901085bd87b99  ...  st_type_size_id_12  \\\n",
       "0                                              False  ...               False   \n",
       "1                                              False  ...                True   \n",
       "2                                              False  ...               False   \n",
       "3                                              False  ...               False   \n",
       "4                                              False  ...               False   \n",
       "5                                              False  ...                True   \n",
       "6                                              False  ...               False   \n",
       "7                                              False  ...                True   \n",
       "8                                               True  ...                True   \n",
       "9                                               True  ...               False   \n",
       "\n",
       "   st_type_size_id_19  st_type_size_id_20  st_type_size_id_28  \\\n",
       "0                True               False               False   \n",
       "1               False               False               False   \n",
       "2               False               False                True   \n",
       "3               False               False               False   \n",
       "4               False                True               False   \n",
       "5               False               False               False   \n",
       "6               False               False               False   \n",
       "7               False               False               False   \n",
       "8               False               False               False   \n",
       "9                True               False               False   \n",
       "\n",
       "   st_type_size_id_32  mean_seale_1  mean_seale_2  mean_seale_3  mean_seale_4  \\\n",
       "0               False          True         False         False         False   \n",
       "1               False         False         False          True         False   \n",
       "2               False         False          True         False         False   \n",
       "3               False         False         False         False          True   \n",
       "4               False          True         False         False         False   \n",
       "5               False         False         False         False          True   \n",
       "6               False         False         False         False          True   \n",
       "7               False         False         False          True         False   \n",
       "8               False         False         False         False          True   \n",
       "9               False          True         False         False         False   \n",
       "\n",
       "   group_shop  \n",
       "0     group_1  \n",
       "1     group_3  \n",
       "2     group_1  \n",
       "3     group_3  \n",
       "4     group_1  \n",
       "5     group_3  \n",
       "6     group_3  \n",
       "7     group_3  \n",
       "8     group_2  \n",
       "9     group_1  \n",
       "\n",
       "[10 rows x 31 columns]"
      ]
     },
     "execution_count": 45,
     "metadata": {},
     "output_type": "execute_result"
    }
   ],
   "source": [
    "st_df"
   ]
  },
  {
   "cell_type": "markdown",
   "id": "9363d64c",
   "metadata": {},
   "source": [
    "Столбец st_city_id_1587965fb4d4b5afe8428a4a024feb0d можно удалить, поскольку он содержит одинаковые значения"
   ]
  },
  {
   "cell_type": "code",
   "execution_count": 46,
   "id": "3965afd9",
   "metadata": {},
   "outputs": [],
   "source": [
    "st_df = st_df.drop('st_city_id_1587965fb4d4b5afe8428a4a024feb0d', axis=1)"
   ]
  },
  {
   "cell_type": "markdown",
   "id": "8189bbbe",
   "metadata": {},
   "source": [
    "Сохраним его"
   ]
  },
  {
   "cell_type": "code",
   "execution_count": 47,
   "id": "89da75ad",
   "metadata": {},
   "outputs": [],
   "source": [
    "st_df.to_csv(PATH_TO_SAVE_ST_DF, index=False)"
   ]
  },
  {
   "cell_type": "markdown",
   "id": "37b6b960",
   "metadata": {},
   "source": [
    "## Создание финального датасета"
   ]
  },
  {
   "cell_type": "markdown",
   "id": "edda572f",
   "metadata": {},
   "source": [
    "Напишем функцию для объединения датасетов магазинов и покупок."
   ]
  },
  {
   "cell_type": "code",
   "execution_count": 48,
   "id": "fb914e47",
   "metadata": {},
   "outputs": [],
   "source": [
    "def combine_shops_sales(st_df, df_ts, is_train=True):\n",
    "    #объединим получившиеся датасеты, перезададим индексы и удалим пропуски в отсутсвующих торговых центрах\n",
    "    df = df_ts.merge(st_df, on ='st_id', how='left')\n",
    "    df.index = df_ts.index\n",
    "    df = df.dropna(subset='group_shop')\n",
    "    # Создадим столбец с уникальным сочитанием группы магазина и группы категории товра \n",
    "    # удалим ненужные столбцы и пропуски в данных\n",
    "    df['group_shop_cat'] = df['group_shop'] + '_' + df['group_cat']\n",
    "    if is_train:\n",
    "        df = df.drop(['st_id', 'group_cat', 'group_column', 'group_shop'], axis=1)\n",
    "    else:\n",
    "        df = df.drop(['group_cat', 'group_column', 'group_shop'], axis=1)\n",
    "    df = df.dropna()\n",
    "    return df"
   ]
  },
  {
   "cell_type": "code",
   "execution_count": 49,
   "id": "7371a89a",
   "metadata": {},
   "outputs": [],
   "source": [
    "df_train = combine_shops_sales(st_df, df_ts)\n",
    "\n",
    "df_train_no = combine_shops_sales(st_df, df_ts_no)"
   ]
  },
  {
   "cell_type": "code",
   "execution_count": 50,
   "id": "9c977855",
   "metadata": {},
   "outputs": [],
   "source": [
    "df_train.to_csv(PATH_TO_SAVE_TRAIN_DF)\n",
    "\n",
    "df_train_no.to_csv(PATH_TO_SAVE_TRAIN_DF_NO_OTLIERS)"
   ]
  },
  {
   "cell_type": "markdown",
   "id": "137e328e",
   "metadata": {},
   "source": [
    "## Создание объединённой функции препроцессинга"
   ]
  },
  {
   "cell_type": "markdown",
   "id": "64a43ca7",
   "metadata": {},
   "source": [
    "Создадим объединённую функцию, которая на вход будет принимать сырые данные по продажам, обработанные данные по категориям товаров для ML модели, обработанные данные по торговым центрам и возвращать обработанный датасет"
   ]
  },
  {
   "cell_type": "code",
   "execution_count": 51,
   "id": "61eb704c",
   "metadata": {},
   "outputs": [],
   "source": [
    "def preproceccing_df(df, \n",
    "                     pr_df, \n",
    "                     st_df, \n",
    "                     is_train = True, \n",
    "                     n_day_target = 14,\n",
    "                     column = 'pr_sales_in_units',\n",
    "                     weekday_column = 'weekday',\n",
    "                     n_week_for_lag = 4,\n",
    "                     n_day_rolling_list = [7, 14, 30],\n",
    "                     n_day_lag_list = list(range(1,15)),\n",
    "                     list_holidays = [],\n",
    "                     drop_outliers = False, \n",
    "                     threshold = 1.7):\n",
    "    \n",
    "    df = df[['st_id', 'pr_sales_type_id', 'pr_sku_id', 'date', 'pr_sales_in_units']]\n",
    "    df = df.merge(pr_df, on ='pr_sku_id')\n",
    "    df = get_features_for_ts(df, \n",
    "                             is_train = is_train, \n",
    "                             n_day_target = n_day_target,\n",
    "                             column = column,\n",
    "                             weekday_column = weekday_column,\n",
    "                             n_week_for_lag = n_week_for_lag,\n",
    "                             n_day_rolling_list = n_day_rolling_list,\n",
    "                             n_day_lag_list = n_day_lag_list,\n",
    "                             list_holidays = list_holidays,\n",
    "                             drop_outliers = drop_outliers, \n",
    "                             threshold = threshold)\n",
    "    if not is_train:\n",
    "        df['date'] = df.index\n",
    "        df = df.merge(pr_df, on ='pr_sku_id')\n",
    "        df = df.sort_values(['date', 'st_id', 'pr_sku_id'])\n",
    "        df.index = df['date']\n",
    "        df = df.drop('date', axis=1)\n",
    "    df = combine_shops_sales(st_df, df, is_train)\n",
    "    return df"
   ]
  },
  {
   "cell_type": "markdown",
   "id": "fbc4dea3",
   "metadata": {},
   "source": [
    "Протестируем ей работу на данных для теста"
   ]
  },
  {
   "cell_type": "code",
   "execution_count": 52,
   "id": "32073810",
   "metadata": {},
   "outputs": [
    {
     "name": "stdout",
     "output_type": "stream",
     "text": [
      "Начата генерация признаков\n"
     ]
    },
    {
     "name": "stderr",
     "output_type": "stream",
     "text": [
      "100%|██████████████████████████████████████████████████████████████████████████████| 3556/3556 [01:24<00:00, 42.11it/s]\n"
     ]
    },
    {
     "name": "stdout",
     "output_type": "stream",
     "text": [
      "CPU times: total: 1min 54s\n",
      "Wall time: 1min 56s\n"
     ]
    }
   ],
   "source": [
    "%%time\n",
    "sales_df_train = pd.read_csv(PATH_SALES_DF_TRAIN)\n",
    "df_test = preproceccing_df(sales_df_train[sales_df_train['date']>'2023-06-01'], \n",
    "                           pr_df, \n",
    "                           st_df, \n",
    "                           list_holidays = list_holidays, \n",
    "                           is_train=False)"
   ]
  },
  {
   "cell_type": "code",
   "execution_count": 53,
   "id": "958cc685",
   "metadata": {},
   "outputs": [
    {
     "name": "stdout",
     "output_type": "stream",
     "text": [
      "Начата генерация признаков\n"
     ]
    },
    {
     "name": "stderr",
     "output_type": "stream",
     "text": [
      "100%|██████████████████████████████████████████████████████████████████████████████| 3556/3556 [01:31<00:00, 38.90it/s]\n"
     ]
    },
    {
     "name": "stdout",
     "output_type": "stream",
     "text": [
      "CPU times: total: 2min 3s\n",
      "Wall time: 2min 4s\n"
     ]
    }
   ],
   "source": [
    "%%time\n",
    "sales_df_train = pd.read_csv(PATH_SALES_DF_TRAIN)\n",
    "df_test_no = preproceccing_df(sales_df_train[sales_df_train['date']>'2023-06-01'], \n",
    "                               pr_df, \n",
    "                               st_df, \n",
    "                               list_holidays = list_holidays, \n",
    "                               is_train=False,\n",
    "                               drop_outliers = True)"
   ]
  },
  {
   "cell_type": "markdown",
   "id": "c1b5d387",
   "metadata": {},
   "source": [
    "Сохраним получившиеся датасеты"
   ]
  },
  {
   "cell_type": "code",
   "execution_count": 54,
   "id": "cb943159",
   "metadata": {},
   "outputs": [],
   "source": [
    "df_test.to_csv(PATH_TO_SAVE_TEST_DF)\n",
    "\n",
    "df_test_no.to_csv(PATH_TO_SAVE_TEST_DF_NO_OTLIERS)"
   ]
  },
  {
   "cell_type": "markdown",
   "id": "08e9475c",
   "metadata": {},
   "source": [
    "## Выводы"
   ]
  },
  {
   "cell_type": "markdown",
   "id": "44965ab9",
   "metadata": {},
   "source": [
    "В данном разделе была проведена прдобработка данных в ходе которой:\n",
    "1. Произведено преобразование кодов товаров в категории согласно EDA для дальнейшего обуечние моделей\n",
    "2. Созданы признаки для временного ряда (лаги, скользящие среднии, выделены дни недели, созданы флаги для выходных и праздничных дней, и ряд других признаков)\n",
    "3. Почищены данные от выбрасов.\n",
    "4. Проведено преобразование по информации о магазинах, удалены неактивные.\n",
    "5. Создан отдельный столбец для выбора конкретной модели для конкретного временного ряда.\n",
    "6. Созданы функции, позволяющие автоматизировать процес предообработки данных."
   ]
  },
  {
   "cell_type": "code",
   "execution_count": null,
   "id": "90f90d69",
   "metadata": {},
   "outputs": [],
   "source": []
  }
 ],
 "metadata": {
  "kernelspec": {
   "display_name": "Python 3 (ipykernel)",
   "language": "python",
   "name": "python3"
  },
  "language_info": {
   "codemirror_mode": {
    "name": "ipython",
    "version": 3
   },
   "file_extension": ".py",
   "mimetype": "text/x-python",
   "name": "python",
   "nbconvert_exporter": "python",
   "pygments_lexer": "ipython3",
   "version": "3.10.11"
  }
 },
 "nbformat": 4,
 "nbformat_minor": 5
}
