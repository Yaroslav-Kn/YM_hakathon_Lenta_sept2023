{
 "cells": [
  {
   "cell_type": "markdown",
   "id": "10ab2ea7",
   "metadata": {},
   "source": [
    "# Preprocessing"
   ]
  },
  {
   "cell_type": "code",
   "execution_count": 1,
   "id": "92830460",
   "metadata": {},
   "outputs": [],
   "source": [
    "import pandas as pd\n",
    "import os"
   ]
  },
  {
   "cell_type": "markdown",
   "id": "99553965",
   "metadata": {},
   "source": [
    "Пропишем требуемые пути и откроем данные"
   ]
  },
  {
   "cell_type": "code",
   "execution_count": 2,
   "id": "a3fdb854",
   "metadata": {},
   "outputs": [],
   "source": [
    "cwd = os.getcwd()\n",
    "\n",
    "PATH_SALES_DF_TRAIN = cwd + '/data/raw/sales_df_train.csv'\n",
    "PATH_PR_DF = cwd + '/data/raw/pr_df.csv'\n",
    "PATH_ST_DF = cwd + '/data/raw/st_df.csv'\n",
    "\n",
    "PATH_TO_SAVE_SALES_TRAIN_DF = cwd + '/data/preprocessing/preproc_sales_df_train.csv'\n",
    "PATH_TO_SAVE_ST_DF = cwd + '/data/preprocessing/preproc_st_df.csv'\n",
    "PATH_TO_SAVE_PR_DF = cwd + '/data/preprocessing/preproc_pr_df.csv'\n",
    "PATH_TO_SAVE_TRAIN_DF = cwd + '/data/preprocessing/preproc_df_train.csv'"
   ]
  },
  {
   "cell_type": "code",
   "execution_count": 3,
   "id": "1411c969",
   "metadata": {},
   "outputs": [],
   "source": [
    "sales_df_train = pd.read_csv(PATH_SALES_DF_TRAIN)\n",
    "pr_df = pd.read_csv(PATH_PR_DF)\n",
    "st_df = pd.read_csv(PATH_ST_DF)"
   ]
  },
  {
   "cell_type": "markdown",
   "id": "32e3f6b0",
   "metadata": {},
   "source": [
    "Поскольку предсказывать будем только общее количество продаж товара(pr_sales_in_units), то в датасете sales_df_train оставим только столбцы st_id, pr_sku_id (для джойна с другими датасетами), столбец с датой date и целевой признок pr_sales_in_units"
   ]
  },
  {
   "cell_type": "code",
   "execution_count": 4,
   "id": "2d1e4c6e",
   "metadata": {},
   "outputs": [],
   "source": [
    "sales_df_train = sales_df_train[['st_id', 'pr_sku_id', 'date', 'pr_sales_in_units']]"
   ]
  },
  {
   "cell_type": "markdown",
   "id": "7cf4cfc7",
   "metadata": {},
   "source": [
    "## Предообработка данных по магазинам"
   ]
  },
  {
   "cell_type": "markdown",
   "id": "36e06687",
   "metadata": {},
   "source": [
    "Произведём кодировку признаков в датасете st_df"
   ]
  },
  {
   "cell_type": "code",
   "execution_count": 5,
   "id": "87fe4b75",
   "metadata": {},
   "outputs": [],
   "source": [
    "def get_ohe(df, column):\n",
    "    df_ohe = pd.get_dummies(df[column])\n",
    "    new_columns = [f'{column}_{c}' for c in df_ohe.columns]\n",
    "    df_ohe.columns = new_columns\n",
    "    df = df.drop(column, axis=1)\n",
    "    df = df.join(df_ohe)\n",
    "    return df"
   ]
  },
  {
   "cell_type": "code",
   "execution_count": 6,
   "id": "cfc9ae5e",
   "metadata": {},
   "outputs": [],
   "source": [
    "list_columns_for_ohe = ['st_city_id', 'st_division_code', 'st_type_format_id', 'st_type_loc_id', 'st_type_size_id']\n",
    "for column in list_columns_for_ohe:\n",
    "    st_df = get_ohe(st_df, column)"
   ]
  },
  {
   "cell_type": "markdown",
   "id": "766a0f42",
   "metadata": {},
   "source": [
    "Оставим только активные  магазины и удалим столбец st_is_active"
   ]
  },
  {
   "cell_type": "code",
   "execution_count": 7,
   "id": "086c1bfe",
   "metadata": {},
   "outputs": [],
   "source": [
    "st_df = st_df[st_df['st_is_active']!=0]\n",
    "st_df = st_df.drop('st_is_active', axis=1)"
   ]
  },
  {
   "cell_type": "markdown",
   "id": "7325c9ef",
   "metadata": {},
   "source": [
    "Добавим признак среднего количества проданных товаров в магазине"
   ]
  },
  {
   "cell_type": "code",
   "execution_count": 8,
   "id": "f5198e1f",
   "metadata": {},
   "outputs": [],
   "source": [
    "df_st_mean = (sales_df_train.groupby('st_id')['pr_sales_in_units'].agg('mean')\n",
    "                  .reset_index(drop=False)\n",
    "                  .sort_values(by='pr_sales_in_units'))"
   ]
  },
  {
   "cell_type": "code",
   "execution_count": 9,
   "id": "4a26c369",
   "metadata": {},
   "outputs": [],
   "source": [
    "st_df = st_df.merge(df_st_mean, on ='st_id')"
   ]
  },
  {
   "cell_type": "markdown",
   "id": "e052040f",
   "metadata": {},
   "source": [
    "Преобразуем полученный столбец в признаки OHE, согласно выбранным диапазонам на EDA"
   ]
  },
  {
   "cell_type": "code",
   "execution_count": 10,
   "id": "83958ee6",
   "metadata": {},
   "outputs": [],
   "source": [
    "st_df['mean_seale_1'] = st_df['pr_sales_in_units'] < 2.5\n",
    "st_df['mean_seale_2'] = (st_df['pr_sales_in_units'] >= 2.5) & (st_df['pr_sales_in_units'] < 4)\n",
    "st_df['mean_seale_3'] = (st_df['pr_sales_in_units'] >= 4) & (st_df['pr_sales_in_units'] < 5)\n",
    "st_df['mean_seale_4'] = (st_df['pr_sales_in_units'] >= 5)\n",
    "st_df = st_df.drop('pr_sales_in_units', axis=1)"
   ]
  },
  {
   "cell_type": "markdown",
   "id": "8f118bee",
   "metadata": {},
   "source": [
    "Воспользуемся функциями написанной в EDA для получения скользящего среднего по всем ТЦ в датасете и рассчёта отношения летних продаж к зимним, чтобы можно было их разбить по группам"
   ]
  },
  {
   "cell_type": "code",
   "execution_count": 11,
   "id": "b961de2a",
   "metadata": {},
   "outputs": [],
   "source": [
    "def get_df_ts_store(df, store_columns):\n",
    "    df_st_id = df.groupby(['date',store_columns])['pr_sales_in_units'].agg('sum').reset_index(drop=False)\n",
    "    df_st_id.index = df_st_id['date']\n",
    "    df_st_id = df_st_id.drop('date', axis=1)\n",
    "    return df_st_id"
   ]
  },
  {
   "cell_type": "code",
   "execution_count": 12,
   "id": "25845069",
   "metadata": {},
   "outputs": [],
   "source": [
    "def get_rolling_mean(df, group_column, cloumn):\n",
    "    list_group_column = df[group_column].unique()\n",
    "    for gr_col in list_group_column:\n",
    "        new_name = f'rolling_mean_{cloumn}'\n",
    "        df.loc[df[group_column]==gr_col, new_name] = (df[df[group_column]==gr_col][cloumn]\n",
    "                                                                    .shift()\n",
    "                                                                    .rolling(30)\n",
    "                                                                    .mean())\n",
    "    df = df.drop(cloumn, axis=1)\n",
    "    return df"
   ]
  },
  {
   "cell_type": "code",
   "execution_count": 13,
   "id": "b2bf098d",
   "metadata": {},
   "outputs": [],
   "source": [
    "def get_ratio_summer_winter(df):\n",
    "    df_july = df.loc['2023-07-01'][['st_id', 'rolling_mean_pr_sales_in_units']]\n",
    "    df_jan = df.loc['2023-01-01'][['st_id', 'rolling_mean_pr_sales_in_units']]\n",
    "    new_df = df_july.merge(df_jan, on='st_id', how='left')\n",
    "    new_df['ratio_summer_winter'] = new_df['rolling_mean_pr_sales_in_units_x'] / new_df['rolling_mean_pr_sales_in_units_y']\n",
    "    return new_df[['st_id', 'ratio_summer_winter']]"
   ]
  },
  {
   "cell_type": "code",
   "execution_count": 14,
   "id": "29e0bf7a",
   "metadata": {},
   "outputs": [],
   "source": [
    "df_st_id = get_df_ts_store(sales_df_train, 'st_id')\n",
    "df_st_id = get_rolling_mean(df_st_id, 'st_id', 'pr_sales_in_units')"
   ]
  },
  {
   "cell_type": "code",
   "execution_count": 15,
   "id": "bdd8f4e4",
   "metadata": {},
   "outputs": [],
   "source": [
    "df_st_id_1 = df_st_id.groupby('st_id')['rolling_mean_pr_sales_in_units'].agg('max').reset_index(drop=False)"
   ]
  },
  {
   "cell_type": "code",
   "execution_count": 16,
   "id": "f44dc347",
   "metadata": {},
   "outputs": [],
   "source": [
    "df_st_id_2 = get_ratio_summer_winter(df_st_id)"
   ]
  },
  {
   "cell_type": "code",
   "execution_count": 17,
   "id": "952539ff",
   "metadata": {},
   "outputs": [],
   "source": [
    "df_st_id = df_st_id_1.merge(df_st_id_2, on='st_id', how='left')"
   ]
  },
  {
   "cell_type": "markdown",
   "id": "01849243",
   "metadata": {},
   "source": [
    "Добавим столбец отнесения магазина к той или иной группе"
   ]
  },
  {
   "cell_type": "code",
   "execution_count": 18,
   "id": "ba5af2a2",
   "metadata": {},
   "outputs": [],
   "source": [
    "df_st_id.loc[df_st_id['rolling_mean_pr_sales_in_units']<500,'group_shop'] = 'group_1'\n",
    "df_st_id.loc[df_st_id['ratio_summer_winter']>1,'group_shop'] = 'group_2'\n",
    "df_st_id['group_shop'] = df_st_id['group_shop'].fillna('group_3')\n",
    "df_st_id = df_st_id.drop(['rolling_mean_pr_sales_in_units', 'ratio_summer_winter'], axis=1)"
   ]
  },
  {
   "cell_type": "markdown",
   "id": "f2733ef3",
   "metadata": {},
   "source": [
    "Присоединим данный дф к датасету по магазинам"
   ]
  },
  {
   "cell_type": "code",
   "execution_count": 19,
   "id": "f97536a6",
   "metadata": {},
   "outputs": [],
   "source": [
    "st_df = st_df.merge(df_st_id, on ='st_id')"
   ]
  },
  {
   "cell_type": "markdown",
   "id": "1c233ebd",
   "metadata": {},
   "source": [
    "Выведем получившийся датасет"
   ]
  },
  {
   "cell_type": "code",
   "execution_count": 20,
   "id": "c879f2dc",
   "metadata": {},
   "outputs": [
    {
     "data": {
      "text/html": [
       "<div>\n",
       "<style scoped>\n",
       "    .dataframe tbody tr th:only-of-type {\n",
       "        vertical-align: middle;\n",
       "    }\n",
       "\n",
       "    .dataframe tbody tr th {\n",
       "        vertical-align: top;\n",
       "    }\n",
       "\n",
       "    .dataframe thead th {\n",
       "        text-align: right;\n",
       "    }\n",
       "</style>\n",
       "<table border=\"1\" class=\"dataframe\">\n",
       "  <thead>\n",
       "    <tr style=\"text-align: right;\">\n",
       "      <th></th>\n",
       "      <th>st_id</th>\n",
       "      <th>st_city_id_1587965fb4d4b5afe8428a4a024feb0d</th>\n",
       "      <th>st_city_id_3202111cf90e7c816a472aaceb72b0df</th>\n",
       "      <th>st_city_id_885fe656777008c335ac96072a45be15</th>\n",
       "      <th>st_city_id_908c9a564a86426585b29f5335b619bc</th>\n",
       "      <th>st_city_id_955d864a62659945cc9434898e275deb</th>\n",
       "      <th>st_city_id_b8b4b727d6f5d1b61fff7be687f7970f</th>\n",
       "      <th>st_city_id_c1f75cc0f7fe269dd0fd9bd5e24f9586</th>\n",
       "      <th>st_division_code_296bd0cc6e735f9d7488ebc8fbc19130</th>\n",
       "      <th>st_division_code_32586311f16876abf92901085bd87b99</th>\n",
       "      <th>...</th>\n",
       "      <th>st_type_size_id_12</th>\n",
       "      <th>st_type_size_id_19</th>\n",
       "      <th>st_type_size_id_20</th>\n",
       "      <th>st_type_size_id_28</th>\n",
       "      <th>st_type_size_id_32</th>\n",
       "      <th>mean_seale_1</th>\n",
       "      <th>mean_seale_2</th>\n",
       "      <th>mean_seale_3</th>\n",
       "      <th>mean_seale_4</th>\n",
       "      <th>group_shop</th>\n",
       "    </tr>\n",
       "  </thead>\n",
       "  <tbody>\n",
       "    <tr>\n",
       "      <th>0</th>\n",
       "      <td>bd470ca955d9497bbcb808e59952fffc</td>\n",
       "      <td>False</td>\n",
       "      <td>False</td>\n",
       "      <td>False</td>\n",
       "      <td>False</td>\n",
       "      <td>True</td>\n",
       "      <td>False</td>\n",
       "      <td>False</td>\n",
       "      <td>False</td>\n",
       "      <td>False</td>\n",
       "      <td>...</td>\n",
       "      <td>False</td>\n",
       "      <td>True</td>\n",
       "      <td>False</td>\n",
       "      <td>False</td>\n",
       "      <td>False</td>\n",
       "      <td>True</td>\n",
       "      <td>False</td>\n",
       "      <td>False</td>\n",
       "      <td>False</td>\n",
       "      <td>group_1</td>\n",
       "    </tr>\n",
       "    <tr>\n",
       "      <th>1</th>\n",
       "      <td>6364d3f0f495b6ab9dcf8d3b5c6e0b01</td>\n",
       "      <td>False</td>\n",
       "      <td>False</td>\n",
       "      <td>False</td>\n",
       "      <td>False</td>\n",
       "      <td>False</td>\n",
       "      <td>True</td>\n",
       "      <td>False</td>\n",
       "      <td>False</td>\n",
       "      <td>False</td>\n",
       "      <td>...</td>\n",
       "      <td>True</td>\n",
       "      <td>False</td>\n",
       "      <td>False</td>\n",
       "      <td>False</td>\n",
       "      <td>False</td>\n",
       "      <td>False</td>\n",
       "      <td>False</td>\n",
       "      <td>True</td>\n",
       "      <td>False</td>\n",
       "      <td>group_3</td>\n",
       "    </tr>\n",
       "    <tr>\n",
       "      <th>2</th>\n",
       "      <td>1ecfb463472ec9115b10c292ef8bc986</td>\n",
       "      <td>False</td>\n",
       "      <td>False</td>\n",
       "      <td>False</td>\n",
       "      <td>True</td>\n",
       "      <td>False</td>\n",
       "      <td>False</td>\n",
       "      <td>False</td>\n",
       "      <td>False</td>\n",
       "      <td>False</td>\n",
       "      <td>...</td>\n",
       "      <td>False</td>\n",
       "      <td>False</td>\n",
       "      <td>False</td>\n",
       "      <td>True</td>\n",
       "      <td>False</td>\n",
       "      <td>False</td>\n",
       "      <td>True</td>\n",
       "      <td>False</td>\n",
       "      <td>False</td>\n",
       "      <td>group_1</td>\n",
       "    </tr>\n",
       "    <tr>\n",
       "      <th>3</th>\n",
       "      <td>16a5cdae362b8d27a1d8f8c7b78b4330</td>\n",
       "      <td>False</td>\n",
       "      <td>False</td>\n",
       "      <td>False</td>\n",
       "      <td>False</td>\n",
       "      <td>False</td>\n",
       "      <td>False</td>\n",
       "      <td>True</td>\n",
       "      <td>True</td>\n",
       "      <td>False</td>\n",
       "      <td>...</td>\n",
       "      <td>False</td>\n",
       "      <td>False</td>\n",
       "      <td>False</td>\n",
       "      <td>False</td>\n",
       "      <td>False</td>\n",
       "      <td>False</td>\n",
       "      <td>False</td>\n",
       "      <td>False</td>\n",
       "      <td>True</td>\n",
       "      <td>group_3</td>\n",
       "    </tr>\n",
       "    <tr>\n",
       "      <th>4</th>\n",
       "      <td>53e19f3dbb211f20b20b45668303c1b6</td>\n",
       "      <td>False</td>\n",
       "      <td>False</td>\n",
       "      <td>False</td>\n",
       "      <td>False</td>\n",
       "      <td>True</td>\n",
       "      <td>False</td>\n",
       "      <td>False</td>\n",
       "      <td>False</td>\n",
       "      <td>False</td>\n",
       "      <td>...</td>\n",
       "      <td>False</td>\n",
       "      <td>False</td>\n",
       "      <td>True</td>\n",
       "      <td>False</td>\n",
       "      <td>False</td>\n",
       "      <td>True</td>\n",
       "      <td>False</td>\n",
       "      <td>False</td>\n",
       "      <td>False</td>\n",
       "      <td>group_1</td>\n",
       "    </tr>\n",
       "    <tr>\n",
       "      <th>5</th>\n",
       "      <td>42a0e188f5033bc65bf8d78622277c4e</td>\n",
       "      <td>False</td>\n",
       "      <td>False</td>\n",
       "      <td>False</td>\n",
       "      <td>False</td>\n",
       "      <td>False</td>\n",
       "      <td>True</td>\n",
       "      <td>False</td>\n",
       "      <td>False</td>\n",
       "      <td>False</td>\n",
       "      <td>...</td>\n",
       "      <td>True</td>\n",
       "      <td>False</td>\n",
       "      <td>False</td>\n",
       "      <td>False</td>\n",
       "      <td>False</td>\n",
       "      <td>False</td>\n",
       "      <td>False</td>\n",
       "      <td>False</td>\n",
       "      <td>True</td>\n",
       "      <td>group_3</td>\n",
       "    </tr>\n",
       "    <tr>\n",
       "      <th>6</th>\n",
       "      <td>c81e728d9d4c2f636f067f89cc14862c</td>\n",
       "      <td>False</td>\n",
       "      <td>False</td>\n",
       "      <td>False</td>\n",
       "      <td>True</td>\n",
       "      <td>False</td>\n",
       "      <td>False</td>\n",
       "      <td>False</td>\n",
       "      <td>False</td>\n",
       "      <td>False</td>\n",
       "      <td>...</td>\n",
       "      <td>False</td>\n",
       "      <td>False</td>\n",
       "      <td>False</td>\n",
       "      <td>False</td>\n",
       "      <td>False</td>\n",
       "      <td>False</td>\n",
       "      <td>False</td>\n",
       "      <td>False</td>\n",
       "      <td>True</td>\n",
       "      <td>group_3</td>\n",
       "    </tr>\n",
       "    <tr>\n",
       "      <th>7</th>\n",
       "      <td>fa7cdfad1a5aaf8370ebeda47a1ff1c3</td>\n",
       "      <td>False</td>\n",
       "      <td>False</td>\n",
       "      <td>True</td>\n",
       "      <td>False</td>\n",
       "      <td>False</td>\n",
       "      <td>False</td>\n",
       "      <td>False</td>\n",
       "      <td>True</td>\n",
       "      <td>False</td>\n",
       "      <td>...</td>\n",
       "      <td>True</td>\n",
       "      <td>False</td>\n",
       "      <td>False</td>\n",
       "      <td>False</td>\n",
       "      <td>False</td>\n",
       "      <td>False</td>\n",
       "      <td>False</td>\n",
       "      <td>True</td>\n",
       "      <td>False</td>\n",
       "      <td>group_3</td>\n",
       "    </tr>\n",
       "    <tr>\n",
       "      <th>8</th>\n",
       "      <td>f7e6c85504ce6e82442c770f7c8606f0</td>\n",
       "      <td>False</td>\n",
       "      <td>True</td>\n",
       "      <td>False</td>\n",
       "      <td>False</td>\n",
       "      <td>False</td>\n",
       "      <td>False</td>\n",
       "      <td>False</td>\n",
       "      <td>False</td>\n",
       "      <td>True</td>\n",
       "      <td>...</td>\n",
       "      <td>True</td>\n",
       "      <td>False</td>\n",
       "      <td>False</td>\n",
       "      <td>False</td>\n",
       "      <td>False</td>\n",
       "      <td>False</td>\n",
       "      <td>False</td>\n",
       "      <td>False</td>\n",
       "      <td>True</td>\n",
       "      <td>group_2</td>\n",
       "    </tr>\n",
       "    <tr>\n",
       "      <th>9</th>\n",
       "      <td>084a8a9aa8cced9175bd07bc44998e75</td>\n",
       "      <td>False</td>\n",
       "      <td>True</td>\n",
       "      <td>False</td>\n",
       "      <td>False</td>\n",
       "      <td>False</td>\n",
       "      <td>False</td>\n",
       "      <td>False</td>\n",
       "      <td>False</td>\n",
       "      <td>True</td>\n",
       "      <td>...</td>\n",
       "      <td>False</td>\n",
       "      <td>True</td>\n",
       "      <td>False</td>\n",
       "      <td>False</td>\n",
       "      <td>False</td>\n",
       "      <td>True</td>\n",
       "      <td>False</td>\n",
       "      <td>False</td>\n",
       "      <td>False</td>\n",
       "      <td>group_1</td>\n",
       "    </tr>\n",
       "  </tbody>\n",
       "</table>\n",
       "<p>10 rows × 31 columns</p>\n",
       "</div>"
      ],
      "text/plain": [
       "                              st_id  \\\n",
       "0  bd470ca955d9497bbcb808e59952fffc   \n",
       "1  6364d3f0f495b6ab9dcf8d3b5c6e0b01   \n",
       "2  1ecfb463472ec9115b10c292ef8bc986   \n",
       "3  16a5cdae362b8d27a1d8f8c7b78b4330   \n",
       "4  53e19f3dbb211f20b20b45668303c1b6   \n",
       "5  42a0e188f5033bc65bf8d78622277c4e   \n",
       "6  c81e728d9d4c2f636f067f89cc14862c   \n",
       "7  fa7cdfad1a5aaf8370ebeda47a1ff1c3   \n",
       "8  f7e6c85504ce6e82442c770f7c8606f0   \n",
       "9  084a8a9aa8cced9175bd07bc44998e75   \n",
       "\n",
       "   st_city_id_1587965fb4d4b5afe8428a4a024feb0d  \\\n",
       "0                                        False   \n",
       "1                                        False   \n",
       "2                                        False   \n",
       "3                                        False   \n",
       "4                                        False   \n",
       "5                                        False   \n",
       "6                                        False   \n",
       "7                                        False   \n",
       "8                                        False   \n",
       "9                                        False   \n",
       "\n",
       "   st_city_id_3202111cf90e7c816a472aaceb72b0df  \\\n",
       "0                                        False   \n",
       "1                                        False   \n",
       "2                                        False   \n",
       "3                                        False   \n",
       "4                                        False   \n",
       "5                                        False   \n",
       "6                                        False   \n",
       "7                                        False   \n",
       "8                                         True   \n",
       "9                                         True   \n",
       "\n",
       "   st_city_id_885fe656777008c335ac96072a45be15  \\\n",
       "0                                        False   \n",
       "1                                        False   \n",
       "2                                        False   \n",
       "3                                        False   \n",
       "4                                        False   \n",
       "5                                        False   \n",
       "6                                        False   \n",
       "7                                         True   \n",
       "8                                        False   \n",
       "9                                        False   \n",
       "\n",
       "   st_city_id_908c9a564a86426585b29f5335b619bc  \\\n",
       "0                                        False   \n",
       "1                                        False   \n",
       "2                                         True   \n",
       "3                                        False   \n",
       "4                                        False   \n",
       "5                                        False   \n",
       "6                                         True   \n",
       "7                                        False   \n",
       "8                                        False   \n",
       "9                                        False   \n",
       "\n",
       "   st_city_id_955d864a62659945cc9434898e275deb  \\\n",
       "0                                         True   \n",
       "1                                        False   \n",
       "2                                        False   \n",
       "3                                        False   \n",
       "4                                         True   \n",
       "5                                        False   \n",
       "6                                        False   \n",
       "7                                        False   \n",
       "8                                        False   \n",
       "9                                        False   \n",
       "\n",
       "   st_city_id_b8b4b727d6f5d1b61fff7be687f7970f  \\\n",
       "0                                        False   \n",
       "1                                         True   \n",
       "2                                        False   \n",
       "3                                        False   \n",
       "4                                        False   \n",
       "5                                         True   \n",
       "6                                        False   \n",
       "7                                        False   \n",
       "8                                        False   \n",
       "9                                        False   \n",
       "\n",
       "   st_city_id_c1f75cc0f7fe269dd0fd9bd5e24f9586  \\\n",
       "0                                        False   \n",
       "1                                        False   \n",
       "2                                        False   \n",
       "3                                         True   \n",
       "4                                        False   \n",
       "5                                        False   \n",
       "6                                        False   \n",
       "7                                        False   \n",
       "8                                        False   \n",
       "9                                        False   \n",
       "\n",
       "   st_division_code_296bd0cc6e735f9d7488ebc8fbc19130  \\\n",
       "0                                              False   \n",
       "1                                              False   \n",
       "2                                              False   \n",
       "3                                               True   \n",
       "4                                              False   \n",
       "5                                              False   \n",
       "6                                              False   \n",
       "7                                               True   \n",
       "8                                              False   \n",
       "9                                              False   \n",
       "\n",
       "   st_division_code_32586311f16876abf92901085bd87b99  ...  st_type_size_id_12  \\\n",
       "0                                              False  ...               False   \n",
       "1                                              False  ...                True   \n",
       "2                                              False  ...               False   \n",
       "3                                              False  ...               False   \n",
       "4                                              False  ...               False   \n",
       "5                                              False  ...                True   \n",
       "6                                              False  ...               False   \n",
       "7                                              False  ...                True   \n",
       "8                                               True  ...                True   \n",
       "9                                               True  ...               False   \n",
       "\n",
       "   st_type_size_id_19  st_type_size_id_20  st_type_size_id_28  \\\n",
       "0                True               False               False   \n",
       "1               False               False               False   \n",
       "2               False               False                True   \n",
       "3               False               False               False   \n",
       "4               False                True               False   \n",
       "5               False               False               False   \n",
       "6               False               False               False   \n",
       "7               False               False               False   \n",
       "8               False               False               False   \n",
       "9                True               False               False   \n",
       "\n",
       "   st_type_size_id_32  mean_seale_1  mean_seale_2  mean_seale_3  mean_seale_4  \\\n",
       "0               False          True         False         False         False   \n",
       "1               False         False         False          True         False   \n",
       "2               False         False          True         False         False   \n",
       "3               False         False         False         False          True   \n",
       "4               False          True         False         False         False   \n",
       "5               False         False         False         False          True   \n",
       "6               False         False         False         False          True   \n",
       "7               False         False         False          True         False   \n",
       "8               False         False         False         False          True   \n",
       "9               False          True         False         False         False   \n",
       "\n",
       "   group_shop  \n",
       "0     group_1  \n",
       "1     group_3  \n",
       "2     group_1  \n",
       "3     group_3  \n",
       "4     group_1  \n",
       "5     group_3  \n",
       "6     group_3  \n",
       "7     group_3  \n",
       "8     group_2  \n",
       "9     group_1  \n",
       "\n",
       "[10 rows x 31 columns]"
      ]
     },
     "execution_count": 20,
     "metadata": {},
     "output_type": "execute_result"
    }
   ],
   "source": [
    "st_df"
   ]
  },
  {
   "cell_type": "markdown",
   "id": "9de4dee5",
   "metadata": {},
   "source": [
    "Столбец st_city_id_1587965fb4d4b5afe8428a4a024feb0d можно удалить, поскольку он содержит одинаковые значения"
   ]
  },
  {
   "cell_type": "code",
   "execution_count": 21,
   "id": "f085cef0",
   "metadata": {},
   "outputs": [],
   "source": [
    "st_df = st_df.drop('st_city_id_1587965fb4d4b5afe8428a4a024feb0d', axis=1)"
   ]
  },
  {
   "cell_type": "markdown",
   "id": "a6dc72b8",
   "metadata": {},
   "source": [
    "Сохраним его"
   ]
  },
  {
   "cell_type": "code",
   "execution_count": 22,
   "id": "f4ef9dbb",
   "metadata": {},
   "outputs": [],
   "source": [
    "st_df.to_csv(PATH_TO_SAVE_ST_DF, index=False)"
   ]
  },
  {
   "cell_type": "markdown",
   "id": "54328c79",
   "metadata": {},
   "source": [
    "Присоединим датасет st_df к sales_df_train"
   ]
  },
  {
   "cell_type": "code",
   "execution_count": 23,
   "id": "2a26725b",
   "metadata": {},
   "outputs": [],
   "source": [
    "sales_df_train = sales_df_train.merge(st_df, on ='st_id')"
   ]
  },
  {
   "cell_type": "markdown",
   "id": "45507f40",
   "metadata": {},
   "source": [
    "## Предообработка данных по товарам"
   ]
  },
  {
   "cell_type": "markdown",
   "id": "45e77245",
   "metadata": {},
   "source": [
    "Согласно EDA нам необходимо сделать метку для отнесения товара к той или иной категории, согласно динамике цен на них добавим такой столбец в датасет pr_df"
   ]
  },
  {
   "cell_type": "code",
   "execution_count": 24,
   "id": "eefe07a9",
   "metadata": {},
   "outputs": [],
   "source": [
    "pr_df.loc[pr_df['pr_cat_id']=='c559da2ba967eb820766939a658022c8', 'group_cat'] = 'cat_1'\n",
    "pr_df.loc[pr_df['pr_subcat_id']=='60787c41b04097dfea76addfccd12243', 'group_cat'] = 'cat_2'\n",
    "pr_df.loc[pr_df['pr_subcat_id']=='ca34f669ae367c87f0e75dcae0f61ee5', 'group_cat'] = 'cat_3'\n",
    "pr_df.loc[pr_df['pr_cat_id'].isin(['e58cc5ca94270acaceed13bc82dfedf7', \n",
    "                                      'fb2fcd534b0ff3bbed73cc51df620323']), 'group_cat'] = 'cat_4'\n",
    "pr_df.loc[pr_df['pr_cat_id'].isin(['3de2334a314a7a72721f1f74a6cb4cee', \n",
    "                                      'f3173935ed8ac4bf073c1bcd63171f8a',\n",
    "                                      'b59c67bf196a4758191e42f76670ceba']), 'group_cat'] = 'cat_5'\n",
    "pr_df.loc[pr_df['pr_cat_id'].isin(['28fc2782ea7ef51c1104ccf7b9bea13d', \n",
    "                                      '9701a1c165dd9420816bfec5edd6c2b1', \n",
    "                                      '5caf41d62364d5b41a893adc1a9dd5d4', \n",
    "                                      '186a157b2992e7daed3677ce8e9fe40f', \n",
    "                                      '2df45244f09369e16ea3f9117ca45157', \n",
    "                                      '6d9c547cf146054a5a720606a7694467', \n",
    "                                      '535ab76633d94208236a2e829ea6d888', \n",
    "                                      'a6ea8471c120fe8cc35a2954c9b9c595']), 'group_cat'] = 'cat_6'\n",
    "pr_df.loc[pr_df['pr_cat_id']=='f9ab16852d455ce9203da64f4fc7f92d', 'group_cat'] = 'cat_7'\n",
    "pr_df.loc[pr_df['pr_cat_id'].isin(['b7087c1f4f89e63af8d46f3b20271153', \n",
    "                                      'f93882cbd8fc7fb794c1011d63be6fb6']), 'group_cat'] = 'cat_8'\n",
    "pr_df.loc[pr_df['pr_cat_id']=='faafda66202d234463057972460c04f5', 'group_cat'] = 'cat_9'\n",
    "pr_df.loc[pr_df['pr_cat_id']=='fd5c905bcd8c3348ad1b35d7231ee2b1', 'group_cat'] = 'cat_10'\n",
    "pr_df.loc[pr_df['pr_cat_id']=='c9f95a0a5af052bffce5c89917335f67', 'group_cat'] = 'cat_11'\n",
    "pr_df['group_cat'] = pr_df['group_cat'].fillna('cat_12')\n",
    "pr_df = pr_df.drop(['pr_group_id', 'pr_cat_id', 'pr_subcat_id', 'pr_uom_id'], axis=1)"
   ]
  },
  {
   "cell_type": "markdown",
   "id": "38fe90bf",
   "metadata": {},
   "source": [
    "Переименуем столбец"
   ]
  },
  {
   "cell_type": "code",
   "execution_count": 25,
   "id": "e013a9db",
   "metadata": {},
   "outputs": [
    {
     "data": {
      "text/html": [
       "<div>\n",
       "<style scoped>\n",
       "    .dataframe tbody tr th:only-of-type {\n",
       "        vertical-align: middle;\n",
       "    }\n",
       "\n",
       "    .dataframe tbody tr th {\n",
       "        vertical-align: top;\n",
       "    }\n",
       "\n",
       "    .dataframe thead th {\n",
       "        text-align: right;\n",
       "    }\n",
       "</style>\n",
       "<table border=\"1\" class=\"dataframe\">\n",
       "  <thead>\n",
       "    <tr style=\"text-align: right;\">\n",
       "      <th></th>\n",
       "      <th>pr_sku_id</th>\n",
       "      <th>group_cat</th>\n",
       "    </tr>\n",
       "  </thead>\n",
       "  <tbody>\n",
       "    <tr>\n",
       "      <th>0</th>\n",
       "      <td>fd064933250b0bfe4f926b867b0a5ec8</td>\n",
       "      <td>cat_3</td>\n",
       "    </tr>\n",
       "    <tr>\n",
       "      <th>1</th>\n",
       "      <td>71c9661741caf40a92a32d1cc8206c04</td>\n",
       "      <td>cat_1</td>\n",
       "    </tr>\n",
       "    <tr>\n",
       "      <th>2</th>\n",
       "      <td>00b72c2f01a1512cbb1d3f33319bac93</td>\n",
       "      <td>cat_12</td>\n",
       "    </tr>\n",
       "    <tr>\n",
       "      <th>3</th>\n",
       "      <td>9bc40cd2fe4f188f402bb41548c5e15c</td>\n",
       "      <td>cat_3</td>\n",
       "    </tr>\n",
       "    <tr>\n",
       "      <th>4</th>\n",
       "      <td>3a74a370c8eb032acb11ad9119242b8f</td>\n",
       "      <td>cat_1</td>\n",
       "    </tr>\n",
       "  </tbody>\n",
       "</table>\n",
       "</div>"
      ],
      "text/plain": [
       "                          pr_sku_id group_cat\n",
       "0  fd064933250b0bfe4f926b867b0a5ec8     cat_3\n",
       "1  71c9661741caf40a92a32d1cc8206c04     cat_1\n",
       "2  00b72c2f01a1512cbb1d3f33319bac93    cat_12\n",
       "3  9bc40cd2fe4f188f402bb41548c5e15c     cat_3\n",
       "4  3a74a370c8eb032acb11ad9119242b8f     cat_1"
      ]
     },
     "execution_count": 25,
     "metadata": {},
     "output_type": "execute_result"
    }
   ],
   "source": [
    "pr_df.head()"
   ]
  },
  {
   "cell_type": "markdown",
   "id": "769e0487",
   "metadata": {},
   "source": [
    "Сохраним получившийся датасет"
   ]
  },
  {
   "cell_type": "code",
   "execution_count": 26,
   "id": "665609c9",
   "metadata": {},
   "outputs": [],
   "source": [
    "pr_df.to_csv(PATH_TO_SAVE_PR_DF)"
   ]
  },
  {
   "cell_type": "markdown",
   "id": "ed986dee",
   "metadata": {},
   "source": [
    "Присоединим получившийся датасет к исходным данным"
   ]
  },
  {
   "cell_type": "code",
   "execution_count": 27,
   "id": "a08a85b3",
   "metadata": {},
   "outputs": [],
   "source": [
    "sales_df_train = sales_df_train.merge(pr_df, on ='pr_sku_id')\n",
    "sales_df_train = sales_df_train.drop('pr_sku_id', axis=1)"
   ]
  },
  {
   "cell_type": "markdown",
   "id": "1c8a0c20",
   "metadata": {},
   "source": [
    "Создадим столбец с уникальным сочитанием группы магазина и группы категории товра"
   ]
  },
  {
   "cell_type": "code",
   "execution_count": 28,
   "id": "026161cc",
   "metadata": {},
   "outputs": [],
   "source": [
    "sales_df_train['group_shop_cat'] = sales_df_train['group_shop'] + '_' + sales_df_train['group_cat']"
   ]
  },
  {
   "cell_type": "markdown",
   "id": "10e6e2e2",
   "metadata": {},
   "source": [
    "## Предообработка данных по продажам"
   ]
  },
  {
   "cell_type": "markdown",
   "id": "5ce4bd16",
   "metadata": {},
   "source": [
    "Сгруппируем датасеты по уникальным сочитаниям даты, id магазина и категории товара, чтобы в дальнейшем можно было получать из них признаки"
   ]
  },
  {
   "cell_type": "code",
   "execution_count": 29,
   "id": "06e735dc",
   "metadata": {},
   "outputs": [],
   "source": [
    "df_ts = (sales_df_train.groupby(['date', 'st_id', 'group_cat'])['pr_sales_in_units']\n",
    "                       .agg('sum')\n",
    "                       .reset_index(drop=False)\n",
    "                       .sort_values(['date', 'st_id', 'group_cat']))\n",
    "df_ts.index = df_ts['date']"
   ]
  },
  {
   "cell_type": "markdown",
   "id": "57e4e229",
   "metadata": {},
   "source": [
    "Получим день недели, закодируем его OHE, также добавим флаг выходного дня, после чего удалим первоначальный столбец."
   ]
  },
  {
   "cell_type": "code",
   "execution_count": 30,
   "id": "0ad957d1",
   "metadata": {},
   "outputs": [],
   "source": [
    "df_ts['date'] = pd.to_datetime(df_ts['date'])\n",
    "df_ts['weekday'] = df_ts['date'].dt.weekday \n",
    "df_ts['weekend'] = (df_ts['weekday'] == 5) | (df_ts['weekday'] == 6)"
   ]
  },
  {
   "cell_type": "code",
   "execution_count": 31,
   "id": "6bd07ca9",
   "metadata": {},
   "outputs": [],
   "source": [
    "df_ts = df_ts.drop('date', axis=1)"
   ]
  },
  {
   "cell_type": "markdown",
   "id": "28311f50",
   "metadata": {},
   "source": [
    "Добавим столбец сочетаний магазин_категории"
   ]
  },
  {
   "cell_type": "code",
   "execution_count": 32,
   "id": "4305b1f4",
   "metadata": {},
   "outputs": [],
   "source": [
    "df_ts['st_group_cat'] = df_ts['st_id'] + '_' + df_ts['group_cat']"
   ]
  },
  {
   "cell_type": "markdown",
   "id": "b3270f42",
   "metadata": {},
   "source": [
    "Создадим функцию для получения скользящего среднего по каждой из группировок"
   ]
  },
  {
   "cell_type": "code",
   "execution_count": 33,
   "id": "b306aa9d",
   "metadata": {},
   "outputs": [],
   "source": [
    "def get_rolling_mean(df, group_column, cloumn, n_day):\n",
    "    list_group_column = df[group_column].unique()\n",
    "    for gr_col in list_group_column:\n",
    "        new_name = f'rolling_mean_{n_day}'\n",
    "        df.loc[df[group_column]==gr_col, new_name] = (df[df[group_column]==gr_col][cloumn]\n",
    "                                                                    .shift()\n",
    "                                                                    .rolling(n_day)\n",
    "                                                                    .mean())\n",
    "    return df"
   ]
  },
  {
   "cell_type": "code",
   "execution_count": 34,
   "id": "7f83a70f",
   "metadata": {},
   "outputs": [],
   "source": [
    "df_ts = get_rolling_mean(df_ts, 'st_group_cat', 'pr_sales_in_units', 7)\n",
    "df_ts = get_rolling_mean(df_ts, 'st_group_cat', 'pr_sales_in_units', 10)\n",
    "df_ts = get_rolling_mean(df_ts, 'st_group_cat', 'pr_sales_in_units', 30)"
   ]
  },
  {
   "cell_type": "markdown",
   "id": "22599696",
   "metadata": {},
   "source": [
    "Создадим функцию для получения лагов в каждой из группировок"
   ]
  },
  {
   "cell_type": "code",
   "execution_count": 35,
   "id": "1df66527",
   "metadata": {},
   "outputs": [],
   "source": [
    "def get_lag(df, group_column, cloumn, n_day):\n",
    "    list_group_column = df[group_column].unique()\n",
    "    for gr_col in list_group_column:\n",
    "        new_name = f'lag_{n_day}'\n",
    "        df.loc[df[group_column]==gr_col, new_name] = (df[df[group_column]==gr_col][cloumn]\n",
    "                                                                    .shift(n_day))\n",
    "    return df"
   ]
  },
  {
   "cell_type": "markdown",
   "id": "7b50c000",
   "metadata": {},
   "source": [
    "Добавим в датасет лаги в 1, 5, 6, 7 дней, затем также посчитаем среднее по лагам в 5, 6, 7 дней"
   ]
  },
  {
   "cell_type": "code",
   "execution_count": 36,
   "id": "69555bb8",
   "metadata": {},
   "outputs": [],
   "source": [
    "df_ts = get_lag(df_ts, 'st_group_cat', 'pr_sales_in_units', 1)\n",
    "df_ts = get_lag(df_ts, 'st_group_cat', 'pr_sales_in_units', 5)\n",
    "df_ts = get_lag(df_ts, 'st_group_cat', 'pr_sales_in_units', 6)\n",
    "df_ts = get_lag(df_ts, 'st_group_cat', 'pr_sales_in_units', 7)\n",
    "df_ts['mean_week_lag'] = df_ts[['lag_5', 'lag_6', 'lag_7']].mean(axis=1)"
   ]
  },
  {
   "cell_type": "markdown",
   "id": "631bed2c",
   "metadata": {},
   "source": [
    "Добавим флаг нового года и пасхи"
   ]
  },
  {
   "cell_type": "code",
   "execution_count": 37,
   "id": "3033742e",
   "metadata": {},
   "outputs": [],
   "source": [
    "df_ts['new_year'] = df_ts.index=='2023-01-01'\n",
    "df_ts['easter'] = df_ts.index=='2023-04-16'"
   ]
  },
  {
   "cell_type": "markdown",
   "id": "c18607d2",
   "metadata": {},
   "source": [
    "Добавим флаг после нового года и пасхи"
   ]
  },
  {
   "cell_type": "code",
   "execution_count": 38,
   "id": "1e86cc3f",
   "metadata": {},
   "outputs": [],
   "source": [
    "df_ts['week_after_new_year'] = (df_ts.index > '2023-01-01') & (df_ts.index <= '2023-01-08')\n",
    "df_ts['week_after_easter'] = (df_ts.index > '2023-04-16') & (df_ts.index <= '2023-01-23')"
   ]
  },
  {
   "cell_type": "markdown",
   "id": "4c24ae89",
   "metadata": {},
   "source": [
    "Добавим флаг, что неделя идёт перед новогодними праздниками и пасхой"
   ]
  },
  {
   "cell_type": "code",
   "execution_count": 39,
   "id": "2758d429",
   "metadata": {},
   "outputs": [],
   "source": [
    "df_ts['week_befor_new_year'] = (df_ts.index > '2022-12-24') & (df_ts.index < '2023-01-01')\n",
    "df_ts['week_befor_easter'] = (df_ts.index > '2023-04-09') & (df_ts.index <= '2023-04-16')"
   ]
  },
  {
   "cell_type": "markdown",
   "id": "bec9b367",
   "metadata": {},
   "source": [
    "Создадим список с праздничными днями с учётом переносов"
   ]
  },
  {
   "cell_type": "code",
   "execution_count": 40,
   "id": "5f656dd4",
   "metadata": {},
   "outputs": [],
   "source": [
    "list_holiday = [\n",
    "    '2022-01-01',\n",
    "    '2022-01-02',\n",
    "    '2022-01-03',\n",
    "    '2022-01-04',\n",
    "    '2022-01-05',\n",
    "    '2022-01-06',\n",
    "    '2022-01-07',\n",
    "    '2022-01-08',\n",
    "    '2022-02-23',\n",
    "    '2022-03-08',\n",
    "    '2022-05-01',\n",
    "    '2022-05-09',\n",
    "    '2022-06-12',\n",
    "    '2022-11-04',\n",
    "    '2022-05-03',\n",
    "    '2022-05-10',\n",
    "    '2022-03-07', \n",
    "    '2023-01-01',\n",
    "    '2023-01-02',\n",
    "    '2023-01-03',\n",
    "    '2023-01-04',\n",
    "    '2023-01-05',\n",
    "    '2023-01-06',\n",
    "    '2023-01-07',\n",
    "    '2023-01-08',\n",
    "    '2023-02-23',\n",
    "    '2023-03-08',\n",
    "    '2023-05-01',\n",
    "    '2023-05-09',\n",
    "    '2023-06-12',\n",
    "    '2023-11-04',\n",
    "    '2023-02-24',\n",
    "    '2023-05-08',\n",
    "]"
   ]
  },
  {
   "cell_type": "markdown",
   "id": "ac2357db",
   "metadata": {},
   "source": [
    "Добавим соответствующий флаг в датасет"
   ]
  },
  {
   "cell_type": "code",
   "execution_count": 41,
   "id": "c8013df4",
   "metadata": {},
   "outputs": [],
   "source": [
    "df_ts['holiday'] = df_ts.index.isin(list_holiday)"
   ]
  },
  {
   "cell_type": "markdown",
   "id": "615128b0",
   "metadata": {},
   "source": [
    "Закодируем день недели при помощи OHE, и удалим его."
   ]
  },
  {
   "cell_type": "code",
   "execution_count": 42,
   "id": "bdaec57c",
   "metadata": {},
   "outputs": [],
   "source": [
    "df_ts = get_ohe(df_ts, 'weekday')"
   ]
  },
  {
   "cell_type": "code",
   "execution_count": 43,
   "id": "127613ba",
   "metadata": {},
   "outputs": [
    {
     "data": {
      "text/html": [
       "<div>\n",
       "<style scoped>\n",
       "    .dataframe tbody tr th:only-of-type {\n",
       "        vertical-align: middle;\n",
       "    }\n",
       "\n",
       "    .dataframe tbody tr th {\n",
       "        vertical-align: top;\n",
       "    }\n",
       "\n",
       "    .dataframe thead th {\n",
       "        text-align: right;\n",
       "    }\n",
       "</style>\n",
       "<table border=\"1\" class=\"dataframe\">\n",
       "  <thead>\n",
       "    <tr style=\"text-align: right;\">\n",
       "      <th></th>\n",
       "      <th>st_id</th>\n",
       "      <th>group_cat</th>\n",
       "      <th>pr_sales_in_units</th>\n",
       "      <th>weekend</th>\n",
       "      <th>st_group_cat</th>\n",
       "      <th>rolling_mean_7</th>\n",
       "      <th>rolling_mean_10</th>\n",
       "      <th>rolling_mean_30</th>\n",
       "      <th>lag_1</th>\n",
       "      <th>lag_5</th>\n",
       "      <th>...</th>\n",
       "      <th>week_befor_new_year</th>\n",
       "      <th>week_befor_easter</th>\n",
       "      <th>holiday</th>\n",
       "      <th>weekday_0</th>\n",
       "      <th>weekday_1</th>\n",
       "      <th>weekday_2</th>\n",
       "      <th>weekday_3</th>\n",
       "      <th>weekday_4</th>\n",
       "      <th>weekday_5</th>\n",
       "      <th>weekday_6</th>\n",
       "    </tr>\n",
       "    <tr>\n",
       "      <th>date</th>\n",
       "      <th></th>\n",
       "      <th></th>\n",
       "      <th></th>\n",
       "      <th></th>\n",
       "      <th></th>\n",
       "      <th></th>\n",
       "      <th></th>\n",
       "      <th></th>\n",
       "      <th></th>\n",
       "      <th></th>\n",
       "      <th></th>\n",
       "      <th></th>\n",
       "      <th></th>\n",
       "      <th></th>\n",
       "      <th></th>\n",
       "      <th></th>\n",
       "      <th></th>\n",
       "      <th></th>\n",
       "      <th></th>\n",
       "      <th></th>\n",
       "      <th></th>\n",
       "    </tr>\n",
       "  </thead>\n",
       "  <tbody>\n",
       "    <tr>\n",
       "      <th>2022-08-01</th>\n",
       "      <td>16a5cdae362b8d27a1d8f8c7b78b4330</td>\n",
       "      <td>cat_1</td>\n",
       "      <td>673.0</td>\n",
       "      <td>False</td>\n",
       "      <td>16a5cdae362b8d27a1d8f8c7b78b4330_cat_1</td>\n",
       "      <td>NaN</td>\n",
       "      <td>NaN</td>\n",
       "      <td>NaN</td>\n",
       "      <td>NaN</td>\n",
       "      <td>NaN</td>\n",
       "      <td>...</td>\n",
       "      <td>False</td>\n",
       "      <td>False</td>\n",
       "      <td>False</td>\n",
       "      <td>True</td>\n",
       "      <td>False</td>\n",
       "      <td>False</td>\n",
       "      <td>False</td>\n",
       "      <td>False</td>\n",
       "      <td>False</td>\n",
       "      <td>False</td>\n",
       "    </tr>\n",
       "    <tr>\n",
       "      <th>2022-08-01</th>\n",
       "      <td>16a5cdae362b8d27a1d8f8c7b78b4330</td>\n",
       "      <td>cat_1</td>\n",
       "      <td>673.0</td>\n",
       "      <td>False</td>\n",
       "      <td>16a5cdae362b8d27a1d8f8c7b78b4330_cat_1</td>\n",
       "      <td>NaN</td>\n",
       "      <td>NaN</td>\n",
       "      <td>NaN</td>\n",
       "      <td>NaN</td>\n",
       "      <td>NaN</td>\n",
       "      <td>...</td>\n",
       "      <td>False</td>\n",
       "      <td>False</td>\n",
       "      <td>False</td>\n",
       "      <td>True</td>\n",
       "      <td>False</td>\n",
       "      <td>False</td>\n",
       "      <td>False</td>\n",
       "      <td>False</td>\n",
       "      <td>False</td>\n",
       "      <td>False</td>\n",
       "    </tr>\n",
       "    <tr>\n",
       "      <th>2022-08-01</th>\n",
       "      <td>16a5cdae362b8d27a1d8f8c7b78b4330</td>\n",
       "      <td>cat_1</td>\n",
       "      <td>673.0</td>\n",
       "      <td>False</td>\n",
       "      <td>16a5cdae362b8d27a1d8f8c7b78b4330_cat_1</td>\n",
       "      <td>NaN</td>\n",
       "      <td>NaN</td>\n",
       "      <td>NaN</td>\n",
       "      <td>NaN</td>\n",
       "      <td>NaN</td>\n",
       "      <td>...</td>\n",
       "      <td>False</td>\n",
       "      <td>False</td>\n",
       "      <td>False</td>\n",
       "      <td>True</td>\n",
       "      <td>False</td>\n",
       "      <td>False</td>\n",
       "      <td>False</td>\n",
       "      <td>False</td>\n",
       "      <td>False</td>\n",
       "      <td>False</td>\n",
       "    </tr>\n",
       "    <tr>\n",
       "      <th>2022-08-01</th>\n",
       "      <td>16a5cdae362b8d27a1d8f8c7b78b4330</td>\n",
       "      <td>cat_1</td>\n",
       "      <td>673.0</td>\n",
       "      <td>False</td>\n",
       "      <td>16a5cdae362b8d27a1d8f8c7b78b4330_cat_1</td>\n",
       "      <td>NaN</td>\n",
       "      <td>NaN</td>\n",
       "      <td>NaN</td>\n",
       "      <td>NaN</td>\n",
       "      <td>NaN</td>\n",
       "      <td>...</td>\n",
       "      <td>False</td>\n",
       "      <td>False</td>\n",
       "      <td>False</td>\n",
       "      <td>True</td>\n",
       "      <td>False</td>\n",
       "      <td>False</td>\n",
       "      <td>False</td>\n",
       "      <td>False</td>\n",
       "      <td>False</td>\n",
       "      <td>False</td>\n",
       "    </tr>\n",
       "    <tr>\n",
       "      <th>2022-08-01</th>\n",
       "      <td>16a5cdae362b8d27a1d8f8c7b78b4330</td>\n",
       "      <td>cat_1</td>\n",
       "      <td>673.0</td>\n",
       "      <td>False</td>\n",
       "      <td>16a5cdae362b8d27a1d8f8c7b78b4330_cat_1</td>\n",
       "      <td>NaN</td>\n",
       "      <td>NaN</td>\n",
       "      <td>NaN</td>\n",
       "      <td>NaN</td>\n",
       "      <td>NaN</td>\n",
       "      <td>...</td>\n",
       "      <td>False</td>\n",
       "      <td>False</td>\n",
       "      <td>False</td>\n",
       "      <td>True</td>\n",
       "      <td>False</td>\n",
       "      <td>False</td>\n",
       "      <td>False</td>\n",
       "      <td>False</td>\n",
       "      <td>False</td>\n",
       "      <td>False</td>\n",
       "    </tr>\n",
       "  </tbody>\n",
       "</table>\n",
       "<p>5 rows × 27 columns</p>\n",
       "</div>"
      ],
      "text/plain": [
       "                                       st_id group_cat  pr_sales_in_units  \\\n",
       "date                                                                        \n",
       "2022-08-01  16a5cdae362b8d27a1d8f8c7b78b4330     cat_1              673.0   \n",
       "2022-08-01  16a5cdae362b8d27a1d8f8c7b78b4330     cat_1              673.0   \n",
       "2022-08-01  16a5cdae362b8d27a1d8f8c7b78b4330     cat_1              673.0   \n",
       "2022-08-01  16a5cdae362b8d27a1d8f8c7b78b4330     cat_1              673.0   \n",
       "2022-08-01  16a5cdae362b8d27a1d8f8c7b78b4330     cat_1              673.0   \n",
       "\n",
       "            weekend                            st_group_cat  rolling_mean_7  \\\n",
       "date                                                                          \n",
       "2022-08-01    False  16a5cdae362b8d27a1d8f8c7b78b4330_cat_1             NaN   \n",
       "2022-08-01    False  16a5cdae362b8d27a1d8f8c7b78b4330_cat_1             NaN   \n",
       "2022-08-01    False  16a5cdae362b8d27a1d8f8c7b78b4330_cat_1             NaN   \n",
       "2022-08-01    False  16a5cdae362b8d27a1d8f8c7b78b4330_cat_1             NaN   \n",
       "2022-08-01    False  16a5cdae362b8d27a1d8f8c7b78b4330_cat_1             NaN   \n",
       "\n",
       "            rolling_mean_10  rolling_mean_30  lag_1  lag_5  ...  \\\n",
       "date                                                        ...   \n",
       "2022-08-01              NaN              NaN    NaN    NaN  ...   \n",
       "2022-08-01              NaN              NaN    NaN    NaN  ...   \n",
       "2022-08-01              NaN              NaN    NaN    NaN  ...   \n",
       "2022-08-01              NaN              NaN    NaN    NaN  ...   \n",
       "2022-08-01              NaN              NaN    NaN    NaN  ...   \n",
       "\n",
       "            week_befor_new_year  week_befor_easter  holiday  weekday_0  \\\n",
       "date                                                                     \n",
       "2022-08-01                False              False    False       True   \n",
       "2022-08-01                False              False    False       True   \n",
       "2022-08-01                False              False    False       True   \n",
       "2022-08-01                False              False    False       True   \n",
       "2022-08-01                False              False    False       True   \n",
       "\n",
       "            weekday_1  weekday_2  weekday_3  weekday_4  weekday_5  weekday_6  \n",
       "date                                                                          \n",
       "2022-08-01      False      False      False      False      False      False  \n",
       "2022-08-01      False      False      False      False      False      False  \n",
       "2022-08-01      False      False      False      False      False      False  \n",
       "2022-08-01      False      False      False      False      False      False  \n",
       "2022-08-01      False      False      False      False      False      False  \n",
       "\n",
       "[5 rows x 27 columns]"
      ]
     },
     "execution_count": 43,
     "metadata": {},
     "output_type": "execute_result"
    }
   ],
   "source": [
    "df_ts.head()"
   ]
  },
  {
   "cell_type": "markdown",
   "id": "a401275e",
   "metadata": {},
   "source": [
    "Сохраним полученный датасет"
   ]
  },
  {
   "cell_type": "code",
   "execution_count": 44,
   "id": "4cb6a0d5",
   "metadata": {},
   "outputs": [],
   "source": [
    "df_ts.to_csv(PATH_TO_SAVE_SALES_TRAIN_DF, index=False)"
   ]
  },
  {
   "cell_type": "markdown",
   "id": "0f06b43e",
   "metadata": {},
   "source": [
    "Добавим к обработанному датасету датасет по столбцам, поскольку данная информацию была утерена при группировке"
   ]
  },
  {
   "cell_type": "code",
   "execution_count": 45,
   "id": "260ec82b",
   "metadata": {},
   "outputs": [],
   "source": [
    "sales_df_train = df_ts.merge(st_df, on ='st_id', how='left')"
   ]
  },
  {
   "cell_type": "code",
   "execution_count": 46,
   "id": "1105e1c6",
   "metadata": {},
   "outputs": [],
   "source": [
    "sales_df_train.index = df_ts.index"
   ]
  },
  {
   "cell_type": "markdown",
   "id": "eafaab30",
   "metadata": {},
   "source": [
    "Создадим столбец с уникальным сочитанием группы магазина и группы категории товра"
   ]
  },
  {
   "cell_type": "code",
   "execution_count": 47,
   "id": "168669c6",
   "metadata": {},
   "outputs": [],
   "source": [
    "sales_df_train['group_shop_cat'] = sales_df_train['group_shop'] + '_' + sales_df_train['group_cat']"
   ]
  },
  {
   "cell_type": "markdown",
   "id": "bef04d0d",
   "metadata": {},
   "source": [
    "Удалим ненужные столбцы переименуем pr_sales_in_units и сохраним"
   ]
  },
  {
   "cell_type": "code",
   "execution_count": 48,
   "id": "0a7712c9",
   "metadata": {},
   "outputs": [],
   "source": [
    "sales_df_train = sales_df_train.drop(['st_id', 'group_cat', 'st_group_cat', 'group_shop'], axis=1)\n",
    "sales_df_train = sales_df_train.rename(columns={'pr_sales_in_units': 'target'})"
   ]
  },
  {
   "cell_type": "code",
   "execution_count": 49,
   "id": "a8425c5b",
   "metadata": {},
   "outputs": [],
   "source": [
    "df_ts.to_csv(PATH_TO_SAVE_TRAIN_DF, index=False)"
   ]
  },
  {
   "cell_type": "markdown",
   "id": "08e9475c",
   "metadata": {},
   "source": [
    "## Выводы"
   ]
  },
  {
   "cell_type": "code",
   "execution_count": null,
   "id": "71a77e2f",
   "metadata": {},
   "outputs": [],
   "source": []
  }
 ],
 "metadata": {
  "kernelspec": {
   "display_name": "Python 3 (ipykernel)",
   "language": "python",
   "name": "python3"
  },
  "language_info": {
   "codemirror_mode": {
    "name": "ipython",
    "version": 3
   },
   "file_extension": ".py",
   "mimetype": "text/x-python",
   "name": "python",
   "nbconvert_exporter": "python",
   "pygments_lexer": "ipython3",
   "version": "3.10.11"
  }
 },
 "nbformat": 4,
 "nbformat_minor": 5
}
