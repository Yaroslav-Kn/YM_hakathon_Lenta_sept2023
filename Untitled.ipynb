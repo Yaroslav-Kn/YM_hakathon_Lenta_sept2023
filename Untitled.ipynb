{
 "cells": [
  {
   "cell_type": "code",
   "execution_count": 1,
   "id": "22aaeaa3",
   "metadata": {},
   "outputs": [],
   "source": [
    "import pandas as pd"
   ]
  },
  {
   "cell_type": "code",
   "execution_count": 2,
   "id": "61ef31db",
   "metadata": {},
   "outputs": [],
   "source": [
    "json_row = '[{\"st_id\":\"c81e728d9d4c2f636f067f89cc14862c\",\"pr_sku_id\":\"c7b711619071c92bef604c7ad68380dd\",\"date\":\"2023-10-20\",\"pr_sales_type_id\":1,\"pr_sales_in_units\":5.0,\"pr_promo_sales_in_units\":5.0,\"pr_sales_in_rub\":825.0,\"pr_promo_sales_in_rub\":825.0},{\"st_id\":\"42a0e188f5033bc65bf8d78622277c4e\",\"pr_sku_id\":\"68f441429e73dbd33b81f95da31576e9\",\"date\":\"2023-10-29\",\"pr_sales_type_id\":0,\"pr_sales_in_units\":4.0,\"pr_promo_sales_in_units\":0.0,\"pr_sales_in_rub\":196.0,\"pr_promo_sales_in_rub\":0.0}]'"
   ]
  },
  {
   "cell_type": "code",
   "execution_count": 3,
   "id": "f92aae6e",
   "metadata": {},
   "outputs": [],
   "source": [
    "df = pd.read_json(json_row)"
   ]
  },
  {
   "cell_type": "code",
   "execution_count": 4,
   "id": "934eb5c4",
   "metadata": {},
   "outputs": [
    {
     "data": {
      "text/html": [
       "<div>\n",
       "<style scoped>\n",
       "    .dataframe tbody tr th:only-of-type {\n",
       "        vertical-align: middle;\n",
       "    }\n",
       "\n",
       "    .dataframe tbody tr th {\n",
       "        vertical-align: top;\n",
       "    }\n",
       "\n",
       "    .dataframe thead th {\n",
       "        text-align: right;\n",
       "    }\n",
       "</style>\n",
       "<table border=\"1\" class=\"dataframe\">\n",
       "  <thead>\n",
       "    <tr style=\"text-align: right;\">\n",
       "      <th></th>\n",
       "      <th>st_id</th>\n",
       "      <th>pr_sku_id</th>\n",
       "      <th>date</th>\n",
       "      <th>pr_sales_type_id</th>\n",
       "      <th>pr_sales_in_units</th>\n",
       "      <th>pr_promo_sales_in_units</th>\n",
       "      <th>pr_sales_in_rub</th>\n",
       "      <th>pr_promo_sales_in_rub</th>\n",
       "    </tr>\n",
       "  </thead>\n",
       "  <tbody>\n",
       "    <tr>\n",
       "      <th>0</th>\n",
       "      <td>c81e728d9d4c2f636f067f89cc14862c</td>\n",
       "      <td>c7b711619071c92bef604c7ad68380dd</td>\n",
       "      <td>2023-10-20</td>\n",
       "      <td>1</td>\n",
       "      <td>5</td>\n",
       "      <td>5</td>\n",
       "      <td>825</td>\n",
       "      <td>825</td>\n",
       "    </tr>\n",
       "    <tr>\n",
       "      <th>1</th>\n",
       "      <td>42a0e188f5033bc65bf8d78622277c4e</td>\n",
       "      <td>68f441429e73dbd33b81f95da31576e9</td>\n",
       "      <td>2023-10-29</td>\n",
       "      <td>0</td>\n",
       "      <td>4</td>\n",
       "      <td>0</td>\n",
       "      <td>196</td>\n",
       "      <td>0</td>\n",
       "    </tr>\n",
       "  </tbody>\n",
       "</table>\n",
       "</div>"
      ],
      "text/plain": [
       "                              st_id                         pr_sku_id  \\\n",
       "0  c81e728d9d4c2f636f067f89cc14862c  c7b711619071c92bef604c7ad68380dd   \n",
       "1  42a0e188f5033bc65bf8d78622277c4e  68f441429e73dbd33b81f95da31576e9   \n",
       "\n",
       "        date  pr_sales_type_id  pr_sales_in_units  pr_promo_sales_in_units  \\\n",
       "0 2023-10-20                 1                  5                        5   \n",
       "1 2023-10-29                 0                  4                        0   \n",
       "\n",
       "   pr_sales_in_rub  pr_promo_sales_in_rub  \n",
       "0              825                    825  \n",
       "1              196                      0  "
      ]
     },
     "execution_count": 4,
     "metadata": {},
     "output_type": "execute_result"
    }
   ],
   "source": [
    "df"
   ]
  },
  {
   "cell_type": "code",
   "execution_count": null,
   "id": "37325e77",
   "metadata": {},
   "outputs": [],
   "source": []
  }
 ],
 "metadata": {
  "kernelspec": {
   "display_name": "Python 3 (ipykernel)",
   "language": "python",
   "name": "python3"
  },
  "language_info": {
   "codemirror_mode": {
    "name": "ipython",
    "version": 3
   },
   "file_extension": ".py",
   "mimetype": "text/x-python",
   "name": "python",
   "nbconvert_exporter": "python",
   "pygments_lexer": "ipython3",
   "version": "3.10.11"
  }
 },
 "nbformat": 4,
 "nbformat_minor": 5
}
