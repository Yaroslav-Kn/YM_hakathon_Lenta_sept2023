{
 "cells": [
  {
   "cell_type": "markdown",
   "id": "289a2c03",
   "metadata": {},
   "source": [
    "# Modeling"
   ]
  },
  {
   "cell_type": "code",
   "execution_count": 1,
   "id": "639053c4",
   "metadata": {},
   "outputs": [],
   "source": [
    "import pandas as pd\n",
    "import numpy as np\n",
    "import matplotlib.pyplot as plt\n",
    "from tqdm import tqdm\n",
    "\n",
    "from sklearn.metrics import make_scorer\n",
    "from sklearn.linear_model import LinearRegression\n",
    "from catboost import CatBoostRegressor\n",
    "from datetime import datetime, timedelta\n",
    "\n",
    "import pickle\n",
    "\n",
    "import copy\n",
    "import os\n",
    "\n",
    "import warnings\n",
    "\n",
    "warnings.filterwarnings('ignore')"
   ]
  },
  {
   "cell_type": "code",
   "execution_count": 2,
   "id": "29e83685",
   "metadata": {},
   "outputs": [],
   "source": [
    "cwd = os.getcwd()\n",
    "\n",
    "PATH_SALES_DF_TRAIN = cwd + '/data/raw/sales_df_train.csv'\n",
    "PATH_TO_SAVE_ST_DF = cwd + '/data/preprocessing/preproc_st_df.csv'\n",
    "PATH_TO_SAVE_PR_DF = cwd + '/data/preprocessing/preproc_pr_df.csv'\n",
    "PATH_TO_SUMISSION_DF = cwd + '/data/raw/sales_submission.csv'\n",
    "\n",
    "PATH_TO_SAVE_HOLIDAYS = cwd + '/data/holidays.csv'\n",
    "\n",
    "PATH_TO_SAVE_TRAIN_DF_NO_OTLIERS = cwd + '/data/preprocessing/preproc_df_train_no.csv'\n",
    "PATH_TO_SAVE_TRAIN_DF = cwd + '/data/preprocessing/preproc_df_train.csv'\n",
    "\n",
    "PATH_TO_SAVE_TEST_DF = cwd + '/data/preprocessing/preproc_df_test.csv'\n",
    "PATH_TO_SAVE_TEST_DF_NO_OTLIERS = cwd + '/data/preprocessing/preproc_df_test_no.csv'\n",
    "\n",
    "PATH_TO_SAVE_SUMISSION_DF = cwd + '/data/submission/sales_submission.csv'\n",
    "\n",
    "PATH_TO_SAVE_MODELS = cwd + '/models'\n"
   ]
  },
  {
   "cell_type": "markdown",
   "id": "da5bea13",
   "metadata": {},
   "source": [
    "Создадим функцию для оценки качества, поскольку нужно будет оценивать качество как на широкой таблице, так и на узкой, то пропишем доп обработку входных значений."
   ]
  },
  {
   "cell_type": "code",
   "execution_count": 3,
   "id": "718b67b7",
   "metadata": {},
   "outputs": [],
   "source": [
    "def wape(y_true: np.array, y_pred: np.array):\n",
    "    if type(y_true) == pd.DataFrame:\n",
    "        y_true = y_true.values.reshape(-1)\n",
    "    elif type(y_true) != pd.Series:\n",
    "        y_true = y_true.reshape(-1)\n",
    "        \n",
    "    if type(y_pred) == pd.DataFrame:\n",
    "        y_pred = y_pred.values.reshape(-1)\n",
    "    elif type(y_pred) != pd.Series:\n",
    "        y_pred = y_pred.reshape(-1)\n",
    "    return np.sum(np.abs(y_true-y_pred))/np.sum(np.abs(y_true))"
   ]
  },
  {
   "cell_type": "markdown",
   "id": "4f78630c",
   "metadata": {},
   "source": [
    "Поскольку нам нужно минимизировать наше значение, то преобразуем нашу функциюю в loss (для оптимизации в GridSearch)"
   ]
  },
  {
   "cell_type": "code",
   "execution_count": 4,
   "id": "03f54932",
   "metadata": {},
   "outputs": [],
   "source": [
    "wape_loss = make_scorer(wape, greater_is_better=False)"
   ]
  },
  {
   "cell_type": "markdown",
   "id": "b94d489a",
   "metadata": {},
   "source": [
    "Так как нам нужно обучить разные модели на разных товарах, то будем создавать словарь с моделями, которые проверим на необработанных данных, которые модель не видела"
   ]
  },
  {
   "cell_type": "markdown",
   "id": "0b76f3a1",
   "metadata": {},
   "source": [
    "## Создание baislain"
   ]
  },
  {
   "cell_type": "markdown",
   "id": "e51bb7db",
   "metadata": {},
   "source": [
    "Создадим наивную модель. Для начала откроем сырые данные"
   ]
  },
  {
   "cell_type": "code",
   "execution_count": 5,
   "id": "71412ea2",
   "metadata": {},
   "outputs": [],
   "source": [
    "df_y_test = pd.read_csv(PATH_SALES_DF_TRAIN)[['pr_sku_id', 'st_id', 'pr_sales_in_units', 'date', 'pr_sales_type_id']]"
   ]
  },
  {
   "cell_type": "markdown",
   "id": "38f2a12c",
   "metadata": {},
   "source": [
    "Проведём аггрегацию по пересекающимся полям, что бы продукт для каждой даты встречался один раз (с разбиением на промо и без"
   ]
  },
  {
   "cell_type": "code",
   "execution_count": 6,
   "id": "26aa7f00",
   "metadata": {},
   "outputs": [],
   "source": [
    "df_y_test = (df_y_test.groupby(['pr_sku_id', 'st_id', 'pr_sales_in_units', 'date'])['pr_sales_type_id']\n",
    "                      .agg('sum')\n",
    "                      .reset_index(drop=False)\n",
    "                      .sort_values('date'))\n",
    "df_y_test['date'] = pd.to_datetime(df_y_test['date'])\n",
    "df_y_test = df_y_test.sort_values('date')"
   ]
  },
  {
   "cell_type": "markdown",
   "id": "1da529e3",
   "metadata": {},
   "source": [
    "Для того, чтобы можно было чисто протестировать потом модель отложим последние 28 дней."
   ]
  },
  {
   "cell_type": "code",
   "execution_count": 7,
   "id": "d9ec27f0",
   "metadata": {},
   "outputs": [],
   "source": [
    "last_date = df_y_test['date'].max()\n",
    "first_date = last_date - timedelta(days=28)\n",
    "valid_end_date = last_date - timedelta(days=14)"
   ]
  },
  {
   "cell_type": "code",
   "execution_count": 8,
   "id": "9e0dd683",
   "metadata": {},
   "outputs": [
    {
     "data": {
      "text/plain": [
       "(Timestamp('2023-07-18 00:00:00'),\n",
       " Timestamp('2023-06-20 00:00:00'),\n",
       " Timestamp('2023-07-04 00:00:00'))"
      ]
     },
     "execution_count": 8,
     "metadata": {},
     "output_type": "execute_result"
    }
   ],
   "source": [
    "last_date, first_date, valid_end_date"
   ]
  },
  {
   "cell_type": "markdown",
   "id": "4cd00a60",
   "metadata": {},
   "source": [
    "Получим данные для даты идущей перед валидационным отрезком"
   ]
  },
  {
   "cell_type": "code",
   "execution_count": 9,
   "id": "47cc48bd",
   "metadata": {},
   "outputs": [],
   "source": [
    "df_in_date = df_y_test.loc[df_y_test['date']=='2023-06-19']"
   ]
  },
  {
   "cell_type": "markdown",
   "id": "373cfd0c",
   "metadata": {},
   "source": [
    "Последующие 14 дней будем предсказывать по последней известной цене"
   ]
  },
  {
   "cell_type": "code",
   "execution_count": 10,
   "id": "c11cb347",
   "metadata": {},
   "outputs": [],
   "source": [
    "list_df = []\n",
    "for d in range(0, 14):\n",
    "    date = first_date + timedelta(days=d)\n",
    "    df = df_in_date.copy(deep=True)\n",
    "    df['date'] = date\n",
    "    df = df.rename(columns={'pr_sales_in_units': 'target'})\n",
    "    list_df.append(df)\n",
    "    \n",
    "predict_df = pd.concat(list_df, axis=0)"
   ]
  },
  {
   "cell_type": "code",
   "execution_count": 11,
   "id": "67044edf",
   "metadata": {},
   "outputs": [
    {
     "data": {
      "text/html": [
       "<div>\n",
       "<style scoped>\n",
       "    .dataframe tbody tr th:only-of-type {\n",
       "        vertical-align: middle;\n",
       "    }\n",
       "\n",
       "    .dataframe tbody tr th {\n",
       "        vertical-align: top;\n",
       "    }\n",
       "\n",
       "    .dataframe thead th {\n",
       "        text-align: right;\n",
       "    }\n",
       "</style>\n",
       "<table border=\"1\" class=\"dataframe\">\n",
       "  <thead>\n",
       "    <tr style=\"text-align: right;\">\n",
       "      <th></th>\n",
       "      <th>pr_sku_id</th>\n",
       "      <th>st_id</th>\n",
       "      <th>target</th>\n",
       "      <th>date</th>\n",
       "      <th>pr_sales_type_id</th>\n",
       "    </tr>\n",
       "  </thead>\n",
       "  <tbody>\n",
       "    <tr>\n",
       "      <th>553228</th>\n",
       "      <td>a5dd747c3e76dcf7c846d5cda73ded24</td>\n",
       "      <td>42a0e188f5033bc65bf8d78622277c4e</td>\n",
       "      <td>1.0</td>\n",
       "      <td>2023-06-20</td>\n",
       "      <td>0</td>\n",
       "    </tr>\n",
       "    <tr>\n",
       "      <th>794660</th>\n",
       "      <td>ec64491cf0ea4b8a3cde5e351582631d</td>\n",
       "      <td>fa7cdfad1a5aaf8370ebeda47a1ff1c3</td>\n",
       "      <td>1.0</td>\n",
       "      <td>2023-06-20</td>\n",
       "      <td>0</td>\n",
       "    </tr>\n",
       "    <tr>\n",
       "      <th>141503</th>\n",
       "      <td>32cfba8a13694631a8418e4d246e55fa</td>\n",
       "      <td>16a5cdae362b8d27a1d8f8c7b78b4330</td>\n",
       "      <td>0.0</td>\n",
       "      <td>2023-06-20</td>\n",
       "      <td>0</td>\n",
       "    </tr>\n",
       "    <tr>\n",
       "      <th>835389</th>\n",
       "      <td>f8e67df2dd557f44074271107ab9781a</td>\n",
       "      <td>42a0e188f5033bc65bf8d78622277c4e</td>\n",
       "      <td>4.0</td>\n",
       "      <td>2023-06-20</td>\n",
       "      <td>1</td>\n",
       "    </tr>\n",
       "    <tr>\n",
       "      <th>401616</th>\n",
       "      <td>706b9e39dd3ca40669b5f5c74bfebeb8</td>\n",
       "      <td>f7e6c85504ce6e82442c770f7c8606f0</td>\n",
       "      <td>4.0</td>\n",
       "      <td>2023-06-20</td>\n",
       "      <td>0</td>\n",
       "    </tr>\n",
       "    <tr>\n",
       "      <th>...</th>\n",
       "      <td>...</td>\n",
       "      <td>...</td>\n",
       "      <td>...</td>\n",
       "      <td>...</td>\n",
       "      <td>...</td>\n",
       "    </tr>\n",
       "    <tr>\n",
       "      <th>46332</th>\n",
       "      <td>11e6eda3c45e0e17437074dad5842a08</td>\n",
       "      <td>fa7cdfad1a5aaf8370ebeda47a1ff1c3</td>\n",
       "      <td>0.0</td>\n",
       "      <td>2023-07-03</td>\n",
       "      <td>0</td>\n",
       "    </tr>\n",
       "    <tr>\n",
       "      <th>78798</th>\n",
       "      <td>1cec786e41a51f75b5701511f995218b</td>\n",
       "      <td>f7e6c85504ce6e82442c770f7c8606f0</td>\n",
       "      <td>1.0</td>\n",
       "      <td>2023-07-03</td>\n",
       "      <td>1</td>\n",
       "    </tr>\n",
       "    <tr>\n",
       "      <th>547696</th>\n",
       "      <td>a3dd40d8e9190be52a593ad39a3fd78e</td>\n",
       "      <td>1ecfb463472ec9115b10c292ef8bc986</td>\n",
       "      <td>12.0</td>\n",
       "      <td>2023-07-03</td>\n",
       "      <td>1</td>\n",
       "    </tr>\n",
       "    <tr>\n",
       "      <th>837173</th>\n",
       "      <td>f9913de6246f7b1d28d51261c268f0ae</td>\n",
       "      <td>42a0e188f5033bc65bf8d78622277c4e</td>\n",
       "      <td>2.0</td>\n",
       "      <td>2023-07-03</td>\n",
       "      <td>0</td>\n",
       "    </tr>\n",
       "    <tr>\n",
       "      <th>134801</th>\n",
       "      <td>2f72f7c5dae106c917edff70a3b1ac1f</td>\n",
       "      <td>c81e728d9d4c2f636f067f89cc14862c</td>\n",
       "      <td>1.0</td>\n",
       "      <td>2023-07-03</td>\n",
       "      <td>0</td>\n",
       "    </tr>\n",
       "  </tbody>\n",
       "</table>\n",
       "<p>33110 rows × 5 columns</p>\n",
       "</div>"
      ],
      "text/plain": [
       "                               pr_sku_id                             st_id  \\\n",
       "553228  a5dd747c3e76dcf7c846d5cda73ded24  42a0e188f5033bc65bf8d78622277c4e   \n",
       "794660  ec64491cf0ea4b8a3cde5e351582631d  fa7cdfad1a5aaf8370ebeda47a1ff1c3   \n",
       "141503  32cfba8a13694631a8418e4d246e55fa  16a5cdae362b8d27a1d8f8c7b78b4330   \n",
       "835389  f8e67df2dd557f44074271107ab9781a  42a0e188f5033bc65bf8d78622277c4e   \n",
       "401616  706b9e39dd3ca40669b5f5c74bfebeb8  f7e6c85504ce6e82442c770f7c8606f0   \n",
       "...                                  ...                               ...   \n",
       "46332   11e6eda3c45e0e17437074dad5842a08  fa7cdfad1a5aaf8370ebeda47a1ff1c3   \n",
       "78798   1cec786e41a51f75b5701511f995218b  f7e6c85504ce6e82442c770f7c8606f0   \n",
       "547696  a3dd40d8e9190be52a593ad39a3fd78e  1ecfb463472ec9115b10c292ef8bc986   \n",
       "837173  f9913de6246f7b1d28d51261c268f0ae  42a0e188f5033bc65bf8d78622277c4e   \n",
       "134801  2f72f7c5dae106c917edff70a3b1ac1f  c81e728d9d4c2f636f067f89cc14862c   \n",
       "\n",
       "        target       date  pr_sales_type_id  \n",
       "553228     1.0 2023-06-20                 0  \n",
       "794660     1.0 2023-06-20                 0  \n",
       "141503     0.0 2023-06-20                 0  \n",
       "835389     4.0 2023-06-20                 1  \n",
       "401616     4.0 2023-06-20                 0  \n",
       "...        ...        ...               ...  \n",
       "46332      0.0 2023-07-03                 0  \n",
       "78798      1.0 2023-07-03                 1  \n",
       "547696    12.0 2023-07-03                 1  \n",
       "837173     2.0 2023-07-03                 0  \n",
       "134801     1.0 2023-07-03                 0  \n",
       "\n",
       "[33110 rows x 5 columns]"
      ]
     },
     "execution_count": 11,
     "metadata": {},
     "output_type": "execute_result"
    }
   ],
   "source": [
    "predict_df"
   ]
  },
  {
   "cell_type": "markdown",
   "id": "9dcd3557",
   "metadata": {},
   "source": [
    "Напишем функцию для получения среза данных для валидации, и переименуем столбец с целевым признаком"
   ]
  },
  {
   "cell_type": "code",
   "execution_count": 12,
   "id": "63d287f3",
   "metadata": {},
   "outputs": [],
   "source": [
    "def get_valid_data (df_y_test, first_date):\n",
    "    df_valid_data = df_y_test.copy(deep=True)\n",
    "    df_valid_data.index = pd.to_datetime(df_valid_data['date'])\n",
    "    df_valid_data = df_valid_data.loc[first_date: first_date + timedelta(days=13)]\n",
    "    df_valid_data = df_valid_data.rename(columns={'pr_sales_in_units': 'y_true'})\n",
    "    df_valid_data = df_valid_data.reset_index(drop=True)\n",
    "    return df_valid_data"
   ]
  },
  {
   "cell_type": "code",
   "execution_count": 13,
   "id": "69140db1",
   "metadata": {},
   "outputs": [],
   "source": [
    "df_valid_data = get_valid_data (df_y_test, first_date)"
   ]
  },
  {
   "cell_type": "markdown",
   "id": "3424ce76",
   "metadata": {},
   "source": [
    "Соединим два датасета и заполним пропуки нулями"
   ]
  },
  {
   "cell_type": "code",
   "execution_count": 14,
   "id": "e163e282",
   "metadata": {},
   "outputs": [
    {
     "data": {
      "text/html": [
       "<div>\n",
       "<style scoped>\n",
       "    .dataframe tbody tr th:only-of-type {\n",
       "        vertical-align: middle;\n",
       "    }\n",
       "\n",
       "    .dataframe tbody tr th {\n",
       "        vertical-align: top;\n",
       "    }\n",
       "\n",
       "    .dataframe thead th {\n",
       "        text-align: right;\n",
       "    }\n",
       "</style>\n",
       "<table border=\"1\" class=\"dataframe\">\n",
       "  <thead>\n",
       "    <tr style=\"text-align: right;\">\n",
       "      <th></th>\n",
       "      <th>pr_sku_id</th>\n",
       "      <th>st_id</th>\n",
       "      <th>y_true</th>\n",
       "      <th>date</th>\n",
       "      <th>pr_sales_type_id</th>\n",
       "      <th>target</th>\n",
       "    </tr>\n",
       "  </thead>\n",
       "  <tbody>\n",
       "    <tr>\n",
       "      <th>0</th>\n",
       "      <td>6e5d274636cdf86dabee3f8658794d54</td>\n",
       "      <td>1ecfb463472ec9115b10c292ef8bc986</td>\n",
       "      <td>12.0</td>\n",
       "      <td>2023-06-20</td>\n",
       "      <td>0</td>\n",
       "      <td>0.0</td>\n",
       "    </tr>\n",
       "    <tr>\n",
       "      <th>1</th>\n",
       "      <td>42a303fc7a6b682be534d5a0e8d3a115</td>\n",
       "      <td>fa7cdfad1a5aaf8370ebeda47a1ff1c3</td>\n",
       "      <td>6.0</td>\n",
       "      <td>2023-06-20</td>\n",
       "      <td>0</td>\n",
       "      <td>3.0</td>\n",
       "    </tr>\n",
       "    <tr>\n",
       "      <th>2</th>\n",
       "      <td>775d43db5ba7c26ace5162e82aed780f</td>\n",
       "      <td>f7e6c85504ce6e82442c770f7c8606f0</td>\n",
       "      <td>3.0</td>\n",
       "      <td>2023-06-20</td>\n",
       "      <td>0</td>\n",
       "      <td>1.0</td>\n",
       "    </tr>\n",
       "    <tr>\n",
       "      <th>3</th>\n",
       "      <td>611f825b294117975c8d5c112cfb44ad</td>\n",
       "      <td>fa7cdfad1a5aaf8370ebeda47a1ff1c3</td>\n",
       "      <td>1.0</td>\n",
       "      <td>2023-06-20</td>\n",
       "      <td>0</td>\n",
       "      <td>2.0</td>\n",
       "    </tr>\n",
       "    <tr>\n",
       "      <th>4</th>\n",
       "      <td>543f17ebd9d464531d61fcdeaa36678f</td>\n",
       "      <td>c81e728d9d4c2f636f067f89cc14862c</td>\n",
       "      <td>0.0</td>\n",
       "      <td>2023-06-20</td>\n",
       "      <td>0</td>\n",
       "      <td>1.0</td>\n",
       "    </tr>\n",
       "    <tr>\n",
       "      <th>...</th>\n",
       "      <td>...</td>\n",
       "      <td>...</td>\n",
       "      <td>...</td>\n",
       "      <td>...</td>\n",
       "      <td>...</td>\n",
       "      <td>...</td>\n",
       "    </tr>\n",
       "    <tr>\n",
       "      <th>48729</th>\n",
       "      <td>50a87fe641d22f2f6563948e8d7bb1b2</td>\n",
       "      <td>16a5cdae362b8d27a1d8f8c7b78b4330</td>\n",
       "      <td>0.0</td>\n",
       "      <td>2023-07-03</td>\n",
       "      <td>0</td>\n",
       "      <td>2.0</td>\n",
       "    </tr>\n",
       "    <tr>\n",
       "      <th>48730</th>\n",
       "      <td>11e6eda3c45e0e17437074dad5842a08</td>\n",
       "      <td>fa7cdfad1a5aaf8370ebeda47a1ff1c3</td>\n",
       "      <td>0.0</td>\n",
       "      <td>2023-07-03</td>\n",
       "      <td>0</td>\n",
       "      <td>0.0</td>\n",
       "    </tr>\n",
       "    <tr>\n",
       "      <th>48731</th>\n",
       "      <td>1cec786e41a51f75b5701511f995218b</td>\n",
       "      <td>f7e6c85504ce6e82442c770f7c8606f0</td>\n",
       "      <td>0.0</td>\n",
       "      <td>2023-07-03</td>\n",
       "      <td>1</td>\n",
       "      <td>1.0</td>\n",
       "    </tr>\n",
       "    <tr>\n",
       "      <th>48732</th>\n",
       "      <td>a3dd40d8e9190be52a593ad39a3fd78e</td>\n",
       "      <td>1ecfb463472ec9115b10c292ef8bc986</td>\n",
       "      <td>0.0</td>\n",
       "      <td>2023-07-03</td>\n",
       "      <td>1</td>\n",
       "      <td>12.0</td>\n",
       "    </tr>\n",
       "    <tr>\n",
       "      <th>48733</th>\n",
       "      <td>f9913de6246f7b1d28d51261c268f0ae</td>\n",
       "      <td>42a0e188f5033bc65bf8d78622277c4e</td>\n",
       "      <td>0.0</td>\n",
       "      <td>2023-07-03</td>\n",
       "      <td>0</td>\n",
       "      <td>2.0</td>\n",
       "    </tr>\n",
       "  </tbody>\n",
       "</table>\n",
       "<p>48734 rows × 6 columns</p>\n",
       "</div>"
      ],
      "text/plain": [
       "                              pr_sku_id                             st_id  \\\n",
       "0      6e5d274636cdf86dabee3f8658794d54  1ecfb463472ec9115b10c292ef8bc986   \n",
       "1      42a303fc7a6b682be534d5a0e8d3a115  fa7cdfad1a5aaf8370ebeda47a1ff1c3   \n",
       "2      775d43db5ba7c26ace5162e82aed780f  f7e6c85504ce6e82442c770f7c8606f0   \n",
       "3      611f825b294117975c8d5c112cfb44ad  fa7cdfad1a5aaf8370ebeda47a1ff1c3   \n",
       "4      543f17ebd9d464531d61fcdeaa36678f  c81e728d9d4c2f636f067f89cc14862c   \n",
       "...                                 ...                               ...   \n",
       "48729  50a87fe641d22f2f6563948e8d7bb1b2  16a5cdae362b8d27a1d8f8c7b78b4330   \n",
       "48730  11e6eda3c45e0e17437074dad5842a08  fa7cdfad1a5aaf8370ebeda47a1ff1c3   \n",
       "48731  1cec786e41a51f75b5701511f995218b  f7e6c85504ce6e82442c770f7c8606f0   \n",
       "48732  a3dd40d8e9190be52a593ad39a3fd78e  1ecfb463472ec9115b10c292ef8bc986   \n",
       "48733  f9913de6246f7b1d28d51261c268f0ae  42a0e188f5033bc65bf8d78622277c4e   \n",
       "\n",
       "       y_true       date  pr_sales_type_id  target  \n",
       "0        12.0 2023-06-20                 0     0.0  \n",
       "1         6.0 2023-06-20                 0     3.0  \n",
       "2         3.0 2023-06-20                 0     1.0  \n",
       "3         1.0 2023-06-20                 0     2.0  \n",
       "4         0.0 2023-06-20                 0     1.0  \n",
       "...       ...        ...               ...     ...  \n",
       "48729     0.0 2023-07-03                 0     2.0  \n",
       "48730     0.0 2023-07-03                 0     0.0  \n",
       "48731     0.0 2023-07-03                 1     1.0  \n",
       "48732     0.0 2023-07-03                 1    12.0  \n",
       "48733     0.0 2023-07-03                 0     2.0  \n",
       "\n",
       "[48734 rows x 6 columns]"
      ]
     },
     "execution_count": 14,
     "metadata": {},
     "output_type": "execute_result"
    }
   ],
   "source": [
    "df_valid_data = df_valid_data.merge(predict_df, on=['date', 'pr_sku_id', 'st_id', 'pr_sales_type_id'], how='outer')\n",
    "df_valid_data = df_valid_data.fillna(0)\n",
    "df_valid_data"
   ]
  },
  {
   "cell_type": "markdown",
   "id": "00386d7a",
   "metadata": {},
   "source": [
    "Посмотрим на метрику наивной модели"
   ]
  },
  {
   "cell_type": "code",
   "execution_count": 15,
   "id": "2408b97d",
   "metadata": {},
   "outputs": [
    {
     "data": {
      "text/plain": [
       "0.9059494719620778"
      ]
     },
     "execution_count": 15,
     "metadata": {},
     "output_type": "execute_result"
    }
   ],
   "source": [
    "wape(df_valid_data['y_true'], df_valid_data['target'])"
   ]
  },
  {
   "cell_type": "markdown",
   "id": "8696a2b7",
   "metadata": {},
   "source": [
    "Визуализируем полученный прогноз"
   ]
  },
  {
   "cell_type": "code",
   "execution_count": 16,
   "id": "85c40744",
   "metadata": {},
   "outputs": [],
   "source": [
    "def visualize_pred(df, name_plot_model, name_pred_column = 'target', name_true_column = 'y_true'):\n",
    "    df = df.groupby('date')[['target', 'y_true']].agg('mean')\n",
    "    plt.title(f'График прогноза и реальных значений (средние значения по дате) для модели {name_plot_model}')\n",
    "    plt.plot(df[name_pred_column], label='prediction')\n",
    "    plt.plot(df[name_true_column], label='test')\n",
    "    plt.legend()\n",
    "    plt.xticks(rotation=45)\n",
    "    plt.show()"
   ]
  },
  {
   "cell_type": "code",
   "execution_count": 17,
   "id": "0ff0a2e1",
   "metadata": {},
   "outputs": [
    {
     "data": {
      "image/png": "[encoded data removed]",
      "text/plain": [
       "<Figure size 640x480 with 1 Axes>"
      ]
     },
     "metadata": {},
     "output_type": "display_data"
    }
   ],
   "source": [
    "visualize_pred(df_valid_data, 'naive')"
   ]
  },
  {
   "cell_type": "markdown",
   "id": "65e43437",
   "metadata": {},
   "source": [
    "Это будет нашим безлайном, который мы попробуем побить"
   ]
  },
  {
   "cell_type": "markdown",
   "id": "de5b67d7",
   "metadata": {},
   "source": [
    "## Создание моделей"
   ]
  },
  {
   "cell_type": "markdown",
   "id": "b184ceb7",
   "metadata": {},
   "source": [
    "Поработаем с признаками, для этого для этого создадим функцию, которая будет открывать требуемый датасет и получать срезы."
   ]
  },
  {
   "cell_type": "code",
   "execution_count": 18,
   "id": "5fe8a1ec",
   "metadata": {},
   "outputs": [],
   "source": [
    "def get_df(path, date, is_train=True):\n",
    "    df = pd.read_csv(path, index_col=0)\n",
    "    df.index = pd.to_datetime(df.index)\n",
    "    df = df.sort_index()\n",
    "    if is_train:\n",
    "        df = df.loc[:(date - timedelta(days=1))]\n",
    "    else:\n",
    "        df = df.loc[date]\n",
    "        target_list = df.columns[df.columns.str.contains('target', case=False)]\n",
    "        df = df.drop(target_list, axis=1)\n",
    "    return df"
   ]
  },
  {
   "cell_type": "code",
   "execution_count": 19,
   "id": "f8d3ad4e",
   "metadata": {},
   "outputs": [],
   "source": [
    "# поскольку модель должна быть обучена 14 дней назад, так как иначе не былотаргета\n",
    "df_train = get_df(PATH_TO_SAVE_TRAIN_DF_NO_OTLIERS, first_date - timedelta(days=14)) "
   ]
  },
  {
   "cell_type": "markdown",
   "id": "c94510c3",
   "metadata": {},
   "source": [
    "Выберем все столбцы, которые содержат слово target, чтобы в дальнейшем выделить столбцы для обучения"
   ]
  },
  {
   "cell_type": "markdown",
   "id": "ab664291",
   "metadata": {},
   "source": [
    "Получим список признаков содержащих слово target, чтобы выделить отдельно признаки и цели обучения"
   ]
  },
  {
   "cell_type": "code",
   "execution_count": 20,
   "id": "a4d1748a",
   "metadata": {},
   "outputs": [],
   "source": [
    "target_list = df_train.columns[df_train.columns.str.contains('target', case=False)]"
   ]
  },
  {
   "cell_type": "markdown",
   "id": "1a787a1c",
   "metadata": {},
   "source": [
    "Напишем функцию, которая будет обучать модели для каждой группы с дефолтными параметрами."
   ]
  },
  {
   "cell_type": "code",
   "execution_count": 21,
   "id": "b0df20bc",
   "metadata": {},
   "outputs": [],
   "source": [
    "def fit_models(df, model, target_list):\n",
    "    dict_mod = {}\n",
    "    list_mod = df['group_shop_cat'].unique()\n",
    "    for i, name_mod in enumerate(list_mod):\n",
    "        df_train_mod = df[df['group_shop_cat'] == name_mod].copy(deep=True)\n",
    "        df_train_mod = df_train_mod.drop('group_shop_cat',axis=1)\n",
    "\n",
    "        X_train = df_train_mod.drop(target_list, axis=1)\n",
    "        y_train = df_train_mod[target_list] \n",
    "        \n",
    "        new_model = copy.deepcopy(model)\n",
    "        new_model.fit(X_train, y_train)\n",
    "        dict_mod[name_mod] = new_model\n",
    "    return dict_mod"
   ]
  },
  {
   "cell_type": "code",
   "execution_count": 22,
   "id": "0b04181f",
   "metadata": {},
   "outputs": [],
   "source": [
    "model = LinearRegression()\n",
    "dict_mod = fit_models(df_train, model, target_list)"
   ]
  },
  {
   "cell_type": "markdown",
   "id": "9bacbedf",
   "metadata": {},
   "source": [
    "Напишем функцию, которая будет делать предсказания на основе датасета с датой с которой нужно сделать предсказание на 14 дней вперёд в формате указанном в ТЗ."
   ]
  },
  {
   "cell_type": "code",
   "execution_count": 23,
   "id": "c99fa9dc",
   "metadata": {},
   "outputs": [],
   "source": [
    "def get_predict(df_test, \n",
    "                df_for_pred, \n",
    "                st_df, \n",
    "                pr_df, \n",
    "                dict_mod, \n",
    "                not_promo=False, \n",
    "                return_y_true=False, \n",
    "                only_st_sku=False):\n",
    "    # получим последнюю дату в датасете\n",
    "    last_date = df_test.index.max()\n",
    "    list_models = df_test.loc[last_date, 'group_shop_cat'].unique()\n",
    "\n",
    "    #создадим списко для названия столбцов предикта в соответствии с датами\n",
    "    list_columns = []\n",
    "    for i in range(14):\n",
    "        list_columns.append(last_date + timedelta(days=i))\n",
    "\n",
    "    # создадим список для предсказаний и пройдёмся по всем моделям\n",
    "    list_predict = []\n",
    "    for name_model in list_models: \n",
    "        df_test_for_pred = df_test[df_test['group_shop_cat'] == name_model].copy(deep=True)   \n",
    "        if df_test_for_pred.shape[0] > 0:\n",
    "            #Сохраним столбцы, чтобы в дальнейшем их можно было присоединить к датасету\n",
    "            group_shop_cat = df_test_for_pred['group_shop_cat'].reset_index(drop=True)\n",
    "            pr_sales_type = df_test_for_pred['pr_sales_type_id'].reset_index(drop=True)\n",
    "            pr_pr_uom_id = df_test_for_pred['pr_uom_id'].reset_index(drop=True)\n",
    "            \n",
    "            # сделаем прогноз\n",
    "            X_test = df_test_for_pred.drop(['group_shop_cat'],axis=1)\n",
    "            model = dict_mod[name_model]            \n",
    "            y_pred = model.predict(X_test)\n",
    "\n",
    "            # получим широкий датасет, где для каждой строки будет столбец с прогнозом на конкретную дату на 14 дней вперёд\n",
    "            predictions_data = pd.DataFrame(data=y_pred, columns=list_columns)\n",
    "            predictions_data['group_shop_cat'] = group_shop_cat\n",
    "            predictions_data['pr_sales_type_id'] = pr_sales_type\n",
    "            predictions_data['pr_uom_id'] = pr_pr_uom_id\n",
    "\n",
    "            # развернём получившийся датасет в узкую таблицу (поскольку именно в таком формате она нужна по заданию)\n",
    "            predictions_data = predictions_data.melt(['group_shop_cat', 'pr_sales_type_id', 'pr_uom_id'], \n",
    "                                                     var_name='date', \n",
    "                                                     value_name='target')\n",
    "            list_predict.append(predictions_data)\n",
    "\n",
    "    # соединим прогнозы каждой из модели\n",
    "    pred = pd.concat(list_predict)\n",
    "    # получим пересечение всех товаров со всеми магазинами, добавим столбец с таким же названием какой был у моделей\n",
    "    # и соединим их с нашим рогнозом\n",
    "    st_pr_df = st_df.merge(pr_df, how='cross')\n",
    "    st_pr_df['group_shop_cat'] = st_pr_df['group_shop'] + '_' + st_pr_df['group_cat']\n",
    "    st_pr_df = st_pr_df.drop(['group_cat', 'group_shop'], axis=1)\n",
    "    pr_data = pred.merge(st_pr_df, on='group_shop_cat', how='left')\n",
    "    df_for_pred = df_for_pred.merge(pr_df[['pr_sku_id', 'pr_uom_id']], on = 'pr_sku_id', how='left')\n",
    "\n",
    "    # приведём столбец с датой и прогнозного датасета и датасета с запросом к одному типу, чтобы не было проблем при их соединении\n",
    "    pr_data['date'] = pd.to_datetime(pr_data['date'])\n",
    "    df_for_pred['date'] = pd.to_datetime(df_for_pred['date'])\n",
    "\n",
    "    # объединим прогнозный датасет и датасет с запросом на предсказание с учётом того нужно ли возвращать все столбцы\n",
    "    if only_st_sku:\n",
    "        pr_data = pr_data.merge(df_for_pred, on=['st_id', 'pr_sku_id', 'date'], how='right')                \n",
    "    else:\n",
    "        pr_data = pr_data.merge(df_for_pred, on=['st_id', 'pr_sku_id', 'date', 'pr_sales_type_id', 'pr_sku_id'], how='right')\n",
    "    pr_data = pr_data.fillna(0)\n",
    "\n",
    "    # обработаем возврат информации по промо\n",
    "    if not_promo:\n",
    "        pr_data = pr_data[pr_data['pr_sales_type_id'] == 0]\n",
    "        return_list = ['st_id', 'pr_sku_id', 'date', 'target']\n",
    "        if return_y_true and 'y_true' in pr_data.columns:\n",
    "            return_list.append('y_true')\n",
    "        pr_data = pr_data[return_list]\n",
    "    # сгруппируем данные по столбцам и сагрегируем таргет как среднее\n",
    "    # одинаковые записи могу твозник при пересечении разных множеств (например изменение типа продажи товара по штукам или на вес и т.д.) \n",
    "    pr_columns = list(pr_data.columns)\n",
    "    pr_columns.remove('target')\n",
    "    if not only_st_sku:\n",
    "        pr_columns.remove('y_true')\n",
    "        pr_data = pr_data.groupby(pr_columns)[['target', 'y_true']].agg('mean').reset_index(drop=False)\n",
    "    else:\n",
    "        pr_data = pr_data.groupby(pr_columns)[['target']].agg('mean').reset_index(drop=False)\n",
    "\n",
    "    return pr_data"
   ]
  },
  {
   "cell_type": "markdown",
   "id": "a9878bc5",
   "metadata": {},
   "source": [
    "Получим датасетс с информацией на день начала периода валидации"
   ]
  },
  {
   "cell_type": "code",
   "execution_count": 24,
   "id": "2c8eb15c",
   "metadata": {},
   "outputs": [],
   "source": [
    "df_valid_data = get_valid_data (df_y_test, first_date)"
   ]
  },
  {
   "cell_type": "code",
   "execution_count": 25,
   "id": "6e31923f",
   "metadata": {},
   "outputs": [],
   "source": [
    "df_test = get_df(PATH_TO_SAVE_TRAIN_DF_NO_OTLIERS, first_date, is_train=False) \n",
    "st_df = pd.read_csv(PATH_TO_SAVE_ST_DF)\n",
    "pr_df = pd.read_csv(PATH_TO_SAVE_PR_DF)"
   ]
  },
  {
   "cell_type": "code",
   "execution_count": 26,
   "id": "85f25306",
   "metadata": {
    "scrolled": true
   },
   "outputs": [],
   "source": [
    "pred = get_predict(df_test, df_valid_data, st_df, pr_df, dict_mod)"
   ]
  },
  {
   "cell_type": "markdown",
   "id": "3b2b80b3",
   "metadata": {},
   "source": [
    "Поскольку мы передовали не датафрейм для предсказаний, а дф для валидации, то можем сразу получить wape и построить график"
   ]
  },
  {
   "cell_type": "code",
   "execution_count": 27,
   "id": "4c166089",
   "metadata": {},
   "outputs": [
    {
     "data": {
      "text/plain": [
       "0.7922711255655601"
      ]
     },
     "execution_count": 27,
     "metadata": {},
     "output_type": "execute_result"
    }
   ],
   "source": [
    "wape(pred['y_true'], pred['target'])"
   ]
  },
  {
   "cell_type": "code",
   "execution_count": 28,
   "id": "a7b7294d",
   "metadata": {},
   "outputs": [
    {
     "data": {
      "image/png": "[encoded data removed]",
      "text/plain": [
       "<Figure size 640x480 with 1 Axes>"
      ]
     },
     "metadata": {},
     "output_type": "display_data"
    }
   ],
   "source": [
    "visualize_pred(pred, 'ансамбля LinearRegression')"
   ]
  },
  {
   "cell_type": "markdown",
   "id": "33efc517",
   "metadata": {},
   "source": [
    "Модель по качеству wape получилась немного лучше попробуем улучшить её."
   ]
  },
  {
   "cell_type": "markdown",
   "id": "64a55820",
   "metadata": {},
   "source": [
    "## Оптимизация признаков"
   ]
  },
  {
   "cell_type": "markdown",
   "id": "adaf9b76",
   "metadata": {},
   "source": [
    "Попробуем улучшить качество нашей модели путем подбора оптимальных признаков для этого воспользуемся функциями разработанными на этапе предообработки данных."
   ]
  },
  {
   "cell_type": "code",
   "execution_count": 29,
   "id": "5834aa32",
   "metadata": {},
   "outputs": [],
   "source": [
    "def get_clear_df(df, var_for_na=0.01, var_for_null=0):\n",
    "    dict_df = {}     \n",
    "    df_date = pd.DataFrame(data=df['date'].copy(deep=True).unique(), columns=['date'])\n",
    "    df_date = df_date.sort_values('date').reset_index(drop=True)\n",
    "    df = df.copy(deep=True)\n",
    "    df['all_st_pr'] =  df['st_id'] + '_' + df['pr_sku_id']\n",
    "    for x in df['all_st_pr'].unique():\n",
    "        new_df = df.loc[df['all_st_pr']==x].copy(deep=True)\n",
    "        \n",
    "        # оставим в датасете только значения с целевым признаком больше или равных 0\n",
    "        new_df = new_df[new_df['pr_sales_in_units']>=0].reset_index(drop=True)\n",
    "        if new_df.shape[0] > 0:\n",
    "            #сделаем словарь для заполнения пропусков\n",
    "            list_col = list(new_df.columns)\n",
    "            list_col.remove('pr_sales_in_units')\n",
    "            dict_for_fillna = {k: new_df.loc[0, k] for k in list_col}\n",
    "\n",
    "            new_df = new_df.merge(df_date, on='date', how='outer')\n",
    "            \n",
    "            for k, v in dict_for_fillna.items():\n",
    "                new_df[k] = new_df[k].fillna(v)\n",
    "\n",
    "            new_df['pr_sales_in_units'] = new_df['pr_sales_in_units'].fillna(var_for_na)\n",
    "            new_df[new_df['pr_sales_in_units']==0] = var_for_null\n",
    "            new_df['date'] = pd.to_datetime(new_df['date'])\n",
    "            new_df = new_df.sort_values('date')\n",
    "            new_df = new_df.drop('all_st_pr', axis=1)\n",
    "            dict_df[x] = new_df\n",
    "    return pd.concat(dict_df.values(),axis=0).sort_values(['date','st_id', 'pr_sku_id'])"
   ]
  },
  {
   "cell_type": "code",
   "execution_count": 30,
   "id": "63fc732c",
   "metadata": {},
   "outputs": [],
   "source": [
    "def get_group_and_agg(df, strareg_agg='mean'):\n",
    "    #укажем столбцы для группировки и проведём аггрегацию данных\n",
    "    group_column = ['st_id', 'group_cat', 'pr_sales_type_id', 'pr_uom_id']\n",
    "        \n",
    "    df = (df.groupby(['date', *group_column])['pr_sales_in_units']\n",
    "                       .agg(strareg_agg)\n",
    "                       .reset_index(drop=False)\n",
    "                       .sort_values(['date', *group_column]))  \n",
    "    df['group_column'] = df['st_id'].astype('str') + '_' + df['group_cat'].astype('str') + '_' + df['pr_sales_type_id'].astype('str')\n",
    "    return df "
   ]
  },
  {
   "cell_type": "code",
   "execution_count": 31,
   "id": "4df3cff8",
   "metadata": {},
   "outputs": [],
   "source": [
    "def get_date_and_weekday(df):\n",
    "    #приведём дату в нужный формат, укажем новый индекс и день недели\n",
    "    df['date'] = pd.to_datetime(df['date'])\n",
    "    df.index = df['date']\n",
    "    df['weekday'] = df['date'].dt.weekday \n",
    "    df = df.drop('date', axis=1)\n",
    "    df['weekend'] = (df['weekday'] == 5) | (df['weekday'] == 6)\n",
    "    for i in range(7):\n",
    "        df[f'weekday_{i}'] = df['weekday']==i\n",
    "         \n",
    "    return df"
   ]
  },
  {
   "cell_type": "code",
   "execution_count": 32,
   "id": "122a2a6f",
   "metadata": {},
   "outputs": [],
   "source": [
    "def get_dict(df, group_column):\n",
    "    dict_df = {}     \n",
    "    for x in df[group_column].unique():\n",
    "        new_df = df.loc[df[group_column]==x].copy(deep=True).reset_index(drop=True)\n",
    "        dict_df[x] = new_df\n",
    "    return dict_df"
   ]
  },
  {
   "cell_type": "code",
   "execution_count": 33,
   "id": "f19e06ed",
   "metadata": {},
   "outputs": [],
   "source": [
    "def processing_outliers(df, column, threshold):\n",
    "    df['rolling_mean_30'] = (df[column]\n",
    "                           .shift()\n",
    "                           .rolling(30)\n",
    "                           .mean())\n",
    "    df.loc[df['rolling_mean_30']==0, 'rolling_mean_30'] = 0.001 #защита от деления на 0\n",
    "    df['ratio'] = df[column].shift() / df['rolling_mean_30']\n",
    "    df.loc[df['ratio'] > threshold, column] = df.loc[df['ratio'] > threshold, 'rolling_mean_30'] * threshold\n",
    "    df = df.drop(['ratio', 'rolling_mean_30'], axis=1)\n",
    "    return df"
   ]
  },
  {
   "cell_type": "code",
   "execution_count": 34,
   "id": "bde2af15",
   "metadata": {},
   "outputs": [],
   "source": [
    "def get_mean_in_day(df, weekday_column, column, n_week):\n",
    "    list_weekday_column = df[weekday_column].unique()\n",
    "    for day in list_weekday_column: \n",
    "        new_name_mean = f'mean_in_weekday_{n_week}_week'  \n",
    "        df.loc[(df[weekday_column]==day), new_name_mean] = (df[df[weekday_column]==day][column]\n",
    "                                                           .shift()\n",
    "                                                           .rolling(n_week)\n",
    "                                                           .mean())\n",
    "    df = df.drop(weekday_column, axis=1)     \n",
    "    return df"
   ]
  },
  {
   "cell_type": "code",
   "execution_count": 35,
   "id": "6d9ec08d",
   "metadata": {},
   "outputs": [],
   "source": [
    "def get_rolling(df, column, n_day_list):    \n",
    "    for n_day in n_day_list:\n",
    "        new_name_mean = f'rolling_mean_{n_day}'\n",
    "        new_name_max = f'rolling_max_{n_day}'\n",
    "        new_name_min = f'rolling_min_{n_day}'        \n",
    "        new_name_max_min = f'rolling_max_min_{n_day}'\n",
    "        new_name_ratio = f'rolling_ratio_{n_day}'     \n",
    "        df[new_name_mean] = (df[column]\n",
    "                               .shift()\n",
    "                               .rolling(n_day)\n",
    "                               .mean())\n",
    "        df[new_name_max] = (df[column]\n",
    "                               .shift()\n",
    "                               .rolling(n_day)\n",
    "                               .max())\n",
    "        df[new_name_min] = (df[column]\n",
    "                               .shift()\n",
    "                               .rolling(n_day)\n",
    "                               .min())\n",
    "        df[new_name_max_min] = (df[new_name_max] + df[new_name_min]) / 2\n",
    "        \n",
    "        df.loc[df[new_name_mean]==0, new_name_mean] = 0.001 #защита от деления на 0\n",
    "        df[new_name_ratio] = df[new_name_max_min] / df[new_name_mean]\n",
    "        df\n",
    "    return df"
   ]
  },
  {
   "cell_type": "code",
   "execution_count": 36,
   "id": "e96d18b1",
   "metadata": {},
   "outputs": [],
   "source": [
    "def get_lag(df, column, n_day_list):\n",
    "    for n_day in n_day_list:\n",
    "        new_name = f'lag_{n_day}'\n",
    "        df[new_name] = (df[column].shift(n_day)) \n",
    "        \n",
    "    df['mean_week_lag'] = df[['lag_5', 'lag_6', 'lag_7']].mean(axis=1)\n",
    "    return df"
   ]
  },
  {
   "cell_type": "code",
   "execution_count": 37,
   "id": "2a959a9d",
   "metadata": {},
   "outputs": [],
   "source": [
    "def get_features_ny_e_h(df, list_holidays):\n",
    "    #Добавим флаг нового года и пасхи\n",
    "    df['new_year'] = df.index=='2023-01-01'\n",
    "    df['easter'] = df.index=='2023-04-16'\n",
    "    #\n",
    "    df['week_after_new_year'] = (df.index > '2023-01-01') & (df.index <= '2023-01-08')\n",
    "    df['week_after_easter'] = (df.index > '2023-04-16') & (df.index <= '2023-01-23')\n",
    "    # Добавим флаг после нового года и пасхи\n",
    "    df['week_befor_new_year'] = (df.index > '2022-12-24') & (df.index < '2023-01-01')\n",
    "    df['week_befor_easter'] = (df.index > '2023-04-09') & (df.index <= '2023-04-16')\n",
    "\n",
    "    #Обработаем список праздников\n",
    "    df['holiday'] = df.index.isin(list_holidays)\n",
    "    return df"
   ]
  },
  {
   "cell_type": "code",
   "execution_count": 38,
   "id": "1b4c9fe7",
   "metadata": {},
   "outputs": [],
   "source": [
    "def get_target_diapazon(df, column, n_day, is_train=True):\n",
    "    df = df.copy(deep = True)\n",
    "    df = df.rename(columns = {'pr_sales_in_units': 'target_0'})\n",
    "    if is_train:\n",
    "        for n_day in range(1, n_day):           \n",
    "            new_name = f'target_{n_day}'\n",
    "            df[new_name] = df['target_0'].shift(-n_day)\n",
    "    return df"
   ]
  },
  {
   "cell_type": "code",
   "execution_count": 39,
   "id": "655f6744",
   "metadata": {},
   "outputs": [],
   "source": [
    "def get_features_for_ts(df, \n",
    "                        is_train = True, \n",
    "                        n_day_target = 14,\n",
    "                        column = 'pr_sales_in_units',\n",
    "                        strareg_agg='mean',\n",
    "                        var_for_na = 0.01, \n",
    "                        var_for_null = 0,\n",
    "                        weekday_column = 'weekday',\n",
    "                        n_week_for_lag = 4,\n",
    "                        n_day_rolling_list = [7, 14, 30],\n",
    "                        n_day_lag_list = list(range(1,15)),\n",
    "                        list_holidays = [],\n",
    "                        drop_outliers = False, \n",
    "                        threshold = 1.7):\n",
    "    df = df.copy(deep = True)\n",
    "    df = get_clear_df(df, var_for_na, var_for_null)\n",
    "    df = get_group_and_agg(df, strareg_agg) \n",
    "    new_dict = {}\n",
    "    dict_df = get_dict(df, 'group_column')\n",
    "    for x in dict_df:\n",
    "        df = dict_df[x].copy(deep = True)         \n",
    "        if drop_outliers:\n",
    "            df = processing_outliers(df, column, threshold)\n",
    "        df = get_date_and_weekday(df)  \n",
    "        df = get_mean_in_day(df, weekday_column, column, n_week_for_lag)\n",
    "        df = get_rolling(df, column, n_day_rolling_list)\n",
    "        df = get_lag(df, column, n_day_lag_list)\n",
    "        df = get_features_ny_e_h(df, list_holidays)\n",
    "        df = get_target_diapazon(df, column, n_day_target, is_train=is_train)        \n",
    "        new_dict[x] = df\n",
    "        \n",
    "    return pd.concat(new_dict.values(),axis=0).sort_values(['date','group_column'])"
   ]
  },
  {
   "cell_type": "code",
   "execution_count": 40,
   "id": "15cfdb6d",
   "metadata": {},
   "outputs": [],
   "source": [
    "def combine_shops_sales(st_df, df_ts, is_train=True):\n",
    "    #объединим получившиеся датасеты, перезададим индексы и удалим пропуски в отсутсвующих торговых центрах\n",
    "    df = df_ts.merge(st_df, on ='st_id', how='left')\n",
    "    df.index = df_ts.index\n",
    "    df = df.dropna(subset='group_shop')\n",
    "    # Создадим столбец с уникальным сочитанием группы магазина и группы категории товра \n",
    "    # удалим ненужные столбцы и пропуски в данных\n",
    "    df['group_shop_cat'] = df['group_shop'] + '_' + df['group_cat']\n",
    "    df = df.drop(['st_id', 'group_cat', 'group_column', 'group_shop'], axis=1)\n",
    "    df = df.dropna()\n",
    "    return df"
   ]
  },
  {
   "cell_type": "code",
   "execution_count": 41,
   "id": "c76ffe15",
   "metadata": {},
   "outputs": [],
   "source": [
    "def preproceccing_df(df, \n",
    "                     pr_df, \n",
    "                     st_df, \n",
    "                     is_train = True, \n",
    "                     n_day_target = 14,\n",
    "                     column = 'pr_sales_in_units',\n",
    "                     strareg_agg='mean',\n",
    "                     var_for_na = 0.01, \n",
    "                     var_for_null = 0,\n",
    "                     weekday_column = 'weekday',\n",
    "                     n_week_for_lag = 4,\n",
    "                     n_day_rolling_list = [7, 14, 30],\n",
    "                     n_day_lag_list = list(range(1,15)),\n",
    "                     list_holidays = [],\n",
    "                     drop_outliers = False, \n",
    "                     threshold = 1.7):\n",
    "    \n",
    "    df = df[['st_id', 'pr_sales_type_id', 'pr_sku_id', 'date', 'pr_sales_in_units']]\n",
    "    df = df.merge(pr_df, on ='pr_sku_id')\n",
    "    df = get_features_for_ts(df, \n",
    "                             is_train = is_train, \n",
    "                             n_day_target = n_day_target,\n",
    "                             column = column,\n",
    "                             strareg_agg = strareg_agg,\n",
    "                             var_for_na = var_for_na, \n",
    "                             var_for_null = var_for_null,\n",
    "                             weekday_column = weekday_column,\n",
    "                             n_week_for_lag = n_week_for_lag,\n",
    "                             n_day_rolling_list = n_day_rolling_list,\n",
    "                             n_day_lag_list = n_day_lag_list,\n",
    "                             list_holidays = list_holidays,\n",
    "                             drop_outliers = drop_outliers, \n",
    "                             threshold = threshold)\n",
    "    \n",
    "    df = combine_shops_sales(st_df, df, is_train)\n",
    "    return df"
   ]
  },
  {
   "cell_type": "code",
   "execution_count": 42,
   "id": "9d24a894",
   "metadata": {},
   "outputs": [],
   "source": [
    "sales_df_train = pd.read_csv(PATH_SALES_DF_TRAIN)\n",
    "sales_df_train['date'] = pd.to_datetime(sales_df_train['date'])\n",
    "sales_df_train = sales_df_train.sort_values('date')\n",
    "pr_df = pd.read_csv(PATH_TO_SAVE_PR_DF)\n",
    "st_df = pd.read_csv(PATH_TO_SAVE_ST_DF)"
   ]
  },
  {
   "cell_type": "code",
   "execution_count": 43,
   "id": "2f0f864b",
   "metadata": {},
   "outputs": [],
   "source": [
    "list_holidays = (pd.read_csv(PATH_TO_SAVE_HOLIDAYS)['holidays'].values)"
   ]
  },
  {
   "cell_type": "markdown",
   "id": "354d71df",
   "metadata": {},
   "source": [
    "---"
   ]
  },
  {
   "cell_type": "markdown",
   "id": "7d487915",
   "metadata": {},
   "source": [
    "Напишем функцию для перебора параметров и получения датасета со значениями метрики"
   ]
  },
  {
   "cell_type": "code",
   "execution_count": 44,
   "id": "15a800b9",
   "metadata": {},
   "outputs": [],
   "source": [
    "def get_best_param(sales_df_train, pr_df, st_df, first_date, list_holidays, list_var):\n",
    "    param_list = []\n",
    "    score_list = []\n",
    "    for dict_param in tqdm(list_var):    \n",
    "        df_train = preproceccing_df(sales_df_train[sales_df_train['date'] < first_date].copy(deep=True), \n",
    "                                       pr_df, \n",
    "                                       st_df,                             \n",
    "                                       list_holidays = list_holidays,  \n",
    "                                       **dict_param)\n",
    "        df_test = preproceccing_df(sales_df_train[sales_df_train['date'] > '2023-05-15'].copy(deep=True), \n",
    "                                   pr_df, \n",
    "                                   st_df,                              \n",
    "                                   list_holidays = list_holidays,\n",
    "                                   is_train=False,\n",
    "                                   **dict_param)\n",
    "        df_test = df_test.loc[first_date]\n",
    "        target_list = df_train.columns[df_train.columns.str.contains('target', case=False)]\n",
    "        model = LinearRegression()\n",
    "        dict_mod = fit_models(df_train, model, target_list)\n",
    "        \n",
    "        if 'target_0' in df_test.columns:\n",
    "            df_test = df_test.drop('target_0', axis=1)\n",
    "        pred = get_predict(df_test, df_valid_data, st_df, pr_df, dict_mod)    \n",
    "\n",
    "        param_list.append(dict_param)\n",
    "        score_list.append(wape(pred['y_true'], pred['target'])) \n",
    "\n",
    "    df = pd.DataFrame({'param': param_list,\n",
    "                         'score': score_list})\n",
    "    return df.sort_values('score')"
   ]
  },
  {
   "cell_type": "markdown",
   "id": "d7306e84",
   "metadata": {},
   "source": [
    "Подберём значение для занолнение пропусков в датасете. При этом сначала, будем подберать параметры без удаления выбросов, поскольку порог выбросов будет очень сильно зависить от того, как мы заполням пропуски. Это немного ухудшит прогноз при поборе признаков, но потом, всё нормализуется"
   ]
  },
  {
   "cell_type": "code",
   "execution_count": 45,
   "id": "bd967e47",
   "metadata": {},
   "outputs": [],
   "source": [
    "list_var = [{'var_for_na': x} for x in [0, 0.001, 0.01, 0.1]]"
   ]
  },
  {
   "cell_type": "code",
   "execution_count": 46,
   "id": "cbe9d5e0",
   "metadata": {
    "scrolled": true
   },
   "outputs": [
    {
     "name": "stderr",
     "output_type": "stream",
     "text": [
      "100%|███████████████████████████████████████████████████████████████████████████████████| 4/4 [23:07<00:00, 346.80s/it]"
     ]
    },
    {
     "name": "stdout",
     "output_type": "stream",
     "text": [
      "CPU times: total: 23min 1s\n",
      "Wall time: 23min 7s\n"
     ]
    },
    {
     "name": "stderr",
     "output_type": "stream",
     "text": [
      "\n"
     ]
    },
    {
     "data": {
      "text/html": [
       "<div>\n",
       "<style scoped>\n",
       "    .dataframe tbody tr th:only-of-type {\n",
       "        vertical-align: middle;\n",
       "    }\n",
       "\n",
       "    .dataframe tbody tr th {\n",
       "        vertical-align: top;\n",
       "    }\n",
       "\n",
       "    .dataframe thead th {\n",
       "        text-align: right;\n",
       "    }\n",
       "</style>\n",
       "<table border=\"1\" class=\"dataframe\">\n",
       "  <thead>\n",
       "    <tr style=\"text-align: right;\">\n",
       "      <th></th>\n",
       "      <th>param</th>\n",
       "      <th>score</th>\n",
       "    </tr>\n",
       "  </thead>\n",
       "  <tbody>\n",
       "    <tr>\n",
       "      <th>0</th>\n",
       "      <td>{'var_for_na': 0}</td>\n",
       "      <td>9.614305e-01</td>\n",
       "    </tr>\n",
       "    <tr>\n",
       "      <th>3</th>\n",
       "      <td>{'var_for_na': 0.1}</td>\n",
       "      <td>4.727542e+06</td>\n",
       "    </tr>\n",
       "    <tr>\n",
       "      <th>2</th>\n",
       "      <td>{'var_for_na': 0.01}</td>\n",
       "      <td>4.242527e+07</td>\n",
       "    </tr>\n",
       "    <tr>\n",
       "      <th>1</th>\n",
       "      <td>{'var_for_na': 0.001}</td>\n",
       "      <td>5.433939e+08</td>\n",
       "    </tr>\n",
       "  </tbody>\n",
       "</table>\n",
       "</div>"
      ],
      "text/plain": [
       "                   param         score\n",
       "0      {'var_for_na': 0}  9.614305e-01\n",
       "3    {'var_for_na': 0.1}  4.727542e+06\n",
       "2   {'var_for_na': 0.01}  4.242527e+07\n",
       "1  {'var_for_na': 0.001}  5.433939e+08"
      ]
     },
     "execution_count": 46,
     "metadata": {},
     "output_type": "execute_result"
    }
   ],
   "source": [
    "%%time\n",
    "df_best = get_best_param(sales_df_train, pr_df, st_df, first_date, list_holidays, list_var)\n",
    "df_best"
   ]
  },
  {
   "cell_type": "markdown",
   "id": "38e5370a",
   "metadata": {},
   "source": [
    "Лучшее значение показало заполнение 0, однако, учитывая, что мы используем линейную модель, то заполнение нулями, может привести к тому, что какой-то из признаков не сработает, и на тестовой выборке качество значительно просядет. Поэтому будем заполнять вторым по качеству значением (0,01)"
   ]
  },
  {
   "cell_type": "markdown",
   "id": "17df9498",
   "metadata": {},
   "source": [
    "Получим словарь с параметрами, обуспечивающие лучшее качество"
   ]
  },
  {
   "cell_type": "code",
   "execution_count": 47,
   "id": "f5e1f09b",
   "metadata": {},
   "outputs": [],
   "source": [
    "df_best_dict = df_best[df_best['score'] == df_best['score'].min()].reset_index(drop=True).loc[0, 'param']"
   ]
  },
  {
   "cell_type": "markdown",
   "id": "f3dc2542",
   "metadata": {},
   "source": [
    "Проверим каким значением стоит заменять ноль и стоит ли это делать."
   ]
  },
  {
   "cell_type": "code",
   "execution_count": 48,
   "id": "ecf19fe1",
   "metadata": {},
   "outputs": [],
   "source": [
    "list_var = [{'var_for_null': x} for x in [0, 0.001, 0.01, 0.1]]"
   ]
  },
  {
   "cell_type": "markdown",
   "id": "5a5d3c3a",
   "metadata": {},
   "source": [
    "Сформируем соответсвующи списко со словарями и снова проверим качество модели"
   ]
  },
  {
   "cell_type": "code",
   "execution_count": 49,
   "id": "89cb93ab",
   "metadata": {},
   "outputs": [],
   "source": [
    "for i in list_var:\n",
    "    i.update(df_best_dict)"
   ]
  },
  {
   "cell_type": "code",
   "execution_count": null,
   "id": "35f84b0d",
   "metadata": {},
   "outputs": [
    {
     "name": "stderr",
     "output_type": "stream",
     "text": [
      " 25%|████████████████████▊                                                              | 1/4 [05:57<17:51, 357.15s/it]"
     ]
    }
   ],
   "source": [
    "%%time\n",
    "df_best = get_best_param(sales_df_train, pr_df, st_df, first_date, list_holidays, list_var)\n",
    "df_best"
   ]
  },
  {
   "cell_type": "code",
   "execution_count": null,
   "id": "f2c00843",
   "metadata": {},
   "outputs": [],
   "source": [
    "df_best_dict = df_best[df_best['score'] == df_best['score'].min()].reset_index(drop=True).loc[0, 'param']"
   ]
  },
  {
   "cell_type": "markdown",
   "id": "5043f873",
   "metadata": {},
   "source": [
    "Столь малые изменения в замене нуля, не влияют на финальное качество модели"
   ]
  },
  {
   "cell_type": "markdown",
   "id": "b2f7b2b4",
   "metadata": {},
   "source": [
    "Посмотрим как влияют пороги обрезки выбросов. В качестве порогов рассмотрим 1.4, 1.5, 1.7, 2"
   ]
  },
  {
   "cell_type": "code",
   "execution_count": null,
   "id": "6c023ad6",
   "metadata": {},
   "outputs": [],
   "source": [
    "list_var = [{'drop_outliers': True,'threshold': x} for x in [1.4, 1.5, 1.7, 2]]"
   ]
  },
  {
   "cell_type": "code",
   "execution_count": null,
   "id": "7b2795af",
   "metadata": {},
   "outputs": [],
   "source": [
    "for i in list_var:\n",
    "    i.update(df_best_dict)"
   ]
  },
  {
   "cell_type": "code",
   "execution_count": null,
   "id": "a982890a",
   "metadata": {},
   "outputs": [],
   "source": [
    "%%time\n",
    "df_best = get_best_param(sales_df_train, pr_df, st_df, first_date, list_holidays, list_var)\n",
    "df_best"
   ]
  },
  {
   "cell_type": "markdown",
   "id": "e4336134",
   "metadata": {},
   "source": [
    "Подберём функцию агрегации данных"
   ]
  },
  {
   "cell_type": "code",
   "execution_count": null,
   "id": "15e20fa4",
   "metadata": {},
   "outputs": [],
   "source": [
    "df_best_dict = df_best[df_best['score'] == df_best['score'].min()].reset_index(drop=True).loc[0, 'param']\n",
    "list_var = [{'strareg_agg': x} for x in ['mean', 'median', 'sum']]\n",
    "for i in list_var:    \n",
    "    i.update(df_best_dict)"
   ]
  },
  {
   "cell_type": "code",
   "execution_count": null,
   "id": "47fdfa1b",
   "metadata": {},
   "outputs": [],
   "source": [
    "%%time\n",
    "df_best = get_best_param(sales_df_train, pr_df, st_df, first_date, list_holidays, list_var)\n",
    "df_best"
   ]
  },
  {
   "cell_type": "markdown",
   "id": "62b135b0",
   "metadata": {},
   "source": [
    "Подберём оптимальное количество недель за которые считается среднее по дням недели"
   ]
  },
  {
   "cell_type": "code",
   "execution_count": null,
   "id": "a6184811",
   "metadata": {},
   "outputs": [],
   "source": [
    "df_best_dict = df_best[df_best['score'] == df_best['score'].min()].reset_index(drop=True).loc[0, 'param']\n",
    "list_var = [{'n_week_for_lag': x} for x in [2, 3, 4]]\n",
    "for i in list_var:\n",
    "    i.update(df_best_dict)"
   ]
  },
  {
   "cell_type": "code",
   "execution_count": null,
   "id": "28d0cbab",
   "metadata": {},
   "outputs": [],
   "source": [
    "%%time\n",
    "df_best = get_best_param(sales_df_train, pr_df, st_df, first_date, list_holidays, list_var)\n",
    "df_best"
   ]
  },
  {
   "cell_type": "markdown",
   "id": "d470e247",
   "metadata": {},
   "source": [
    "Посчитаем оптимальное количество лагов"
   ]
  },
  {
   "cell_type": "code",
   "execution_count": null,
   "id": "9f6f1bc6",
   "metadata": {},
   "outputs": [],
   "source": [
    "df_best_dict = df_best[df_best['score'] == df_best['score'].min()].reset_index(drop=True).loc[0, 'param']\n",
    "list_var = [{'n_day_lag_list': x} for x in [list(range(1,8)), list(range(1,15)), list(range(1,21))]]\n",
    "for i in list_var:\n",
    "    i.update(df_best_dict)"
   ]
  },
  {
   "cell_type": "code",
   "execution_count": null,
   "id": "60bd7064",
   "metadata": {},
   "outputs": [],
   "source": [
    "%%time\n",
    "df_best = get_best_param(sales_df_train, pr_df, st_df, first_date, list_holidays, list_var)\n",
    "df_best"
   ]
  },
  {
   "cell_type": "code",
   "execution_count": null,
   "id": "4a6e2ee9",
   "metadata": {},
   "outputs": [],
   "source": [
    "df_best_dict = df_best[df_best['score'] == df_best['score'].min()].loc[0, 'param']"
   ]
  },
  {
   "cell_type": "markdown",
   "id": "57f153a7",
   "metadata": {},
   "source": [
    "Выведем список оптимальных параметров и получим датасеты с этими параметрами"
   ]
  },
  {
   "cell_type": "code",
   "execution_count": null,
   "id": "f9993759",
   "metadata": {},
   "outputs": [],
   "source": [
    "df_best_dict"
   ]
  },
  {
   "cell_type": "code",
   "execution_count": null,
   "id": "b2c28348",
   "metadata": {},
   "outputs": [],
   "source": [
    "df_best_dict = {'n_day_lag_list': [1, 2, 3, 4, 5, 6, 7],\n",
    "                 'n_week_for_lag': 2,\n",
    "                 'strareg_agg': 'mean',\n",
    "                 'drop_outliers': True,\n",
    "                 'threshold': 1.4,\n",
    "                 'var_for_null': 0.01,\n",
    "                 'var_for_na': 0.01}"
   ]
  },
  {
   "cell_type": "code",
   "execution_count": null,
   "id": "48ce273f",
   "metadata": {},
   "outputs": [],
   "source": [
    "df_train = preproceccing_df(sales_df_train[sales_df_train['date'] < first_date].copy(deep=True), \n",
    "                               pr_df, \n",
    "                               st_df,                             \n",
    "                               list_holidays = list_holidays,  \n",
    "                               **df_best_dict)\n",
    "df_test = preproceccing_df(sales_df_train[sales_df_train['date'] > '2023-05-15'].copy(deep=True), \n",
    "                           pr_df, \n",
    "                           st_df,                              \n",
    "                           list_holidays = list_holidays,\n",
    "                           is_train=False,\n",
    "                           **df_best_dict).loc[first_date]"
   ]
  },
  {
   "cell_type": "markdown",
   "id": "69f757f6",
   "metadata": {},
   "source": [
    "Оптимальные параметры для признаков {'n_day_lag_list': [1, 2, 3, 4, 5, 6, 7],\n",
    " 'n_week_for_lag': 2,\n",
    " 'strareg_agg': 'mean',\n",
    " 'drop_outliers': True,\n",
    " 'threshold': 1.4,\n",
    " 'var_for_null': 0.01,\n",
    " 'var_for_na': 0.01}"
   ]
  },
  {
   "cell_type": "markdown",
   "id": "47a1d638",
   "metadata": {},
   "source": [
    "Посмотрим на получившуюся метрику и на визуализацию."
   ]
  },
  {
   "cell_type": "code",
   "execution_count": null,
   "id": "73c97679",
   "metadata": {
    "scrolled": true
   },
   "outputs": [],
   "source": [
    "df_test_for_pred = df_test.loc[first_date]\n",
    "target_list = df_train.columns[df_train.columns.str.contains('target', case=False)]\n",
    "model = LinearRegression()\n",
    "dict_mod = fit_models(df_train, model, target_list)\n",
    "if 'target_0' in df_test_for_pred.columns:\n",
    "    df_test_for_pred = df_test_for_pred.drop('target_0', axis=1)\n",
    "pred = get_predict(df_test_for_pred, df_valid_data, st_df, pr_df, dict_mod)    "
   ]
  },
  {
   "cell_type": "code",
   "execution_count": null,
   "id": "941d9b53",
   "metadata": {},
   "outputs": [],
   "source": [
    "wape(pred['y_true'], pred['target'])"
   ]
  },
  {
   "cell_type": "markdown",
   "id": "6fc41b93",
   "metadata": {},
   "source": [
    "Учитывая, что для прогноза по ТЗ от нас требуется только предсказывать товары без промо, посмотрим на такие товары (передав соответствующие параметры в функцию прогноза."
   ]
  },
  {
   "cell_type": "code",
   "execution_count": null,
   "id": "9d80f260",
   "metadata": {},
   "outputs": [],
   "source": [
    "df_test_for_pred = df_test.loc[first_date]\n",
    "target_list = df_train.columns[df_train.columns.str.contains('target', case=False)]\n",
    "model = LinearRegression()\n",
    "dict_mod = fit_models(df_train, model, target_list)\n",
    "if 'target_0' in df_test_for_pred.columns:\n",
    "    df_test_for_pred = df_test_for_pred.drop('target_0', axis=1)\n",
    "pred = get_predict(df_test_for_pred, df_valid_data, st_df, pr_df, dict_mod, True, True)    "
   ]
  },
  {
   "cell_type": "code",
   "execution_count": null,
   "id": "fe264415",
   "metadata": {},
   "outputs": [],
   "source": [
    "wape(pred['y_true'], pred['target'])"
   ]
  },
  {
   "cell_type": "code",
   "execution_count": null,
   "id": "083d529f",
   "metadata": {},
   "outputs": [],
   "source": [
    "visualize_pred(pred, 'ансамбль LinearRegression с оптимизированными признаками')"
   ]
  },
  {
   "cell_type": "markdown",
   "id": "f1d7fdb3",
   "metadata": {},
   "source": [
    "Качество немного улучшилось, теперь убедимся в качестве модели на тестовой выборке"
   ]
  },
  {
   "cell_type": "code",
   "execution_count": null,
   "id": "f5fbd4a1",
   "metadata": {},
   "outputs": [],
   "source": [
    "model = CatBoostRegressor(random_state=123,\n",
    "                          loss_function = 'MultiRMSE',\n",
    "                          eval_metric = 'MultiRMSE',\n",
    "                          n_estimators = 700,\n",
    "                          thread_count = -1,\n",
    "                          verbose=False)"
   ]
  },
  {
   "cell_type": "code",
   "execution_count": null,
   "id": "eabc068c",
   "metadata": {},
   "outputs": [],
   "source": [
    "df_test_for_pred = df_test.loc[first_date]\n",
    "target_list = df_train.columns[df_train.columns.str.contains('target', case=False)]\n",
    "dict_mod = fit_models(df_train, model, target_list)\n",
    "if 'target_0' in df_test_for_pred.columns:\n",
    "    df_test_for_pred = df_test_for_pred.drop('target_0', axis=1)\n",
    "pred = get_predict(df_test_for_pred, df_valid_data, st_df, pr_df, dict_mod, True, True)      "
   ]
  },
  {
   "cell_type": "code",
   "execution_count": null,
   "id": "3fb3857e",
   "metadata": {},
   "outputs": [],
   "source": [
    "wape(pred['y_true'], pred['target'])"
   ]
  },
  {
   "cell_type": "markdown",
   "id": "339a66f3",
   "metadata": {},
   "source": [
    "Проведём грубую подборку параметов для кэтбуста. Поскольку будем подбирать только количество выборщиков, то сделаем это просто в цикле"
   ]
  },
  {
   "cell_type": "code",
   "execution_count": null,
   "id": "0bf0b2cb",
   "metadata": {},
   "outputs": [],
   "source": [
    "%%time\n",
    "for n in [250, 500, 750, 1000]:\n",
    "    model = CatBoostRegressor(random_state=123,\n",
    "                              loss_function = 'MultiRMSE',\n",
    "                              eval_metric = 'MultiRMSE',\n",
    "                              n_estimators = n,\n",
    "                              thread_count = -1,\n",
    "                              verbose=False)\n",
    "    df_test_for_pred = df_test.loc[first_date]\n",
    "    target_list = df_train.columns[df_train.columns.str.contains('target', case=False)]\n",
    "    dict_mod = fit_models(df_train, model, target_list)\n",
    "    if 'target_0' in df_test_for_pred.columns:\n",
    "        df_test_for_pred = df_test_for_pred.drop('target_0', axis=1)\n",
    "    pred = get_predict(df_test_for_pred, df_valid_data, st_df, pr_df, dict_mod, True, True)    \n",
    "    w = wape(pred['y_true'], pred['target'])\n",
    "    print(f'Количество выборщиков {n} wape {w}')"
   ]
  },
  {
   "cell_type": "markdown",
   "id": "86db086b",
   "metadata": {},
   "source": [
    "Лучшее качество показала модель с 250 выборщиками. Обучим эту модель и построим для неё график"
   ]
  },
  {
   "cell_type": "code",
   "execution_count": null,
   "id": "46781a5b",
   "metadata": {
    "scrolled": false
   },
   "outputs": [],
   "source": [
    "model = CatBoostRegressor(random_state=123,\n",
    "                          loss_function = 'MultiRMSE',\n",
    "                          eval_metric = 'MultiRMSE',\n",
    "                          n_estimators = 250,\n",
    "                          thread_count = -1,\n",
    "                          verbose=False)\n",
    "\n",
    "df_test_for_pred = df_test.loc[first_date]\n",
    "target_list = df_train.columns[df_train.columns.str.contains('target', case=False)]\n",
    "dict_mod = fit_models(df_train, model, target_list)\n",
    "if 'target_0' in df_test_for_pred.columns:\n",
    "    df_test_for_pred = df_test_for_pred.drop('target_0', axis=1)\n",
    "pred = get_predict(df_test_for_pred, df_valid_data, st_df, pr_df, dict_mod, True, True)     \n",
    "visualize_pred(pred, 'ансамбль CatBoostRegressor')"
   ]
  },
  {
   "cell_type": "markdown",
   "id": "e34dbb30",
   "metadata": {},
   "source": [
    "## Анализ влияния признаков"
   ]
  },
  {
   "cell_type": "markdown",
   "id": "5b98e9f0",
   "metadata": {},
   "source": [
    "Для каждой из построенных моделей посмотрим, какие признаки оказывают большее влияние (входят в топ 15), а также посчитаем какие признаки чаще оказываются в топ 15 для всех моделей."
   ]
  },
  {
   "cell_type": "code",
   "execution_count": null,
   "id": "23c7fc85",
   "metadata": {},
   "outputs": [],
   "source": [
    "def get_features_impotance(dict_mod, top):\n",
    "    list_df = []\n",
    "    for model in dict_mod.keys():\n",
    "        df = pd.DataFrame({'feature_names': dict_mod[model].feature_names_,\n",
    "                 'feature_importances': dict_mod[model].feature_importances_})\n",
    "        df = df.sort_values('feature_importances', ascending=False)\n",
    "        df['model_name'] = model\n",
    "        list_df.append(df.head(top))\n",
    "    return pd.concat(list_df, axis=0).reset_index(drop=True)"
   ]
  },
  {
   "cell_type": "code",
   "execution_count": null,
   "id": "8add3e66",
   "metadata": {},
   "outputs": [],
   "source": [
    "df_features_impotance = get_features_impotance(dict_mod, 15)"
   ]
  },
  {
   "cell_type": "markdown",
   "id": "b53b002d",
   "metadata": {},
   "source": [
    "Выведем список наиболее часто встречающихся признаков"
   ]
  },
  {
   "cell_type": "code",
   "execution_count": null,
   "id": "10d33fdf",
   "metadata": {},
   "outputs": [],
   "source": [
    "df_features_impotance['feature_names'].value_counts()"
   ]
  },
  {
   "cell_type": "markdown",
   "id": "c35baa15",
   "metadata": {},
   "source": [
    "Как видно из полученных результатов, больше всего на метрику оказывают влияние"
   ]
  },
  {
   "cell_type": "markdown",
   "id": "6c9ab64e",
   "metadata": {},
   "source": [
    "## Проверка на тестовой выборке"
   ]
  },
  {
   "cell_type": "markdown",
   "id": "8ef4b7b2",
   "metadata": {},
   "source": [
    "Сымитируем полную обррабоку датасета с сырыми данными, сразу отделим обучающий датасет от тестового, чтобы точно никаких утечек быть не могло."
   ]
  },
  {
   "cell_type": "markdown",
   "id": "0a80cfa4",
   "metadata": {},
   "source": [
    "Откроем датасеты"
   ]
  },
  {
   "cell_type": "code",
   "execution_count": null,
   "id": "b6571153",
   "metadata": {},
   "outputs": [],
   "source": [
    "sales_df_train = pd.read_csv(PATH_SALES_DF_TRAIN)\n",
    "sales_df_train['date'] = pd.to_datetime(sales_df_train['date'])\n",
    "sales_df_train = sales_df_train.sort_values('date')\n",
    "pr_df = pd.read_csv(PATH_TO_SAVE_PR_DF)\n",
    "st_df = pd.read_csv(PATH_TO_SAVE_ST_DF)"
   ]
  },
  {
   "cell_type": "markdown",
   "id": "a006457b",
   "metadata": {},
   "source": [
    "Выделим тренировочный набор и тестовый разделив их по последней дате валидации"
   ]
  },
  {
   "cell_type": "code",
   "execution_count": null,
   "id": "9d7addf0",
   "metadata": {},
   "outputs": [],
   "source": [
    "valid_end_date"
   ]
  },
  {
   "cell_type": "code",
   "execution_count": null,
   "id": "0fdc8d07",
   "metadata": {},
   "outputs": [],
   "source": [
    "df_for_train = sales_df_train[sales_df_train['date'] <= valid_end_date]\n",
    "df_for_pred = sales_df_train[sales_df_train['date'] <= valid_end_date]"
   ]
  },
  {
   "cell_type": "code",
   "execution_count": null,
   "id": "8265373f",
   "metadata": {},
   "outputs": [],
   "source": [
    "df_for_test = sales_df_train[sales_df_train['date'] > valid_end_date]\n",
    "df_for_test = df_for_test.rename(columns={'pr_sales_in_units': 'y_true'})"
   ]
  },
  {
   "cell_type": "markdown",
   "id": "c75e41ba",
   "metadata": {},
   "source": [
    "Для предсказания добавим один день со смещением вперёд (именно с него начнётся весь расчёт, для ниго мы можем рассчитать все параметры, поскольку все признаки считались с лагом -1)"
   ]
  },
  {
   "cell_type": "code",
   "execution_count": null,
   "id": "3d875923",
   "metadata": {},
   "outputs": [],
   "source": [
    "df_next_day = df_for_pred.loc[df_for_pred['date']==valid_end_date]\n",
    "df_next_day['pr_sales_in_units'] = 0\n",
    "df_next_day['date'] = valid_end_date + timedelta(days=1)\n",
    "df_next_day = df_next_day.reset_index(drop=True)\n",
    "df_for_pred = df_for_pred.reset_index(drop=True)\n",
    "df_for_pred.loc[len(df_for_pred.index)] = df_next_day.loc[0]"
   ]
  },
  {
   "cell_type": "markdown",
   "id": "4ceaad14",
   "metadata": {},
   "source": [
    "Задаим параметы, полученные выше"
   ]
  },
  {
   "cell_type": "code",
   "execution_count": null,
   "id": "37bf0047",
   "metadata": {},
   "outputs": [],
   "source": [
    "df_best_dict = {'n_day_lag_list': [1, 2, 3, 4, 5, 6, 7],\n",
    "                 'n_week_for_lag': 2,\n",
    "                 'strareg_agg': 'mean',\n",
    "                 'drop_outliers': True,\n",
    "                 'threshold': 1.4,\n",
    "                 'var_for_null': 0.01,\n",
    "                 'var_for_na': 0.01}"
   ]
  },
  {
   "cell_type": "markdown",
   "id": "6c54c114",
   "metadata": {},
   "source": [
    "Для рассчёта выборки для прогноза требуется 30 дней день лаг, поэтому данный датасет сможем ограничить, чтобы не предобрабатывать его целиком."
   ]
  },
  {
   "cell_type": "code",
   "execution_count": null,
   "id": "662b5300",
   "metadata": {},
   "outputs": [],
   "source": [
    "df_train = preproceccing_df(df_for_train.copy(deep=True), \n",
    "                               pr_df, \n",
    "                               st_df,                             \n",
    "                               list_holidays = list_holidays,  \n",
    "                               **df_best_dict)\n",
    "df_pred = preproceccing_df(df_for_pred[df_for_pred['date'] > valid_end_date - timedelta(days=30)].copy(deep=True), \n",
    "                           pr_df, \n",
    "                           st_df,                              \n",
    "                           list_holidays = list_holidays,\n",
    "                           is_train=False,\n",
    "                           **df_best_dict).loc[valid_end_date + timedelta(days=1)]"
   ]
  },
  {
   "cell_type": "markdown",
   "id": "1586eb79",
   "metadata": {},
   "source": [
    "Получим прогноз"
   ]
  },
  {
   "cell_type": "code",
   "execution_count": null,
   "id": "e0ec7c8d",
   "metadata": {},
   "outputs": [],
   "source": [
    "model = CatBoostRegressor(random_state=123,\n",
    "                          loss_function = 'MultiRMSE',\n",
    "                          eval_metric = 'MultiRMSE',\n",
    "                          n_estimators = 250,\n",
    "                          thread_count = -1,\n",
    "                          verbose=False)"
   ]
  },
  {
   "cell_type": "code",
   "execution_count": null,
   "id": "f93abb05",
   "metadata": {},
   "outputs": [],
   "source": [
    "target_list = df_train.columns[df_train.columns.str.contains('target', case=False)]\n",
    "dict_mod = fit_models(df_train, model, target_list)\n",
    "if 'target_0' in df_pred.columns:\n",
    "    df_pred = df_pred.drop('target_0', axis=1)\n",
    "pred = get_predict(df_pred, df_for_test, st_df, pr_df, dict_mod, True, True)     "
   ]
  },
  {
   "cell_type": "code",
   "execution_count": null,
   "id": "f223f4d2",
   "metadata": {},
   "outputs": [],
   "source": [
    "wape(pred['y_true'], pred['target'])"
   ]
  },
  {
   "cell_type": "code",
   "execution_count": null,
   "id": "58af34fb",
   "metadata": {},
   "outputs": [],
   "source": [
    "visualize_pred(pred, 'ансамбль CatBoostRegressor на тесте')"
   ]
  },
  {
   "cell_type": "markdown",
   "id": "409286da",
   "metadata": {},
   "source": [
    "Качество осталось на сопостовимом уровне. Теперь обучим модели на полном датасете и сохраним их"
   ]
  },
  {
   "cell_type": "code",
   "execution_count": null,
   "id": "74c362f8",
   "metadata": {},
   "outputs": [],
   "source": [
    "df_train = preproceccing_df(sales_df_train.copy(deep=True), \n",
    "                               pr_df, \n",
    "                               st_df,                             \n",
    "                               list_holidays = list_holidays,  \n",
    "                               **df_best_dict)"
   ]
  },
  {
   "cell_type": "code",
   "execution_count": null,
   "id": "7e6be0f5",
   "metadata": {},
   "outputs": [],
   "source": [
    "model = CatBoostRegressor(random_state=123,\n",
    "                          loss_function = 'MultiRMSE',\n",
    "                          eval_metric = 'MultiRMSE',\n",
    "                          n_estimators = 250,\n",
    "                          thread_count = -1,\n",
    "                          verbose=False)\n",
    "target_list = df_train.columns[df_train.columns.str.contains('target', case=False)]\n",
    "dict_mod = fit_models(df_train, model, target_list)"
   ]
  },
  {
   "cell_type": "markdown",
   "id": "a259fcf9",
   "metadata": {},
   "source": [
    "Сохраним получившиеся модели"
   ]
  },
  {
   "cell_type": "code",
   "execution_count": null,
   "id": "c49f6dcc",
   "metadata": {},
   "outputs": [],
   "source": [
    "for k in dict_mod.keys():\n",
    "    path_save = f'{PATH_TO_SAVE_MODELS}/{k}.pkl'\n",
    "    with open(path_save, \"wb\") as f:\n",
    "        pickle.dump(dict_mod[k], f)"
   ]
  },
  {
   "cell_type": "markdown",
   "id": "ba786ac5",
   "metadata": {},
   "source": [
    "## Прогнозирование спроса на сбмите"
   ]
  },
  {
   "cell_type": "code",
   "execution_count": null,
   "id": "8d588378",
   "metadata": {},
   "outputs": [],
   "source": [
    "sales_df_train = pd.read_csv(PATH_SALES_DF_TRAIN)\n",
    "pr_df = pd.read_csv(PATH_TO_SAVE_PR_DF)\n",
    "st_df = pd.read_csv(PATH_TO_SAVE_ST_DF)\n",
    "submissions_df = pd.read_csv(PATH_TO_SUMISSION_DF)"
   ]
  },
  {
   "cell_type": "markdown",
   "id": "f83ff55b",
   "metadata": {},
   "source": [
    "Создадим функцию, которая будет получать датасеты, производить с ними необходимую предообработку и делать прогноз."
   ]
  },
  {
   "cell_type": "code",
   "execution_count": null,
   "id": "6049d3b3",
   "metadata": {},
   "outputs": [],
   "source": [
    "def prediction_submitions(sales_df_train, pr_df, st_df, submissions_df, dict_mod):\n",
    "    sales_df_train['date'] = pd.to_datetime(sales_df_train['date'])\n",
    "    sales_df_train = sales_df_train.sort_values('date')\n",
    "    submissions_df['date'] = pd.to_datetime(submissions_df['date'])\n",
    "    submissions_df = submissions_df.drop('target', axis=1)\n",
    "           \n",
    "    df_for_pred = sales_df_train.copy(deep=True)\n",
    "    \n",
    "    #добавление в датасет следующей даты(для прогноза начиная с завтрашнего дня)\n",
    "    last_date = sales_df_train['date'].max() \n",
    "    df_next_day = df_for_pred.loc[df_for_pred['date']==last_date]\n",
    "    df_next_day['pr_sales_in_units'] = 0\n",
    "    df_next_day['date'] = last_date + timedelta(days=1)\n",
    "    df_next_day = df_next_day.reset_index(drop=True)\n",
    "    df_for_pred = df_for_pred.reset_index(drop=True)\n",
    "    df_for_pred.loc[len(df_for_pred.index)] = df_next_day.loc[0]\n",
    "    \n",
    "    # параметры для признаков\n",
    "    df_best_dict = {'n_day_lag_list': [1, 2, 3, 4, 5, 6, 7],\n",
    "                     'n_week_for_lag': 2,\n",
    "                     'strareg_agg': 'mean',\n",
    "                     'drop_outliers': True,\n",
    "                     'threshold': 1.4,\n",
    "                     'var_for_null': 0.01,\n",
    "                     'var_for_na': 0.01}\n",
    "    \n",
    "    #проводим препроцессинг только для данных, за 30 дней назад\n",
    "    df_pred = preproceccing_df(df_for_pred[df_for_pred['date'] > last_date - timedelta(days=30)].copy(deep=True), \n",
    "                               pr_df, \n",
    "                               st_df,                              \n",
    "                               list_holidays = list_holidays,\n",
    "                               is_train=False,\n",
    "                               **df_best_dict).loc[last_date + timedelta(days=1)]\n",
    "    \n",
    "    target_list = df_train.columns[df_train.columns.str.contains('target', case=False)]\n",
    "    if 'target_0' in df_pred.columns:\n",
    "        df_pred = df_pred.drop('target_0', axis=1)\n",
    "    pred = get_predict(df_pred, \n",
    "                       submissions_df, \n",
    "                       st_df, \n",
    "                       pr_df, \n",
    "                       dict_mod, \n",
    "                       not_promo=True, \n",
    "                       only_st_sku=True)   \n",
    "    return pred"
   ]
  },
  {
   "cell_type": "code",
   "execution_count": null,
   "id": "957f157a",
   "metadata": {},
   "outputs": [],
   "source": [
    "submissions = prediction_submitions(sales_df_train, pr_df, st_df, submitions_df, dict_mod)"
   ]
  },
  {
   "cell_type": "code",
   "execution_count": null,
   "id": "5b3f97a5",
   "metadata": {},
   "outputs": [],
   "source": [
    "submissions.to_csv(PATH_TO_SAVE_SUMISSION_DF,index=False)"
   ]
  },
  {
   "cell_type": "markdown",
   "id": "21a38e3c",
   "metadata": {},
   "source": [
    "## Общие выводы"
   ]
  },
  {
   "cell_type": "markdown",
   "id": "ed3c3207",
   "metadata": {},
   "source": [
    "В данном разделе была проведена работа по созданию модели машинного обучения и оценки её качества, в частности:\n",
    "1. Создан baislain в виде наивной модели, которая прогнозирует спрос на уровне последнего известного проса\n",
    "2. Разработан ансамбль моделей, каждый из которых прогназирует спрос для своего сегмента (сочетание категории товаров - группа магазинов). Данный алгоритм показал более высокий уровень чем baislain.\n",
    "3. Написаны функции как для тренировки моделей, так и для получения предсказаний.\n",
    "4. Оптимизированы признаки путём подбора наиболее эффективных значений.\n",
    "5. Всё это позволило получить wape на валидационной и отложеной выборке меньше 0,8."
   ]
  },
  {
   "cell_type": "markdown",
   "id": "b74a915f",
   "metadata": {},
   "source": [
    "### Что ещё нужно сделать"
   ]
  },
  {
   "cell_type": "markdown",
   "id": "b912c3f9",
   "metadata": {},
   "source": [
    "В данной работе необходимо доделать (то на что не хватило времени):\n",
    "1. Проработать группировку сочетания категории товаров - группа магазинов, вероятно можно улучшить каечство прогноза оптимизировав группировку (при любой группировке всегда будет предел качества, в который уткнётся модель). Следовательно нужно опять проработать EDA.\n",
    "2. Поэкспериментировать с Catboostom, возможно он сможет дать лучшее качество модели.\n",
    "3. Сделать предварительную генерацию признаков при помощи Propheta.\n",
    "4. Провести подбор гиперпараметров на кроссвалидации (оптимально, если бы были данные за предыдущие года, чтобы модель научилась предсказывать годовую сезонность)."
   ]
  },
  {
   "cell_type": "code",
   "execution_count": null,
   "id": "37975b20",
   "metadata": {},
   "outputs": [],
   "source": []
  }
 ],
 "metadata": {
  "kernelspec": {
   "display_name": "Python 3 (ipykernel)",
   "language": "python",
   "name": "python3"
  },
  "language_info": {
   "codemirror_mode": {
    "name": "ipython",
    "version": 3
   },
   "file_extension": ".py",
   "mimetype": "text/x-python",
   "name": "python",
   "nbconvert_exporter": "python",
   "pygments_lexer": "ipython3",
   "version": "3.10.11"
  }
 },
 "nbformat": 4,
 "nbformat_minor": 5
}
